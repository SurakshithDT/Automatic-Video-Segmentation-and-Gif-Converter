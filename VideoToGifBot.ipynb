{
 "cells": [
  {
   "cell_type": "code",
   "execution_count": 1,
   "id": "312be339-ff79-4595-a8aa-546b64e849b7",
   "metadata": {},
   "outputs": [
    {
     "name": "stdout",
     "output_type": "stream",
     "text": [
      "Requirement already satisfied: moviepy in c:\\users\\91636\\anaconda3\\conda\\lib\\site-packages (1.0.3)\n",
      "Requirement already satisfied: whisper in c:\\users\\91636\\anaconda3\\conda\\lib\\site-packages (1.1.10)\n",
      "Requirement already satisfied: transformers in c:\\users\\91636\\anaconda3\\conda\\lib\\site-packages (4.32.1)\n",
      "Requirement already satisfied: decorator<5.0,>=4.0.2 in c:\\users\\91636\\anaconda3\\conda\\lib\\site-packages (from moviepy) (4.4.2)\n",
      "Requirement already satisfied: tqdm<5.0,>=4.11.2 in c:\\users\\91636\\anaconda3\\conda\\lib\\site-packages (from moviepy) (4.65.0)\n",
      "Requirement already satisfied: requests<3.0,>=2.8.1 in c:\\users\\91636\\anaconda3\\conda\\lib\\site-packages (from moviepy) (2.31.0)\n",
      "Requirement already satisfied: proglog<=1.0.0 in c:\\users\\91636\\anaconda3\\conda\\lib\\site-packages (from moviepy) (0.1.10)\n",
      "Requirement already satisfied: numpy>=1.17.3 in c:\\users\\91636\\anaconda3\\conda\\lib\\site-packages (from moviepy) (1.26.2)\n",
      "Requirement already satisfied: imageio<3.0,>=2.5 in c:\\users\\91636\\anaconda3\\conda\\lib\\site-packages (from moviepy) (2.31.4)\n",
      "Requirement already satisfied: imageio-ffmpeg>=0.2.0 in c:\\users\\91636\\anaconda3\\conda\\lib\\site-packages (from moviepy) (0.5.1)\n",
      "Requirement already satisfied: six in c:\\users\\91636\\anaconda3\\conda\\lib\\site-packages (from whisper) (1.16.0)\n",
      "Requirement already satisfied: filelock in c:\\users\\91636\\anaconda3\\conda\\lib\\site-packages (from transformers) (3.13.1)\n",
      "Requirement already satisfied: huggingface-hub<1.0,>=0.15.1 in c:\\users\\91636\\anaconda3\\conda\\lib\\site-packages (from transformers) (0.17.3)\n",
      "Requirement already satisfied: packaging>=20.0 in c:\\users\\91636\\anaconda3\\conda\\lib\\site-packages (from transformers) (23.1)\n",
      "Requirement already satisfied: pyyaml>=5.1 in c:\\users\\91636\\anaconda3\\conda\\lib\\site-packages (from transformers) (6.0.1)\n",
      "Requirement already satisfied: regex!=2019.12.17 in c:\\users\\91636\\anaconda3\\conda\\lib\\site-packages (from transformers) (2023.10.3)\n",
      "Requirement already satisfied: tokenizers!=0.11.3,<0.14,>=0.11.1 in c:\\users\\91636\\anaconda3\\conda\\lib\\site-packages (from transformers) (0.13.3)\n",
      "Requirement already satisfied: safetensors>=0.3.1 in c:\\users\\91636\\anaconda3\\conda\\lib\\site-packages (from transformers) (0.4.0)\n",
      "Requirement already satisfied: fsspec in c:\\users\\91636\\anaconda3\\conda\\lib\\site-packages (from huggingface-hub<1.0,>=0.15.1->transformers) (2023.10.0)\n",
      "Requirement already satisfied: typing-extensions>=3.7.4.3 in c:\\users\\91636\\anaconda3\\conda\\lib\\site-packages (from huggingface-hub<1.0,>=0.15.1->transformers) (4.9.0)\n",
      "Requirement already satisfied: pillow>=8.3.2 in c:\\users\\91636\\anaconda3\\conda\\lib\\site-packages (from imageio<3.0,>=2.5->moviepy) (10.0.1)\n",
      "Requirement already satisfied: setuptools in c:\\users\\91636\\anaconda3\\conda\\lib\\site-packages (from imageio-ffmpeg>=0.2.0->moviepy) (68.0.0)\n",
      "Requirement already satisfied: charset-normalizer<4,>=2 in c:\\users\\91636\\anaconda3\\conda\\lib\\site-packages (from requests<3.0,>=2.8.1->moviepy) (2.0.4)\n",
      "Requirement already satisfied: idna<4,>=2.5 in c:\\users\\91636\\anaconda3\\conda\\lib\\site-packages (from requests<3.0,>=2.8.1->moviepy) (3.4)\n",
      "Requirement already satisfied: urllib3<3,>=1.21.1 in c:\\users\\91636\\anaconda3\\conda\\lib\\site-packages (from requests<3.0,>=2.8.1->moviepy) (1.26.18)\n",
      "Requirement already satisfied: certifi>=2017.4.17 in c:\\users\\91636\\anaconda3\\conda\\lib\\site-packages (from requests<3.0,>=2.8.1->moviepy) (2023.11.17)\n",
      "Requirement already satisfied: colorama in c:\\users\\91636\\anaconda3\\conda\\lib\\site-packages (from tqdm<5.0,>=4.11.2->moviepy) (0.4.6)\n",
      "Note: you may need to restart the kernel to use updated packages.\n"
     ]
    }
   ],
   "source": [
    "pip install moviepy whisper transformers\n"
   ]
  },
  {
   "cell_type": "code",
   "execution_count": 2,
   "id": "245a094e-09db-48a0-9b17-4824bab5c825",
   "metadata": {},
   "outputs": [
    {
     "name": "stdout",
     "output_type": "stream",
     "text": [
      "Requirement already satisfied: pycaption in c:\\users\\91636\\anaconda3\\conda\\lib\\site-packages (2.2.11)\n",
      "Requirement already satisfied: beautifulsoup4>=4.12.1 in c:\\users\\91636\\anaconda3\\conda\\lib\\site-packages (from pycaption) (4.12.2)\n",
      "Requirement already satisfied: lxml>=4.9.1 in c:\\users\\91636\\anaconda3\\conda\\lib\\site-packages (from pycaption) (4.9.3)\n",
      "Requirement already satisfied: cssutils>=2.0.0 in c:\\users\\91636\\anaconda3\\conda\\lib\\site-packages (from pycaption) (2.11.1)\n",
      "Requirement already satisfied: soupsieve>1.2 in c:\\users\\91636\\anaconda3\\conda\\lib\\site-packages (from beautifulsoup4>=4.12.1->pycaption) (2.5)\n",
      "Requirement already satisfied: more-itertools in c:\\users\\91636\\anaconda3\\conda\\lib\\site-packages (from cssutils>=2.0.0->pycaption) (10.1.0)\n",
      "Note: you may need to restart the kernel to use updated packages.\n"
     ]
    }
   ],
   "source": [
    "pip install pycaption\n"
   ]
  },
  {
   "cell_type": "code",
   "execution_count": 5,
   "id": "2cfccaf0-7b86-495a-ac29-b83fd52dde82",
   "metadata": {},
   "outputs": [
    {
     "name": "stdout",
     "output_type": "stream",
     "text": [
      "Requirement already satisfied: pytesseract in c:\\users\\91636\\anaconda3\\conda\\lib\\site-packages (0.3.10)\n",
      "Requirement already satisfied: packaging>=21.3 in c:\\users\\91636\\anaconda3\\conda\\lib\\site-packages (from pytesseract) (23.1)\n",
      "Requirement already satisfied: Pillow>=8.0.0 in c:\\users\\91636\\anaconda3\\conda\\lib\\site-packages (from pytesseract) (10.0.1)\n",
      "Note: you may need to restart the kernel to use updated packages.\n"
     ]
    }
   ],
   "source": [
    "pip install pytesseract\n"
   ]
  },
  {
   "cell_type": "code",
   "execution_count": 4,
   "id": "3c7ec5ea-90bb-4e87-b8cc-ad10a379d0a3",
   "metadata": {},
   "outputs": [
    {
     "name": "stderr",
     "output_type": "stream",
     "text": [
      "INFO:__main__:Loading Whisper model...\n",
      "INFO:__main__:Model loaded.\n",
      "INFO:__main__:Extracting audio from video: C:/Users/91636/video.mp4\n"
     ]
    },
    {
     "name": "stdout",
     "output_type": "stream",
     "text": [
      "MoviePy - Writing audio in temp_audio.wav\n"
     ]
    },
    {
     "name": "stderr",
     "output_type": "stream",
     "text": [
      "INFO:__main__:Analyzing audio for silence...                          \n"
     ]
    },
    {
     "name": "stdout",
     "output_type": "stream",
     "text": [
      "MoviePy - Done.\n"
     ]
    },
    {
     "name": "stderr",
     "output_type": "stream",
     "text": [
      "INFO:__main__:Silent segments detected: [(0.0, 1.082), (2.252, 4.391), (6.444, 7.643), (14.151, 15.065), (16.92, 17.982), (21.325, 22.15), (22.796, 23.723), (27.295, 28.187), (28.633, 29.551), (31.092, 33.466), (37.01, 41.081), (45.047, 45.584), (50.268, 51.368), (54.112, 55.815), (56.472, 62.41), (63.313, 65.816), (66.712, 67.779), (67.814, 68.945), (69.721, 72.159), (72.662, 74.507), (76.038, 78.756), (79.394, 85.969), (86.847, 88.229), (89.23, 90.161), (91.143, 92.154), (93.238, 94.223), (95.19, 96.478), (99.295, 99.952), (99.982, 100.901), (102.155, 103.383), (104.115, 105.487), (108.968, 109.764), (115.608, 117.17), (117.886, 118.623), (119.434, 122.89), (124.281, 125.2), (126.728, 127.856), (130.984, 131.749), (135.865, 137.522), (139.887, 141.073), (143.446, 144.441), (148.748, 149.301), (152.976, 153.653), (154.668, 155.959), (160.682, 161.597), (163.004, 163.662), (166.645, 167.835), (169.962, 170.885), (173.832, 177.179), (177.197, 178.113), (178.649, 179.73)]\n",
      "INFO:__main__:Non-silent segments: [(1.082, 2.252), (4.391, 6.444), (7.643, 14.151), (15.065, 16.92), (17.982, 21.325), (22.15, 22.796), (23.723, 27.295), (28.187, 28.633), (29.551, 31.092), (33.466, 37.01), (41.081, 45.047), (45.584, 50.268), (51.368, 54.112), (55.815, 56.472), (62.41, 63.313), (65.816, 66.712), (67.779, 67.814), (68.945, 69.721), (72.159, 72.662), (74.507, 76.038), (78.756, 79.394), (85.969, 86.847), (88.229, 89.23), (90.161, 91.143), (92.154, 93.238), (94.223, 95.19), (96.478, 99.295), (99.952, 99.982), (100.901, 102.155), (103.383, 104.115), (105.487, 108.968), (109.764, 115.608), (117.17, 117.886), (118.623, 119.434), (122.89, 124.281), (125.2, 126.728), (127.856, 130.984), (131.749, 135.865), (137.522, 139.887), (141.073, 143.446), (144.441, 148.748), (149.301, 152.976), (153.653, 154.668), (155.959, 160.682), (161.597, 163.004), (163.662, 166.645), (167.835, 169.962), (170.885, 173.832), (177.179, 177.197), (178.113, 178.649)]\n",
      "INFO:__main__:Cutting video segment: start_time=1.082, end_time=2.252, output_path=output_videoss/segment_0.mp4\n",
      "INFO:__main__:Video segment cut.\n"
     ]
    },
    {
     "name": "stdout",
     "output_type": "stream",
     "text": [
      "Moviepy - Running:\n",
      ">>> \"+ \" \".join(cmd)\n",
      "Moviepy - Command successful\n",
      "MoviePy - Writing audio in output_videoss/segment_0_audio.wav\n"
     ]
    },
    {
     "name": "stderr",
     "output_type": "stream",
     "text": [
      "                                                               \r"
     ]
    },
    {
     "name": "stdout",
     "output_type": "stream",
     "text": [
      "MoviePy - Done.\n",
      "MoviePy - Building file output_videoss/segment_0.gif with imageio.\n"
     ]
    },
    {
     "name": "stderr",
     "output_type": "stream",
     "text": [
      "INFO:__main__:Cutting video segment: start_time=4.391, end_time=6.444, output_path=output_videoss/segment_1.mp4\n"
     ]
    },
    {
     "name": "stdout",
     "output_type": "stream",
     "text": [
      "Moviepy - Running:\n",
      ">>> \"+ \" \".join(cmd)\n"
     ]
    },
    {
     "name": "stderr",
     "output_type": "stream",
     "text": [
      "INFO:__main__:Video segment cut.\n"
     ]
    },
    {
     "name": "stdout",
     "output_type": "stream",
     "text": [
      "Moviepy - Command successful\n",
      "MoviePy - Writing audio in output_videoss/segment_1_audio.wav\n"
     ]
    },
    {
     "name": "stderr",
     "output_type": "stream",
     "text": [
      "                                                               \r"
     ]
    },
    {
     "name": "stdout",
     "output_type": "stream",
     "text": [
      "MoviePy - Done.\n",
      "MoviePy - Building file output_videoss/segment_1.gif with imageio.\n"
     ]
    },
    {
     "name": "stderr",
     "output_type": "stream",
     "text": [
      "INFO:__main__:Cutting video segment: start_time=7.643, end_time=14.151, output_path=output_videoss/segment_2.mp4\n",
      "INFO:__main__:Video segment cut.\n"
     ]
    },
    {
     "name": "stdout",
     "output_type": "stream",
     "text": [
      "Moviepy - Running:\n",
      ">>> \"+ \" \".join(cmd)\n",
      "Moviepy - Command successful\n",
      "MoviePy - Writing audio in output_videoss/segment_2_audio.wav\n"
     ]
    },
    {
     "name": "stderr",
     "output_type": "stream",
     "text": [
      "                                                                   \r"
     ]
    },
    {
     "name": "stdout",
     "output_type": "stream",
     "text": [
      "MoviePy - Done.\n",
      "MoviePy - Building file output_videoss/segment_2.gif with imageio.\n"
     ]
    },
    {
     "name": "stderr",
     "output_type": "stream",
     "text": [
      "INFO:__main__:Cutting video segment: start_time=15.065, end_time=16.92, output_path=output_videoss/segment_3.mp4\n",
      "INFO:__main__:Video segment cut.\n"
     ]
    },
    {
     "name": "stdout",
     "output_type": "stream",
     "text": [
      "Moviepy - Running:\n",
      ">>> \"+ \" \".join(cmd)\n",
      "Moviepy - Command successful\n",
      "MoviePy - Writing audio in output_videoss/segment_3_audio.wav\n"
     ]
    },
    {
     "name": "stderr",
     "output_type": "stream",
     "text": [
      "                                                                  \r"
     ]
    },
    {
     "name": "stdout",
     "output_type": "stream",
     "text": [
      "MoviePy - Done.\n",
      "MoviePy - Building file output_videoss/segment_3.gif with imageio.\n"
     ]
    },
    {
     "name": "stderr",
     "output_type": "stream",
     "text": [
      "INFO:__main__:Cutting video segment: start_time=17.982, end_time=21.325, output_path=output_videoss/segment_4.mp4\n",
      "INFO:__main__:Video segment cut.\n"
     ]
    },
    {
     "name": "stdout",
     "output_type": "stream",
     "text": [
      "Moviepy - Running:\n",
      ">>> \"+ \" \".join(cmd)\n",
      "Moviepy - Command successful\n",
      "MoviePy - Writing audio in output_videoss/segment_4_audio.wav\n"
     ]
    },
    {
     "name": "stderr",
     "output_type": "stream",
     "text": [
      "                                                        "
     ]
    },
    {
     "name": "stdout",
     "output_type": "stream",
     "text": [
      "MoviePy - Done.\n"
     ]
    },
    {
     "name": "stderr",
     "output_type": "stream",
     "text": [
      "\r"
     ]
    },
    {
     "name": "stdout",
     "output_type": "stream",
     "text": [
      "MoviePy - Building file output_videoss/segment_4.gif with imageio.\n"
     ]
    },
    {
     "name": "stderr",
     "output_type": "stream",
     "text": [
      "INFO:__main__:Cutting video segment: start_time=22.15, end_time=22.796, output_path=output_videoss/segment_5.mp4\n",
      "INFO:__main__:Video segment cut.\n"
     ]
    },
    {
     "name": "stdout",
     "output_type": "stream",
     "text": [
      "Moviepy - Running:\n",
      ">>> \"+ \" \".join(cmd)\n",
      "Moviepy - Command successful\n",
      "MoviePy - Writing audio in output_videoss/segment_5_audio.wav\n"
     ]
    },
    {
     "name": "stderr",
     "output_type": "stream",
     "text": [
      "chunk:   0%|          | 0/63 [00:00<?, ?it/s, now=None]ERROR:__main__:Error converting video to audio: index -32925 is out of bounds for axis 0 with size 29257\n",
      "                                                       \r"
     ]
    },
    {
     "name": "stdout",
     "output_type": "stream",
     "text": [
      "MoviePy - Building file output_videoss/segment_5.gif with imageio.\n"
     ]
    },
    {
     "name": "stderr",
     "output_type": "stream",
     "text": [
      "ERROR:__main__:Error removing intermediate files: [WinError 32] The process cannot access the file because it is being used by another process: 'output_videoss/segment_5.mp4'\n",
      "INFO:__main__:Cutting video segment: start_time=23.723, end_time=27.295, output_path=output_videoss/segment_6.mp4\n",
      "INFO:__main__:Video segment cut.\n"
     ]
    },
    {
     "name": "stdout",
     "output_type": "stream",
     "text": [
      "Moviepy - Running:\n",
      ">>> \"+ \" \".join(cmd)\n",
      "Moviepy - Command successful\n",
      "MoviePy - Writing audio in output_videoss/segment_6_audio.wav\n"
     ]
    },
    {
     "name": "stderr",
     "output_type": "stream",
     "text": [
      "                                                                \r"
     ]
    },
    {
     "name": "stdout",
     "output_type": "stream",
     "text": [
      "MoviePy - Done.\n",
      "MoviePy - Building file output_videoss/segment_6.gif with imageio.\n"
     ]
    },
    {
     "name": "stderr",
     "output_type": "stream",
     "text": [
      "t:  95%|█████████▌| 103/108 [00:01<00:00, 63.02it/s, now=None]WARNING:py.warnings:C:\\Users\\91636\\anaconda3\\conda\\Lib\\site-packages\\moviepy\\video\\io\\ffmpeg_reader.py:123: UserWarning: Warning: in file output_videoss/segment_6_with_text.mp4, 5391360 bytes wanted but 0 bytes read,at frame 107/108, at time 3.57/3.57 sec. Using the last valid frame instead.\n",
      "  warnings.warn(\"Warning: in file %s, \"%(self.filename)+\n",
      "\n",
      "INFO:__main__:Cutting video segment: start_time=28.187, end_time=28.633, output_path=output_videoss/segment_7.mp4\n",
      "INFO:__main__:Video segment cut.\n"
     ]
    },
    {
     "name": "stdout",
     "output_type": "stream",
     "text": [
      "Moviepy - Running:\n",
      ">>> \"+ \" \".join(cmd)\n",
      "Moviepy - Command successful\n",
      "MoviePy - Writing audio in output_videoss/segment_7_audio.wav\n"
     ]
    },
    {
     "name": "stderr",
     "output_type": "stream",
     "text": [
      "                                                               "
     ]
    },
    {
     "name": "stdout",
     "output_type": "stream",
     "text": [
      "MoviePy - Done.\n"
     ]
    },
    {
     "name": "stderr",
     "output_type": "stream",
     "text": [
      "\r"
     ]
    },
    {
     "name": "stdout",
     "output_type": "stream",
     "text": [
      "MoviePy - Building file output_videoss/segment_7.gif with imageio.\n"
     ]
    },
    {
     "name": "stderr",
     "output_type": "stream",
     "text": [
      "t: 100%|██████████| 15/15 [00:00<00:00, 65.17it/s, now=None]WARNING:py.warnings:C:\\Users\\91636\\anaconda3\\conda\\Lib\\site-packages\\moviepy\\video\\io\\ffmpeg_reader.py:123: UserWarning: Warning: in file output_videoss/segment_7_with_text.mp4, 5391360 bytes wanted but 0 bytes read,at frame 14/15, at time 0.47/0.47 sec. Using the last valid frame instead.\n",
      "  warnings.warn(\"Warning: in file %s, \"%(self.filename)+\n",
      "\n",
      "INFO:__main__:Cutting video segment: start_time=29.551, end_time=31.092, output_path=output_videoss/segment_8.mp4\n",
      "INFO:__main__:Video segment cut.\n"
     ]
    },
    {
     "name": "stdout",
     "output_type": "stream",
     "text": [
      "Moviepy - Running:\n",
      ">>> \"+ \" \".join(cmd)\n",
      "Moviepy - Command successful\n",
      "MoviePy - Writing audio in output_videoss/segment_8_audio.wav\n"
     ]
    },
    {
     "name": "stderr",
     "output_type": "stream",
     "text": [
      "chunk:   4%|▍         | 3/69 [00:00<00:02, 27.59it/s, now=None]WARNING:py.warnings:C:\\Users\\91636\\anaconda3\\conda\\Lib\\site-packages\\moviepy\\audio\\io\\readers.py:197: UserWarning: Error in file output_videoss/segment_8.mp4, At time t=1.57-1.62 seconds, indices wanted: 67947-69927, but len(buffer)=67948\n",
      "index 67948 is out of bounds for axis 0 with size 67948\n",
      "  warnings.warn(\"Error in file %s, \"%(self.filename)+\n",
      "\n",
      "WARNING:py.warnings:C:\\Users\\91636\\anaconda3\\conda\\Lib\\site-packages\\moviepy\\audio\\io\\readers.py:197: UserWarning: Error in file output_videoss/segment_8.mp4, At time t=1.62-1.66 seconds, indices wanted: 67947-69928, but len(buffer)=67948\n",
      "index 67948 is out of bounds for axis 0 with size 67948\n",
      "  warnings.warn(\"Error in file %s, \"%(self.filename)+\n",
      "\n",
      "WARNING:py.warnings:C:\\Users\\91636\\anaconda3\\conda\\Lib\\site-packages\\moviepy\\audio\\io\\readers.py:197: UserWarning: Error in file output_videoss/segment_8.mp4, At time t=1.66-1.71 seconds, indices wanted: 67947-69927, but len(buffer)=67948\n",
      "index 67948 is out of bounds for axis 0 with size 67948\n",
      "  warnings.warn(\"Error in file %s, \"%(self.filename)+\n",
      "\n",
      "WARNING:py.warnings:C:\\Users\\91636\\anaconda3\\conda\\Lib\\site-packages\\moviepy\\audio\\io\\readers.py:197: UserWarning: Error in file output_videoss/segment_8.mp4, At time t=1.71-1.75 seconds, indices wanted: 67947-69927, but len(buffer)=67948\n",
      "index 67948 is out of bounds for axis 0 with size 67948\n",
      "  warnings.warn(\"Error in file %s, \"%(self.filename)+\n",
      "\n",
      "WARNING:py.warnings:C:\\Users\\91636\\anaconda3\\conda\\Lib\\site-packages\\moviepy\\audio\\io\\readers.py:197: UserWarning: Error in file output_videoss/segment_8.mp4, At time t=1.75-1.80 seconds, indices wanted: 67947-69928, but len(buffer)=67948\n",
      "index 67948 is out of bounds for axis 0 with size 67948\n",
      "  warnings.warn(\"Error in file %s, \"%(self.filename)+\n",
      "\n",
      "WARNING:py.warnings:C:\\Users\\91636\\anaconda3\\conda\\Lib\\site-packages\\moviepy\\audio\\io\\readers.py:197: UserWarning: Error in file output_videoss/segment_8.mp4, At time t=1.80-1.84 seconds, indices wanted: 67947-69927, but len(buffer)=67948\n",
      "index 67948 is out of bounds for axis 0 with size 67948\n",
      "  warnings.warn(\"Error in file %s, \"%(self.filename)+\n",
      "\n",
      "WARNING:py.warnings:C:\\Users\\91636\\anaconda3\\conda\\Lib\\site-packages\\moviepy\\audio\\io\\readers.py:197: UserWarning: Error in file output_videoss/segment_8.mp4, At time t=1.84-1.89 seconds, indices wanted: 67947-69927, but len(buffer)=67948\n",
      "index 67948 is out of bounds for axis 0 with size 67948\n",
      "  warnings.warn(\"Error in file %s, \"%(self.filename)+\n",
      "\n",
      "WARNING:py.warnings:C:\\Users\\91636\\anaconda3\\conda\\Lib\\site-packages\\moviepy\\audio\\io\\readers.py:197: UserWarning: Error in file output_videoss/segment_8.mp4, At time t=1.89-1.93 seconds, indices wanted: 67947-69928, but len(buffer)=67948\n",
      "index 67948 is out of bounds for axis 0 with size 67948\n",
      "  warnings.warn(\"Error in file %s, \"%(self.filename)+\n",
      "\n",
      "WARNING:py.warnings:C:\\Users\\91636\\anaconda3\\conda\\Lib\\site-packages\\moviepy\\audio\\io\\readers.py:197: UserWarning: Error in file output_videoss/segment_8.mp4, At time t=1.93-1.98 seconds, indices wanted: 67947-69927, but len(buffer)=67948\n",
      "index 67948 is out of bounds for axis 0 with size 67948\n",
      "  warnings.warn(\"Error in file %s, \"%(self.filename)+\n",
      "\n",
      "WARNING:py.warnings:C:\\Users\\91636\\anaconda3\\conda\\Lib\\site-packages\\moviepy\\audio\\io\\readers.py:197: UserWarning: Error in file output_videoss/segment_8.mp4, At time t=1.98-2.02 seconds, indices wanted: 67947-69927, but len(buffer)=67948\n",
      "index 67948 is out of bounds for axis 0 with size 67948\n",
      "  warnings.warn(\"Error in file %s, \"%(self.filename)+\n",
      "\n",
      "WARNING:py.warnings:C:\\Users\\91636\\anaconda3\\conda\\Lib\\site-packages\\moviepy\\audio\\io\\readers.py:197: UserWarning: Error in file output_videoss/segment_8.mp4, At time t=2.02-2.07 seconds, indices wanted: 67947-69928, but len(buffer)=67948\n",
      "index 67948 is out of bounds for axis 0 with size 67948\n",
      "  warnings.warn(\"Error in file %s, \"%(self.filename)+\n",
      "\n",
      "WARNING:py.warnings:C:\\Users\\91636\\anaconda3\\conda\\Lib\\site-packages\\moviepy\\audio\\io\\readers.py:197: UserWarning: Error in file output_videoss/segment_8.mp4, At time t=2.07-2.11 seconds, indices wanted: 67947-69927, but len(buffer)=67948\n",
      "index 67948 is out of bounds for axis 0 with size 67948\n",
      "  warnings.warn(\"Error in file %s, \"%(self.filename)+\n",
      "\n",
      "WARNING:py.warnings:C:\\Users\\91636\\anaconda3\\conda\\Lib\\site-packages\\moviepy\\audio\\io\\readers.py:197: UserWarning: Error in file output_videoss/segment_8.mp4, At time t=2.11-2.16 seconds, indices wanted: 67947-69927, but len(buffer)=67948\n",
      "index 67948 is out of bounds for axis 0 with size 67948\n",
      "  warnings.warn(\"Error in file %s, \"%(self.filename)+\n",
      "\n",
      "WARNING:py.warnings:C:\\Users\\91636\\anaconda3\\conda\\Lib\\site-packages\\moviepy\\audio\\io\\readers.py:197: UserWarning: Error in file output_videoss/segment_8.mp4, At time t=2.16-2.20 seconds, indices wanted: 67947-69927, but len(buffer)=67948\n",
      "index 67948 is out of bounds for axis 0 with size 67948\n",
      "  warnings.warn(\"Error in file %s, \"%(self.filename)+\n",
      "\n",
      "WARNING:py.warnings:C:\\Users\\91636\\anaconda3\\conda\\Lib\\site-packages\\moviepy\\audio\\io\\readers.py:197: UserWarning: Error in file output_videoss/segment_8.mp4, At time t=2.20-2.25 seconds, indices wanted: 67947-69928, but len(buffer)=67948\n",
      "index 67948 is out of bounds for axis 0 with size 67948\n",
      "  warnings.warn(\"Error in file %s, \"%(self.filename)+\n",
      "\n",
      "WARNING:py.warnings:C:\\Users\\91636\\anaconda3\\conda\\Lib\\site-packages\\moviepy\\audio\\io\\readers.py:197: UserWarning: Error in file output_videoss/segment_8.mp4, At time t=2.25-2.29 seconds, indices wanted: 67947-69927, but len(buffer)=67948\n",
      "index 67948 is out of bounds for axis 0 with size 67948\n",
      "  warnings.warn(\"Error in file %s, \"%(self.filename)+\n",
      "\n",
      "WARNING:py.warnings:C:\\Users\\91636\\anaconda3\\conda\\Lib\\site-packages\\moviepy\\audio\\io\\readers.py:197: UserWarning: Error in file output_videoss/segment_8.mp4, At time t=2.29-2.34 seconds, indices wanted: 67947-69927, but len(buffer)=67948\n",
      "index 67948 is out of bounds for axis 0 with size 67948\n",
      "  warnings.warn(\"Error in file %s, \"%(self.filename)+\n",
      "\n",
      "chunk:  77%|███████▋  | 53/69 [00:00<00:00, 291.22it/s, now=None]WARNING:py.warnings:C:\\Users\\91636\\anaconda3\\conda\\Lib\\site-packages\\moviepy\\audio\\io\\readers.py:197: UserWarning: Error in file output_videoss/segment_8.mp4, At time t=2.34-2.38 seconds, indices wanted: 67947-69928, but len(buffer)=67948\n",
      "index 67948 is out of bounds for axis 0 with size 67948\n",
      "  warnings.warn(\"Error in file %s, \"%(self.filename)+\n",
      "\n",
      "WARNING:py.warnings:C:\\Users\\91636\\anaconda3\\conda\\Lib\\site-packages\\moviepy\\audio\\io\\readers.py:197: UserWarning: Error in file output_videoss/segment_8.mp4, At time t=2.38-2.43 seconds, indices wanted: 67947-69927, but len(buffer)=67948\n",
      "index 67948 is out of bounds for axis 0 with size 67948\n",
      "  warnings.warn(\"Error in file %s, \"%(self.filename)+\n",
      "\n",
      "WARNING:py.warnings:C:\\Users\\91636\\anaconda3\\conda\\Lib\\site-packages\\moviepy\\audio\\io\\readers.py:197: UserWarning: Error in file output_videoss/segment_8.mp4, At time t=2.43-2.47 seconds, indices wanted: 67947-69927, but len(buffer)=67948\n",
      "index 67948 is out of bounds for axis 0 with size 67948\n",
      "  warnings.warn(\"Error in file %s, \"%(self.filename)+\n",
      "\n",
      "WARNING:py.warnings:C:\\Users\\91636\\anaconda3\\conda\\Lib\\site-packages\\moviepy\\audio\\io\\readers.py:197: UserWarning: Error in file output_videoss/segment_8.mp4, At time t=2.47-2.52 seconds, indices wanted: 67947-69928, but len(buffer)=67948\n",
      "index 67948 is out of bounds for axis 0 with size 67948\n",
      "  warnings.warn(\"Error in file %s, \"%(self.filename)+\n",
      "\n",
      "WARNING:py.warnings:C:\\Users\\91636\\anaconda3\\conda\\Lib\\site-packages\\moviepy\\audio\\io\\readers.py:197: UserWarning: Error in file output_videoss/segment_8.mp4, At time t=2.52-2.56 seconds, indices wanted: 67947-69927, but len(buffer)=67948\n",
      "index 67948 is out of bounds for axis 0 with size 67948\n",
      "  warnings.warn(\"Error in file %s, \"%(self.filename)+\n",
      "\n",
      "WARNING:py.warnings:C:\\Users\\91636\\anaconda3\\conda\\Lib\\site-packages\\moviepy\\audio\\io\\readers.py:197: UserWarning: Error in file output_videoss/segment_8.mp4, At time t=2.56-2.61 seconds, indices wanted: 67947-69927, but len(buffer)=67948\n",
      "index 67948 is out of bounds for axis 0 with size 67948\n",
      "  warnings.warn(\"Error in file %s, \"%(self.filename)+\n",
      "\n",
      "WARNING:py.warnings:C:\\Users\\91636\\anaconda3\\conda\\Lib\\site-packages\\moviepy\\audio\\io\\readers.py:197: UserWarning: Error in file output_videoss/segment_8.mp4, At time t=2.61-2.65 seconds, indices wanted: 67947-69927, but len(buffer)=67948\n",
      "index 67948 is out of bounds for axis 0 with size 67948\n",
      "  warnings.warn(\"Error in file %s, \"%(self.filename)+\n",
      "\n",
      "WARNING:py.warnings:C:\\Users\\91636\\anaconda3\\conda\\Lib\\site-packages\\moviepy\\audio\\io\\readers.py:197: UserWarning: Error in file output_videoss/segment_8.mp4, At time t=2.65-2.70 seconds, indices wanted: 67947-69928, but len(buffer)=67948\n",
      "index 67948 is out of bounds for axis 0 with size 67948\n",
      "  warnings.warn(\"Error in file %s, \"%(self.filename)+\n",
      "\n",
      "WARNING:py.warnings:C:\\Users\\91636\\anaconda3\\conda\\Lib\\site-packages\\moviepy\\audio\\io\\readers.py:197: UserWarning: Error in file output_videoss/segment_8.mp4, At time t=2.70-2.74 seconds, indices wanted: 67947-69927, but len(buffer)=67948\n",
      "index 67948 is out of bounds for axis 0 with size 67948\n",
      "  warnings.warn(\"Error in file %s, \"%(self.filename)+\n",
      "\n",
      "WARNING:py.warnings:C:\\Users\\91636\\anaconda3\\conda\\Lib\\site-packages\\moviepy\\audio\\io\\readers.py:197: UserWarning: Error in file output_videoss/segment_8.mp4, At time t=2.74-2.79 seconds, indices wanted: 67947-69927, but len(buffer)=67948\n",
      "index 67948 is out of bounds for axis 0 with size 67948\n",
      "  warnings.warn(\"Error in file %s, \"%(self.filename)+\n",
      "\n",
      "WARNING:py.warnings:C:\\Users\\91636\\anaconda3\\conda\\Lib\\site-packages\\moviepy\\audio\\io\\readers.py:197: UserWarning: Error in file output_videoss/segment_8.mp4, At time t=2.79-2.83 seconds, indices wanted: 67947-69928, but len(buffer)=67948\n",
      "index 67948 is out of bounds for axis 0 with size 67948\n",
      "  warnings.warn(\"Error in file %s, \"%(self.filename)+\n",
      "\n",
      "WARNING:py.warnings:C:\\Users\\91636\\anaconda3\\conda\\Lib\\site-packages\\moviepy\\audio\\io\\readers.py:197: UserWarning: Error in file output_videoss/segment_8.mp4, At time t=2.83-2.88 seconds, indices wanted: 67947-69927, but len(buffer)=67948\n",
      "index 67948 is out of bounds for axis 0 with size 67948\n",
      "  warnings.warn(\"Error in file %s, \"%(self.filename)+\n",
      "\n",
      "WARNING:py.warnings:C:\\Users\\91636\\anaconda3\\conda\\Lib\\site-packages\\moviepy\\audio\\io\\readers.py:197: UserWarning: Error in file output_videoss/segment_8.mp4, At time t=2.88-2.92 seconds, indices wanted: 67947-69927, but len(buffer)=67948\n",
      "index 67948 is out of bounds for axis 0 with size 67948\n",
      "  warnings.warn(\"Error in file %s, \"%(self.filename)+\n",
      "\n",
      "WARNING:py.warnings:C:\\Users\\91636\\anaconda3\\conda\\Lib\\site-packages\\moviepy\\audio\\io\\readers.py:197: UserWarning: Error in file output_videoss/segment_8.mp4, At time t=2.92-2.97 seconds, indices wanted: 67947-69928, but len(buffer)=67948\n",
      "index 67948 is out of bounds for axis 0 with size 67948\n",
      "  warnings.warn(\"Error in file %s, \"%(self.filename)+\n",
      "\n",
      "WARNING:py.warnings:C:\\Users\\91636\\anaconda3\\conda\\Lib\\site-packages\\moviepy\\audio\\io\\readers.py:197: UserWarning: Error in file output_videoss/segment_8.mp4, At time t=2.97-3.01 seconds, indices wanted: 67947-69927, but len(buffer)=67948\n",
      "index 67948 is out of bounds for axis 0 with size 67948\n",
      "  warnings.warn(\"Error in file %s, \"%(self.filename)+\n",
      "\n",
      "WARNING:py.warnings:C:\\Users\\91636\\anaconda3\\conda\\Lib\\site-packages\\moviepy\\audio\\io\\readers.py:197: UserWarning: Error in file output_videoss/segment_8.mp4, At time t=3.01-3.06 seconds, indices wanted: 67947-69927, but len(buffer)=67948\n",
      "index 67948 is out of bounds for axis 0 with size 67948\n",
      "  warnings.warn(\"Error in file %s, \"%(self.filename)+\n",
      "\n",
      "WARNING:py.warnings:C:\\Users\\91636\\anaconda3\\conda\\Lib\\site-packages\\moviepy\\audio\\io\\readers.py:197: UserWarning: Error in file output_videoss/segment_8.mp4, At time t=3.06-3.10 seconds, indices wanted: 67947-69928, but len(buffer)=67948\n",
      "index 67948 is out of bounds for axis 0 with size 67948\n",
      "  warnings.warn(\"Error in file %s, \"%(self.filename)+\n",
      "\n",
      "                                                                 \r"
     ]
    },
    {
     "name": "stdout",
     "output_type": "stream",
     "text": [
      "MoviePy - Done.\n",
      "MoviePy - Building file output_videoss/segment_8.gif with imageio.\n"
     ]
    },
    {
     "name": "stderr",
     "output_type": "stream",
     "text": [
      "INFO:__main__:Cutting video segment: start_time=33.466, end_time=37.01, output_path=output_videoss/segment_9.mp4\n",
      "INFO:__main__:Video segment cut.\n"
     ]
    },
    {
     "name": "stdout",
     "output_type": "stream",
     "text": [
      "Moviepy - Running:\n",
      ">>> \"+ \" \".join(cmd)\n",
      "Moviepy - Command successful\n",
      "MoviePy - Writing audio in output_videoss/segment_9_audio.wav\n"
     ]
    },
    {
     "name": "stderr",
     "output_type": "stream",
     "text": [
      "                                                                  "
     ]
    },
    {
     "name": "stdout",
     "output_type": "stream",
     "text": [
      "MoviePy - Done.\n"
     ]
    },
    {
     "name": "stderr",
     "output_type": "stream",
     "text": [
      "\r"
     ]
    },
    {
     "name": "stdout",
     "output_type": "stream",
     "text": [
      "MoviePy - Building file output_videoss/segment_9.gif with imageio.\n"
     ]
    },
    {
     "name": "stderr",
     "output_type": "stream",
     "text": [
      "INFO:__main__:Cutting video segment: start_time=41.081, end_time=45.047, output_path=output_videoss/segment_10.mp4\n",
      "INFO:__main__:Video segment cut.\n"
     ]
    },
    {
     "name": "stdout",
     "output_type": "stream",
     "text": [
      "Moviepy - Running:\n",
      ">>> \"+ \" \".join(cmd)\n",
      "Moviepy - Command successful\n",
      "MoviePy - Writing audio in output_videoss/segment_10_audio.wav\n"
     ]
    },
    {
     "name": "stderr",
     "output_type": "stream",
     "text": [
      "                                                                \r"
     ]
    },
    {
     "name": "stdout",
     "output_type": "stream",
     "text": [
      "MoviePy - Done.\n",
      "MoviePy - Building file output_videoss/segment_10.gif with imageio.\n"
     ]
    },
    {
     "name": "stderr",
     "output_type": "stream",
     "text": [
      "t:  96%|█████████▌| 115/120 [00:01<00:00, 63.02it/s, now=None]WARNING:py.warnings:C:\\Users\\91636\\anaconda3\\conda\\Lib\\site-packages\\moviepy\\video\\io\\ffmpeg_reader.py:123: UserWarning: Warning: in file output_videoss/segment_10_with_text.mp4, 5391360 bytes wanted but 0 bytes read,at frame 119/120, at time 3.97/3.97 sec. Using the last valid frame instead.\n",
      "  warnings.warn(\"Warning: in file %s, \"%(self.filename)+\n",
      "\n",
      "INFO:__main__:Cutting video segment: start_time=45.584, end_time=50.268, output_path=output_videoss/segment_11.mp4\n",
      "INFO:__main__:Video segment cut.\n"
     ]
    },
    {
     "name": "stdout",
     "output_type": "stream",
     "text": [
      "Moviepy - Running:\n",
      ">>> \"+ \" \".join(cmd)\n",
      "Moviepy - Command successful\n",
      "MoviePy - Writing audio in output_videoss/segment_11_audio.wav\n"
     ]
    },
    {
     "name": "stderr",
     "output_type": "stream",
     "text": [
      "                                                        "
     ]
    },
    {
     "name": "stdout",
     "output_type": "stream",
     "text": [
      "MoviePy - Done.\n"
     ]
    },
    {
     "name": "stderr",
     "output_type": "stream",
     "text": [
      "\r"
     ]
    },
    {
     "name": "stdout",
     "output_type": "stream",
     "text": [
      "MoviePy - Building file output_videoss/segment_11.gif with imageio.\n"
     ]
    },
    {
     "name": "stderr",
     "output_type": "stream",
     "text": [
      "t:  96%|█████████▌| 135/141 [00:02<00:00, 62.75it/s, now=None]WARNING:py.warnings:C:\\Users\\91636\\anaconda3\\conda\\Lib\\site-packages\\moviepy\\video\\io\\ffmpeg_reader.py:123: UserWarning: Warning: in file output_videoss/segment_11_with_text.mp4, 5391360 bytes wanted but 0 bytes read,at frame 140/141, at time 4.67/4.67 sec. Using the last valid frame instead.\n",
      "  warnings.warn(\"Warning: in file %s, \"%(self.filename)+\n",
      "\n",
      "INFO:__main__:Cutting video segment: start_time=51.368, end_time=54.112, output_path=output_videoss/segment_12.mp4\n"
     ]
    },
    {
     "name": "stdout",
     "output_type": "stream",
     "text": [
      "Moviepy - Running:\n",
      ">>> \"+ \" \".join(cmd)\n"
     ]
    },
    {
     "name": "stderr",
     "output_type": "stream",
     "text": [
      "INFO:__main__:Video segment cut.\n"
     ]
    },
    {
     "name": "stdout",
     "output_type": "stream",
     "text": [
      "Moviepy - Command successful\n",
      "MoviePy - Writing audio in output_videoss/segment_12_audio.wav\n"
     ]
    },
    {
     "name": "stderr",
     "output_type": "stream",
     "text": [
      "                                                                \r"
     ]
    },
    {
     "name": "stdout",
     "output_type": "stream",
     "text": [
      "MoviePy - Done.\n",
      "MoviePy - Building file output_videoss/segment_12.gif with imageio.\n"
     ]
    },
    {
     "name": "stderr",
     "output_type": "stream",
     "text": [
      "INFO:__main__:Cutting video segment: start_time=55.815, end_time=56.472, output_path=output_videoss/segment_13.mp4\n",
      "INFO:__main__:Video segment cut.\n"
     ]
    },
    {
     "name": "stdout",
     "output_type": "stream",
     "text": [
      "Moviepy - Running:\n",
      ">>> \"+ \" \".join(cmd)\n",
      "Moviepy - Command successful\n",
      "MoviePy - Writing audio in output_videoss/segment_13_audio.wav\n"
     ]
    },
    {
     "name": "stderr",
     "output_type": "stream",
     "text": [
      "chunk:   0%|          | 0/100 [00:00<?, ?it/s, now=None]WARNING:py.warnings:C:\\Users\\91636\\anaconda3\\conda\\Lib\\site-packages\\moviepy\\audio\\io\\readers.py:197: UserWarning: Error in file output_videoss/segment_13.mp4, At time t=0.00-0.04 seconds, indices wanted: -69792--67809, but len(buffer)=29434\n",
      "index -69792 is out of bounds for axis 0 with size 29434\n",
      "  warnings.warn(\"Error in file %s, \"%(self.filename)+\n",
      "\n",
      "ERROR:__main__:Error converting video to audio: index -69792 is out of bounds for axis 0 with size 29434\n",
      "                                                        \r"
     ]
    },
    {
     "name": "stdout",
     "output_type": "stream",
     "text": [
      "MoviePy - Building file output_videoss/segment_13.gif with imageio.\n"
     ]
    },
    {
     "name": "stderr",
     "output_type": "stream",
     "text": [
      "t:  71%|███████▏  | 15/21 [00:00<00:00, 140.73it/s, now=None]WARNING:py.warnings:C:\\Users\\91636\\anaconda3\\conda\\Lib\\site-packages\\moviepy\\video\\io\\ffmpeg_reader.py:123: UserWarning: Warning: in file output_videoss/segment_13_with_text.mp4, 5391360 bytes wanted but 0 bytes read,at frame 20/21, at time 0.67/0.67 sec. Using the last valid frame instead.\n",
      "  warnings.warn(\"Warning: in file %s, \"%(self.filename)+\n",
      "\n",
      "ERROR:__main__:Error removing intermediate files: [WinError 32] The process cannot access the file because it is being used by another process: 'output_videoss/segment_13.mp4'\n",
      "INFO:__main__:Cutting video segment: start_time=62.41, end_time=63.313, output_path=output_videoss/segment_14.mp4\n",
      "INFO:__main__:Video segment cut.\n"
     ]
    },
    {
     "name": "stdout",
     "output_type": "stream",
     "text": [
      "Moviepy - Running:\n",
      ">>> \"+ \" \".join(cmd)\n",
      "Moviepy - Command successful\n",
      "MoviePy - Writing audio in output_videoss/segment_14_audio.wav\n"
     ]
    },
    {
     "name": "stderr",
     "output_type": "stream",
     "text": [
      "chunk:  51%|█████▏    | 38/74 [00:07<00:09,  3.96it/s, now=None]WARNING:py.warnings:C:\\Users\\91636\\anaconda3\\conda\\Lib\\site-packages\\moviepy\\audio\\io\\readers.py:197: UserWarning: Error in file output_videoss/segment_14.mp4, At time t=1.66-1.71 seconds, indices wanted: 40369-42353, but len(buffer)=40371\n",
      "index 40371 is out of bounds for axis 0 with size 40371\n",
      "  warnings.warn(\"Error in file %s, \"%(self.filename)+\n",
      "\n",
      "chunk:  53%|█████▎    | 39/74 [00:07<00:09,  3.81it/s, now=None]WARNING:py.warnings:C:\\Users\\91636\\anaconda3\\conda\\Lib\\site-packages\\moviepy\\audio\\io\\readers.py:197: UserWarning: Error in file output_videoss/segment_14.mp4, At time t=1.71-1.75 seconds, indices wanted: 40370-42353, but len(buffer)=40371\n",
      "index 40371 is out of bounds for axis 0 with size 40371\n",
      "  warnings.warn(\"Error in file %s, \"%(self.filename)+\n",
      "\n",
      "WARNING:py.warnings:C:\\Users\\91636\\anaconda3\\conda\\Lib\\site-packages\\moviepy\\audio\\io\\readers.py:197: UserWarning: Error in file output_videoss/segment_14.mp4, At time t=1.75-1.80 seconds, indices wanted: 40370-42354, but len(buffer)=40371\n",
      "index 40371 is out of bounds for axis 0 with size 40371\n",
      "  warnings.warn(\"Error in file %s, \"%(self.filename)+\n",
      "\n",
      "WARNING:py.warnings:C:\\Users\\91636\\anaconda3\\conda\\Lib\\site-packages\\moviepy\\audio\\io\\readers.py:197: UserWarning: Error in file output_videoss/segment_14.mp4, At time t=1.80-1.84 seconds, indices wanted: 40370-42353, but len(buffer)=40371\n",
      "index 40371 is out of bounds for axis 0 with size 40371\n",
      "  warnings.warn(\"Error in file %s, \"%(self.filename)+\n",
      "\n",
      "WARNING:py.warnings:C:\\Users\\91636\\anaconda3\\conda\\Lib\\site-packages\\moviepy\\audio\\io\\readers.py:197: UserWarning: Error in file output_videoss/segment_14.mp4, At time t=1.84-1.89 seconds, indices wanted: 40370-42354, but len(buffer)=40371\n",
      "index 40371 is out of bounds for axis 0 with size 40371\n",
      "  warnings.warn(\"Error in file %s, \"%(self.filename)+\n",
      "\n",
      "WARNING:py.warnings:C:\\Users\\91636\\anaconda3\\conda\\Lib\\site-packages\\moviepy\\audio\\io\\readers.py:197: UserWarning: Error in file output_videoss/segment_14.mp4, At time t=1.89-1.93 seconds, indices wanted: 40370-42353, but len(buffer)=40371\n",
      "index 40371 is out of bounds for axis 0 with size 40371\n",
      "  warnings.warn(\"Error in file %s, \"%(self.filename)+\n",
      "\n",
      "WARNING:py.warnings:C:\\Users\\91636\\anaconda3\\conda\\Lib\\site-packages\\moviepy\\audio\\io\\readers.py:197: UserWarning: Error in file output_videoss/segment_14.mp4, At time t=1.93-1.98 seconds, indices wanted: 40370-42354, but len(buffer)=40371\n",
      "index 40371 is out of bounds for axis 0 with size 40371\n",
      "  warnings.warn(\"Error in file %s, \"%(self.filename)+\n",
      "\n",
      "WARNING:py.warnings:C:\\Users\\91636\\anaconda3\\conda\\Lib\\site-packages\\moviepy\\audio\\io\\readers.py:197: UserWarning: Error in file output_videoss/segment_14.mp4, At time t=1.98-2.02 seconds, indices wanted: 40370-42353, but len(buffer)=40371\n",
      "index 40371 is out of bounds for axis 0 with size 40371\n",
      "  warnings.warn(\"Error in file %s, \"%(self.filename)+\n",
      "\n",
      "WARNING:py.warnings:C:\\Users\\91636\\anaconda3\\conda\\Lib\\site-packages\\moviepy\\audio\\io\\readers.py:197: UserWarning: Error in file output_videoss/segment_14.mp4, At time t=2.02-2.07 seconds, indices wanted: 40370-42354, but len(buffer)=40371\n",
      "index 40371 is out of bounds for axis 0 with size 40371\n",
      "  warnings.warn(\"Error in file %s, \"%(self.filename)+\n",
      "\n",
      "WARNING:py.warnings:C:\\Users\\91636\\anaconda3\\conda\\Lib\\site-packages\\moviepy\\audio\\io\\readers.py:197: UserWarning: Error in file output_videoss/segment_14.mp4, At time t=2.07-2.11 seconds, indices wanted: 40370-42353, but len(buffer)=40371\n",
      "index 40371 is out of bounds for axis 0 with size 40371\n",
      "  warnings.warn(\"Error in file %s, \"%(self.filename)+\n",
      "\n",
      "WARNING:py.warnings:C:\\Users\\91636\\anaconda3\\conda\\Lib\\site-packages\\moviepy\\audio\\io\\readers.py:197: UserWarning: Error in file output_videoss/segment_14.mp4, At time t=2.11-2.16 seconds, indices wanted: 40370-42354, but len(buffer)=40371\n",
      "index 40371 is out of bounds for axis 0 with size 40371\n",
      "  warnings.warn(\"Error in file %s, \"%(self.filename)+\n",
      "\n",
      "WARNING:py.warnings:C:\\Users\\91636\\anaconda3\\conda\\Lib\\site-packages\\moviepy\\audio\\io\\readers.py:197: UserWarning: Error in file output_videoss/segment_14.mp4, At time t=2.16-2.20 seconds, indices wanted: 40370-42353, but len(buffer)=40371\n",
      "index 40371 is out of bounds for axis 0 with size 40371\n",
      "  warnings.warn(\"Error in file %s, \"%(self.filename)+\n",
      "\n",
      "WARNING:py.warnings:C:\\Users\\91636\\anaconda3\\conda\\Lib\\site-packages\\moviepy\\audio\\io\\readers.py:197: UserWarning: Error in file output_videoss/segment_14.mp4, At time t=2.20-2.25 seconds, indices wanted: 40370-42354, but len(buffer)=40371\n",
      "index 40371 is out of bounds for axis 0 with size 40371\n",
      "  warnings.warn(\"Error in file %s, \"%(self.filename)+\n",
      "\n",
      "WARNING:py.warnings:C:\\Users\\91636\\anaconda3\\conda\\Lib\\site-packages\\moviepy\\audio\\io\\readers.py:197: UserWarning: Error in file output_videoss/segment_14.mp4, At time t=2.25-2.29 seconds, indices wanted: 40370-42353, but len(buffer)=40371\n",
      "index 40371 is out of bounds for axis 0 with size 40371\n",
      "  warnings.warn(\"Error in file %s, \"%(self.filename)+\n",
      "\n",
      "WARNING:py.warnings:C:\\Users\\91636\\anaconda3\\conda\\Lib\\site-packages\\moviepy\\audio\\io\\readers.py:197: UserWarning: Error in file output_videoss/segment_14.mp4, At time t=2.29-2.34 seconds, indices wanted: 40370-42354, but len(buffer)=40371\n",
      "index 40371 is out of bounds for axis 0 with size 40371\n",
      "  warnings.warn(\"Error in file %s, \"%(self.filename)+\n",
      "\n",
      "WARNING:py.warnings:C:\\Users\\91636\\anaconda3\\conda\\Lib\\site-packages\\moviepy\\audio\\io\\readers.py:197: UserWarning: Error in file output_videoss/segment_14.mp4, At time t=2.34-2.38 seconds, indices wanted: 40370-42353, but len(buffer)=40371\n",
      "index 40371 is out of bounds for axis 0 with size 40371\n",
      "  warnings.warn(\"Error in file %s, \"%(self.filename)+\n",
      "\n",
      "WARNING:py.warnings:C:\\Users\\91636\\anaconda3\\conda\\Lib\\site-packages\\moviepy\\audio\\io\\readers.py:197: UserWarning: Error in file output_videoss/segment_14.mp4, At time t=2.38-2.43 seconds, indices wanted: 40370-42354, but len(buffer)=40371\n",
      "index 40371 is out of bounds for axis 0 with size 40371\n",
      "  warnings.warn(\"Error in file %s, \"%(self.filename)+\n",
      "\n",
      "WARNING:py.warnings:C:\\Users\\91636\\anaconda3\\conda\\Lib\\site-packages\\moviepy\\audio\\io\\readers.py:197: UserWarning: Error in file output_videoss/segment_14.mp4, At time t=2.43-2.47 seconds, indices wanted: 40370-42353, but len(buffer)=40371\n",
      "index 40371 is out of bounds for axis 0 with size 40371\n",
      "  warnings.warn(\"Error in file %s, \"%(self.filename)+\n",
      "\n",
      "WARNING:py.warnings:C:\\Users\\91636\\anaconda3\\conda\\Lib\\site-packages\\moviepy\\audio\\io\\readers.py:197: UserWarning: Error in file output_videoss/segment_14.mp4, At time t=2.47-2.52 seconds, indices wanted: 40370-42354, but len(buffer)=40371\n",
      "index 40371 is out of bounds for axis 0 with size 40371\n",
      "  warnings.warn(\"Error in file %s, \"%(self.filename)+\n",
      "\n",
      "WARNING:py.warnings:C:\\Users\\91636\\anaconda3\\conda\\Lib\\site-packages\\moviepy\\audio\\io\\readers.py:197: UserWarning: Error in file output_videoss/segment_14.mp4, At time t=2.52-2.56 seconds, indices wanted: 40370-42353, but len(buffer)=40371\n",
      "index 40371 is out of bounds for axis 0 with size 40371\n",
      "  warnings.warn(\"Error in file %s, \"%(self.filename)+\n",
      "\n",
      "WARNING:py.warnings:C:\\Users\\91636\\anaconda3\\conda\\Lib\\site-packages\\moviepy\\audio\\io\\readers.py:197: UserWarning: Error in file output_videoss/segment_14.mp4, At time t=2.56-2.61 seconds, indices wanted: 40370-42354, but len(buffer)=40371\n",
      "index 40371 is out of bounds for axis 0 with size 40371\n",
      "  warnings.warn(\"Error in file %s, \"%(self.filename)+\n",
      "\n",
      "WARNING:py.warnings:C:\\Users\\91636\\anaconda3\\conda\\Lib\\site-packages\\moviepy\\audio\\io\\readers.py:197: UserWarning: Error in file output_videoss/segment_14.mp4, At time t=2.61-2.65 seconds, indices wanted: 40370-42353, but len(buffer)=40371\n",
      "index 40371 is out of bounds for axis 0 with size 40371\n",
      "  warnings.warn(\"Error in file %s, \"%(self.filename)+\n",
      "\n",
      "WARNING:py.warnings:C:\\Users\\91636\\anaconda3\\conda\\Lib\\site-packages\\moviepy\\audio\\io\\readers.py:197: UserWarning: Error in file output_videoss/segment_14.mp4, At time t=2.65-2.70 seconds, indices wanted: 40370-42354, but len(buffer)=40371\n",
      "index 40371 is out of bounds for axis 0 with size 40371\n",
      "  warnings.warn(\"Error in file %s, \"%(self.filename)+\n",
      "\n",
      "WARNING:py.warnings:C:\\Users\\91636\\anaconda3\\conda\\Lib\\site-packages\\moviepy\\audio\\io\\readers.py:197: UserWarning: Error in file output_videoss/segment_14.mp4, At time t=2.70-2.74 seconds, indices wanted: 40370-42353, but len(buffer)=40371\n",
      "index 40371 is out of bounds for axis 0 with size 40371\n",
      "  warnings.warn(\"Error in file %s, \"%(self.filename)+\n",
      "\n",
      "WARNING:py.warnings:C:\\Users\\91636\\anaconda3\\conda\\Lib\\site-packages\\moviepy\\audio\\io\\readers.py:197: UserWarning: Error in file output_videoss/segment_14.mp4, At time t=2.74-2.79 seconds, indices wanted: 40370-42354, but len(buffer)=40371\n",
      "index 40371 is out of bounds for axis 0 with size 40371\n",
      "  warnings.warn(\"Error in file %s, \"%(self.filename)+\n",
      "\n",
      "WARNING:py.warnings:C:\\Users\\91636\\anaconda3\\conda\\Lib\\site-packages\\moviepy\\audio\\io\\readers.py:197: UserWarning: Error in file output_videoss/segment_14.mp4, At time t=2.79-2.83 seconds, indices wanted: 40370-42353, but len(buffer)=40371\n",
      "index 40371 is out of bounds for axis 0 with size 40371\n",
      "  warnings.warn(\"Error in file %s, \"%(self.filename)+\n",
      "\n",
      "WARNING:py.warnings:C:\\Users\\91636\\anaconda3\\conda\\Lib\\site-packages\\moviepy\\audio\\io\\readers.py:197: UserWarning: Error in file output_videoss/segment_14.mp4, At time t=2.83-2.88 seconds, indices wanted: 40370-42354, but len(buffer)=40371\n",
      "index 40371 is out of bounds for axis 0 with size 40371\n",
      "  warnings.warn(\"Error in file %s, \"%(self.filename)+\n",
      "\n",
      "WARNING:py.warnings:C:\\Users\\91636\\anaconda3\\conda\\Lib\\site-packages\\moviepy\\audio\\io\\readers.py:197: UserWarning: Error in file output_videoss/segment_14.mp4, At time t=2.88-2.92 seconds, indices wanted: 40370-42353, but len(buffer)=40371\n",
      "index 40371 is out of bounds for axis 0 with size 40371\n",
      "  warnings.warn(\"Error in file %s, \"%(self.filename)+\n",
      "\n",
      "WARNING:py.warnings:C:\\Users\\91636\\anaconda3\\conda\\Lib\\site-packages\\moviepy\\audio\\io\\readers.py:197: UserWarning: Error in file output_videoss/segment_14.mp4, At time t=2.92-2.97 seconds, indices wanted: 40370-42354, but len(buffer)=40371\n",
      "index 40371 is out of bounds for axis 0 with size 40371\n",
      "  warnings.warn(\"Error in file %s, \"%(self.filename)+\n",
      "\n",
      "WARNING:py.warnings:C:\\Users\\91636\\anaconda3\\conda\\Lib\\site-packages\\moviepy\\audio\\io\\readers.py:197: UserWarning: Error in file output_videoss/segment_14.mp4, At time t=2.97-3.01 seconds, indices wanted: 40370-42353, but len(buffer)=40371\n",
      "index 40371 is out of bounds for axis 0 with size 40371\n",
      "  warnings.warn(\"Error in file %s, \"%(self.filename)+\n",
      "\n",
      "WARNING:py.warnings:C:\\Users\\91636\\anaconda3\\conda\\Lib\\site-packages\\moviepy\\audio\\io\\readers.py:197: UserWarning: Error in file output_videoss/segment_14.mp4, At time t=3.01-3.06 seconds, indices wanted: 40370-42354, but len(buffer)=40371\n",
      "index 40371 is out of bounds for axis 0 with size 40371\n",
      "  warnings.warn(\"Error in file %s, \"%(self.filename)+\n",
      "\n",
      "WARNING:py.warnings:C:\\Users\\91636\\anaconda3\\conda\\Lib\\site-packages\\moviepy\\audio\\io\\readers.py:197: UserWarning: Error in file output_videoss/segment_14.mp4, At time t=3.06-3.10 seconds, indices wanted: 40370-42353, but len(buffer)=40371\n",
      "index 40371 is out of bounds for axis 0 with size 40371\n",
      "  warnings.warn(\"Error in file %s, \"%(self.filename)+\n",
      "\n",
      "WARNING:py.warnings:C:\\Users\\91636\\anaconda3\\conda\\Lib\\site-packages\\moviepy\\audio\\io\\readers.py:197: UserWarning: Error in file output_videoss/segment_14.mp4, At time t=3.10-3.15 seconds, indices wanted: 40370-42354, but len(buffer)=40371\n",
      "index 40371 is out of bounds for axis 0 with size 40371\n",
      "  warnings.warn(\"Error in file %s, \"%(self.filename)+\n",
      "\n",
      "WARNING:py.warnings:C:\\Users\\91636\\anaconda3\\conda\\Lib\\site-packages\\moviepy\\audio\\io\\readers.py:197: UserWarning: Error in file output_videoss/segment_14.mp4, At time t=3.15-3.19 seconds, indices wanted: 40370-42353, but len(buffer)=40371\n",
      "index 40371 is out of bounds for axis 0 with size 40371\n",
      "  warnings.warn(\"Error in file %s, \"%(self.filename)+\n",
      "\n",
      "WARNING:py.warnings:C:\\Users\\91636\\anaconda3\\conda\\Lib\\site-packages\\moviepy\\audio\\io\\readers.py:197: UserWarning: Error in file output_videoss/segment_14.mp4, At time t=3.19-3.24 seconds, indices wanted: 40370-42354, but len(buffer)=40371\n",
      "index 40371 is out of bounds for axis 0 with size 40371\n",
      "  warnings.warn(\"Error in file %s, \"%(self.filename)+\n",
      "\n",
      "WARNING:py.warnings:C:\\Users\\91636\\anaconda3\\conda\\Lib\\site-packages\\moviepy\\audio\\io\\readers.py:197: UserWarning: Error in file output_videoss/segment_14.mp4, At time t=3.24-3.28 seconds, indices wanted: 40370-42353, but len(buffer)=40371\n",
      "index 40371 is out of bounds for axis 0 with size 40371\n",
      "  warnings.warn(\"Error in file %s, \"%(self.filename)+\n",
      "\n",
      "WARNING:py.warnings:C:\\Users\\91636\\anaconda3\\conda\\Lib\\site-packages\\moviepy\\audio\\io\\readers.py:197: UserWarning: Error in file output_videoss/segment_14.mp4, At time t=3.28-3.33 seconds, indices wanted: 40370-42354, but len(buffer)=40371\n",
      "index 40371 is out of bounds for axis 0 with size 40371\n",
      "  warnings.warn(\"Error in file %s, \"%(self.filename)+\n",
      "\n",
      "                                                                \r"
     ]
    },
    {
     "name": "stdout",
     "output_type": "stream",
     "text": [
      "MoviePy - Done.\n",
      "MoviePy - Building file output_videoss/segment_14.gif with imageio.\n"
     ]
    },
    {
     "name": "stderr",
     "output_type": "stream",
     "text": [
      "INFO:__main__:Cutting video segment: start_time=65.816, end_time=66.712, output_path=output_videoss/segment_15.mp4\n",
      "INFO:__main__:Video segment cut.\n"
     ]
    },
    {
     "name": "stdout",
     "output_type": "stream",
     "text": [
      "Moviepy - Running:\n",
      ">>> \"+ \" \".join(cmd)\n",
      "Moviepy - Command successful\n",
      "MoviePy - Writing audio in output_videoss/segment_15_audio.wav\n"
     ]
    },
    {
     "name": "stderr",
     "output_type": "stream",
     "text": [
      "chunk:  36%|███▌      | 22/61 [00:00<00:00, 97.72it/s, now=None]WARNING:py.warnings:C:\\Users\\91636\\anaconda3\\conda\\Lib\\site-packages\\moviepy\\audio\\io\\readers.py:197: UserWarning: Error in file output_videoss/segment_15.mp4, At time t=1.35-1.40 seconds, indices wanted: 39522-41509, but len(buffer)=40518\n",
      "index 40518 is out of bounds for axis 0 with size 40518\n",
      "  warnings.warn(\"Error in file %s, \"%(self.filename)+\n",
      "\n",
      "chunk:  52%|█████▏    | 32/61 [00:01<00:02, 13.35it/s, now=None]WARNING:py.warnings:C:\\Users\\91636\\anaconda3\\conda\\Lib\\site-packages\\moviepy\\audio\\io\\readers.py:197: UserWarning: Error in file output_videoss/segment_15.mp4, At time t=1.40-1.44 seconds, indices wanted: 40517-42504, but len(buffer)=40518\n",
      "index 40518 is out of bounds for axis 0 with size 40518\n",
      "  warnings.warn(\"Error in file %s, \"%(self.filename)+\n",
      "\n",
      "WARNING:py.warnings:C:\\Users\\91636\\anaconda3\\conda\\Lib\\site-packages\\moviepy\\audio\\io\\readers.py:197: UserWarning: Error in file output_videoss/segment_15.mp4, At time t=1.44-1.49 seconds, indices wanted: 40517-42504, but len(buffer)=40518\n",
      "index 40518 is out of bounds for axis 0 with size 40518\n",
      "  warnings.warn(\"Error in file %s, \"%(self.filename)+\n",
      "\n",
      "WARNING:py.warnings:C:\\Users\\91636\\anaconda3\\conda\\Lib\\site-packages\\moviepy\\audio\\io\\readers.py:197: UserWarning: Error in file output_videoss/segment_15.mp4, At time t=1.49-1.53 seconds, indices wanted: 40517-42504, but len(buffer)=40518\n",
      "index 40518 is out of bounds for axis 0 with size 40518\n",
      "  warnings.warn(\"Error in file %s, \"%(self.filename)+\n",
      "\n",
      "WARNING:py.warnings:C:\\Users\\91636\\anaconda3\\conda\\Lib\\site-packages\\moviepy\\audio\\io\\readers.py:197: UserWarning: Error in file output_videoss/segment_15.mp4, At time t=1.53-1.58 seconds, indices wanted: 40517-42505, but len(buffer)=40518\n",
      "index 40518 is out of bounds for axis 0 with size 40518\n",
      "  warnings.warn(\"Error in file %s, \"%(self.filename)+\n",
      "\n",
      "WARNING:py.warnings:C:\\Users\\91636\\anaconda3\\conda\\Lib\\site-packages\\moviepy\\audio\\io\\readers.py:197: UserWarning: Error in file output_videoss/segment_15.mp4, At time t=1.58-1.62 seconds, indices wanted: 40517-42504, but len(buffer)=40518\n",
      "index 40518 is out of bounds for axis 0 with size 40518\n",
      "  warnings.warn(\"Error in file %s, \"%(self.filename)+\n",
      "\n",
      "WARNING:py.warnings:C:\\Users\\91636\\anaconda3\\conda\\Lib\\site-packages\\moviepy\\audio\\io\\readers.py:197: UserWarning: Error in file output_videoss/segment_15.mp4, At time t=1.62-1.67 seconds, indices wanted: 40517-42504, but len(buffer)=40518\n",
      "index 40518 is out of bounds for axis 0 with size 40518\n",
      "  warnings.warn(\"Error in file %s, \"%(self.filename)+\n",
      "\n",
      "WARNING:py.warnings:C:\\Users\\91636\\anaconda3\\conda\\Lib\\site-packages\\moviepy\\audio\\io\\readers.py:197: UserWarning: Error in file output_videoss/segment_15.mp4, At time t=1.67-1.71 seconds, indices wanted: 40517-42504, but len(buffer)=40518\n",
      "index 40518 is out of bounds for axis 0 with size 40518\n",
      "  warnings.warn(\"Error in file %s, \"%(self.filename)+\n",
      "\n",
      "WARNING:py.warnings:C:\\Users\\91636\\anaconda3\\conda\\Lib\\site-packages\\moviepy\\audio\\io\\readers.py:197: UserWarning: Error in file output_videoss/segment_15.mp4, At time t=1.71-1.76 seconds, indices wanted: 40517-42504, but len(buffer)=40518\n",
      "index 40518 is out of bounds for axis 0 with size 40518\n",
      "  warnings.warn(\"Error in file %s, \"%(self.filename)+\n",
      "\n",
      "WARNING:py.warnings:C:\\Users\\91636\\anaconda3\\conda\\Lib\\site-packages\\moviepy\\audio\\io\\readers.py:197: UserWarning: Error in file output_videoss/segment_15.mp4, At time t=1.76-1.80 seconds, indices wanted: 40517-42504, but len(buffer)=40518\n",
      "index 40518 is out of bounds for axis 0 with size 40518\n",
      "  warnings.warn(\"Error in file %s, \"%(self.filename)+\n",
      "\n",
      "WARNING:py.warnings:C:\\Users\\91636\\anaconda3\\conda\\Lib\\site-packages\\moviepy\\audio\\io\\readers.py:197: UserWarning: Error in file output_videoss/segment_15.mp4, At time t=1.80-1.85 seconds, indices wanted: 40517-42504, but len(buffer)=40518\n",
      "index 40518 is out of bounds for axis 0 with size 40518\n",
      "  warnings.warn(\"Error in file %s, \"%(self.filename)+\n",
      "\n",
      "WARNING:py.warnings:C:\\Users\\91636\\anaconda3\\conda\\Lib\\site-packages\\moviepy\\audio\\io\\readers.py:197: UserWarning: Error in file output_videoss/segment_15.mp4, At time t=1.85-1.89 seconds, indices wanted: 40517-42504, but len(buffer)=40518\n",
      "index 40518 is out of bounds for axis 0 with size 40518\n",
      "  warnings.warn(\"Error in file %s, \"%(self.filename)+\n",
      "\n",
      "WARNING:py.warnings:C:\\Users\\91636\\anaconda3\\conda\\Lib\\site-packages\\moviepy\\audio\\io\\readers.py:197: UserWarning: Error in file output_videoss/segment_15.mp4, At time t=1.89-1.94 seconds, indices wanted: 40517-42504, but len(buffer)=40518\n",
      "index 40518 is out of bounds for axis 0 with size 40518\n",
      "  warnings.warn(\"Error in file %s, \"%(self.filename)+\n",
      "\n",
      "WARNING:py.warnings:C:\\Users\\91636\\anaconda3\\conda\\Lib\\site-packages\\moviepy\\audio\\io\\readers.py:197: UserWarning: Error in file output_videoss/segment_15.mp4, At time t=1.94-1.98 seconds, indices wanted: 40517-42505, but len(buffer)=40518\n",
      "index 40518 is out of bounds for axis 0 with size 40518\n",
      "  warnings.warn(\"Error in file %s, \"%(self.filename)+\n",
      "\n",
      "WARNING:py.warnings:C:\\Users\\91636\\anaconda3\\conda\\Lib\\site-packages\\moviepy\\audio\\io\\readers.py:197: UserWarning: Error in file output_videoss/segment_15.mp4, At time t=1.98-2.03 seconds, indices wanted: 40517-42504, but len(buffer)=40518\n",
      "index 40518 is out of bounds for axis 0 with size 40518\n",
      "  warnings.warn(\"Error in file %s, \"%(self.filename)+\n",
      "\n",
      "WARNING:py.warnings:C:\\Users\\91636\\anaconda3\\conda\\Lib\\site-packages\\moviepy\\audio\\io\\readers.py:197: UserWarning: Error in file output_videoss/segment_15.mp4, At time t=2.03-2.07 seconds, indices wanted: 40517-42504, but len(buffer)=40518\n",
      "index 40518 is out of bounds for axis 0 with size 40518\n",
      "  warnings.warn(\"Error in file %s, \"%(self.filename)+\n",
      "\n",
      "WARNING:py.warnings:C:\\Users\\91636\\anaconda3\\conda\\Lib\\site-packages\\moviepy\\audio\\io\\readers.py:197: UserWarning: Error in file output_videoss/segment_15.mp4, At time t=2.07-2.12 seconds, indices wanted: 40517-42504, but len(buffer)=40518\n",
      "index 40518 is out of bounds for axis 0 with size 40518\n",
      "  warnings.warn(\"Error in file %s, \"%(self.filename)+\n",
      "\n",
      "WARNING:py.warnings:C:\\Users\\91636\\anaconda3\\conda\\Lib\\site-packages\\moviepy\\audio\\io\\readers.py:197: UserWarning: Error in file output_videoss/segment_15.mp4, At time t=2.12-2.16 seconds, indices wanted: 40517-42504, but len(buffer)=40518\n",
      "index 40518 is out of bounds for axis 0 with size 40518\n",
      "  warnings.warn(\"Error in file %s, \"%(self.filename)+\n",
      "\n",
      "WARNING:py.warnings:C:\\Users\\91636\\anaconda3\\conda\\Lib\\site-packages\\moviepy\\audio\\io\\readers.py:197: UserWarning: Error in file output_videoss/segment_15.mp4, At time t=2.16-2.21 seconds, indices wanted: 40517-42504, but len(buffer)=40518\n",
      "index 40518 is out of bounds for axis 0 with size 40518\n",
      "  warnings.warn(\"Error in file %s, \"%(self.filename)+\n",
      "\n",
      "WARNING:py.warnings:C:\\Users\\91636\\anaconda3\\conda\\Lib\\site-packages\\moviepy\\audio\\io\\readers.py:197: UserWarning: Error in file output_videoss/segment_15.mp4, At time t=2.21-2.25 seconds, indices wanted: 40517-42504, but len(buffer)=40518\n",
      "index 40518 is out of bounds for axis 0 with size 40518\n",
      "  warnings.warn(\"Error in file %s, \"%(self.filename)+\n",
      "\n",
      "WARNING:py.warnings:C:\\Users\\91636\\anaconda3\\conda\\Lib\\site-packages\\moviepy\\audio\\io\\readers.py:197: UserWarning: Error in file output_videoss/segment_15.mp4, At time t=2.25-2.30 seconds, indices wanted: 40517-42504, but len(buffer)=40518\n",
      "index 40518 is out of bounds for axis 0 with size 40518\n",
      "  warnings.warn(\"Error in file %s, \"%(self.filename)+\n",
      "\n",
      "WARNING:py.warnings:C:\\Users\\91636\\anaconda3\\conda\\Lib\\site-packages\\moviepy\\audio\\io\\readers.py:197: UserWarning: Error in file output_videoss/segment_15.mp4, At time t=2.30-2.34 seconds, indices wanted: 40517-42504, but len(buffer)=40518\n",
      "index 40518 is out of bounds for axis 0 with size 40518\n",
      "  warnings.warn(\"Error in file %s, \"%(self.filename)+\n",
      "\n",
      "WARNING:py.warnings:C:\\Users\\91636\\anaconda3\\conda\\Lib\\site-packages\\moviepy\\audio\\io\\readers.py:197: UserWarning: Error in file output_videoss/segment_15.mp4, At time t=2.34-2.39 seconds, indices wanted: 40517-42505, but len(buffer)=40518\n",
      "index 40518 is out of bounds for axis 0 with size 40518\n",
      "  warnings.warn(\"Error in file %s, \"%(self.filename)+\n",
      "\n",
      "WARNING:py.warnings:C:\\Users\\91636\\anaconda3\\conda\\Lib\\site-packages\\moviepy\\audio\\io\\readers.py:197: UserWarning: Error in file output_videoss/segment_15.mp4, At time t=2.39-2.43 seconds, indices wanted: 40517-42504, but len(buffer)=40518\n",
      "index 40518 is out of bounds for axis 0 with size 40518\n",
      "  warnings.warn(\"Error in file %s, \"%(self.filename)+\n",
      "\n",
      "WARNING:py.warnings:C:\\Users\\91636\\anaconda3\\conda\\Lib\\site-packages\\moviepy\\audio\\io\\readers.py:197: UserWarning: Error in file output_videoss/segment_15.mp4, At time t=2.43-2.48 seconds, indices wanted: 40517-42504, but len(buffer)=40518\n",
      "index 40518 is out of bounds for axis 0 with size 40518\n",
      "  warnings.warn(\"Error in file %s, \"%(self.filename)+\n",
      "\n",
      "WARNING:py.warnings:C:\\Users\\91636\\anaconda3\\conda\\Lib\\site-packages\\moviepy\\audio\\io\\readers.py:197: UserWarning: Error in file output_videoss/segment_15.mp4, At time t=2.48-2.52 seconds, indices wanted: 40517-42504, but len(buffer)=40518\n",
      "index 40518 is out of bounds for axis 0 with size 40518\n",
      "  warnings.warn(\"Error in file %s, \"%(self.filename)+\n",
      "\n",
      "WARNING:py.warnings:C:\\Users\\91636\\anaconda3\\conda\\Lib\\site-packages\\moviepy\\audio\\io\\readers.py:197: UserWarning: Error in file output_videoss/segment_15.mp4, At time t=2.52-2.57 seconds, indices wanted: 40517-42504, but len(buffer)=40518\n",
      "index 40518 is out of bounds for axis 0 with size 40518\n",
      "  warnings.warn(\"Error in file %s, \"%(self.filename)+\n",
      "\n",
      "WARNING:py.warnings:C:\\Users\\91636\\anaconda3\\conda\\Lib\\site-packages\\moviepy\\audio\\io\\readers.py:197: UserWarning: Error in file output_videoss/segment_15.mp4, At time t=2.57-2.61 seconds, indices wanted: 40517-42504, but len(buffer)=40518\n",
      "index 40518 is out of bounds for axis 0 with size 40518\n",
      "  warnings.warn(\"Error in file %s, \"%(self.filename)+\n",
      "\n",
      "WARNING:py.warnings:C:\\Users\\91636\\anaconda3\\conda\\Lib\\site-packages\\moviepy\\audio\\io\\readers.py:197: UserWarning: Error in file output_videoss/segment_15.mp4, At time t=2.61-2.66 seconds, indices wanted: 40517-42504, but len(buffer)=40518\n",
      "index 40518 is out of bounds for axis 0 with size 40518\n",
      "  warnings.warn(\"Error in file %s, \"%(self.filename)+\n",
      "\n",
      "WARNING:py.warnings:C:\\Users\\91636\\anaconda3\\conda\\Lib\\site-packages\\moviepy\\audio\\io\\readers.py:197: UserWarning: Error in file output_videoss/segment_15.mp4, At time t=2.66-2.70 seconds, indices wanted: 40517-42504, but len(buffer)=40518\n",
      "index 40518 is out of bounds for axis 0 with size 40518\n",
      "  warnings.warn(\"Error in file %s, \"%(self.filename)+\n",
      "\n",
      "WARNING:py.warnings:C:\\Users\\91636\\anaconda3\\conda\\Lib\\site-packages\\moviepy\\audio\\io\\readers.py:197: UserWarning: Error in file output_videoss/segment_15.mp4, At time t=2.70-2.75 seconds, indices wanted: 40517-42505, but len(buffer)=40518\n",
      "index 40518 is out of bounds for axis 0 with size 40518\n",
      "  warnings.warn(\"Error in file %s, \"%(self.filename)+\n",
      "\n",
      "                                                                \r"
     ]
    },
    {
     "name": "stdout",
     "output_type": "stream",
     "text": [
      "MoviePy - Done.\n",
      "MoviePy - Building file output_videoss/segment_15.gif with imageio.\n"
     ]
    },
    {
     "name": "stderr",
     "output_type": "stream",
     "text": [
      "INFO:__main__:Cutting video segment: start_time=67.779, end_time=67.814, output_path=output_videoss/segment_16.mp4\n",
      "INFO:__main__:Video segment cut.\n"
     ]
    },
    {
     "name": "stdout",
     "output_type": "stream",
     "text": [
      "Moviepy - Running:\n",
      ">>> \"+ \" \".join(cmd)\n",
      "Moviepy - Command successful\n",
      "MoviePy - Writing audio in output_videoss/segment_16_audio.wav\n"
     ]
    },
    {
     "name": "stderr",
     "output_type": "stream",
     "text": [
      "chunk:   0%|          | 0/85 [00:00<?, ?it/s, now=None]WARNING:py.warnings:C:\\Users\\91636\\anaconda3\\conda\\Lib\\site-packages\\moviepy\\audio\\io\\readers.py:197: UserWarning: Error in file output_videoss/segment_16.mp4, At time t=0.00-0.05 seconds, indices wanted: -82611--80620, but len(buffer)=2062\n",
      "index -82611 is out of bounds for axis 0 with size 2062\n",
      "  warnings.warn(\"Error in file %s, \"%(self.filename)+\n",
      "\n",
      "ERROR:__main__:Error converting video to audio: index -82611 is out of bounds for axis 0 with size 2062\n",
      "                                                       \r"
     ]
    },
    {
     "name": "stdout",
     "output_type": "stream",
     "text": [
      "MoviePy - Building file output_videoss/segment_16.gif with imageio.\n"
     ]
    },
    {
     "name": "stderr",
     "output_type": "stream",
     "text": [
      "INFO:__main__:Cutting video segment: start_time=68.945, end_time=69.721, output_path=output_videoss/segment_17.mp4\n"
     ]
    },
    {
     "name": "stdout",
     "output_type": "stream",
     "text": [
      "Moviepy - Running:\n",
      ">>> \"+ \" \".join(cmd)\n"
     ]
    },
    {
     "name": "stderr",
     "output_type": "stream",
     "text": [
      "INFO:__main__:Video segment cut.\n"
     ]
    },
    {
     "name": "stdout",
     "output_type": "stream",
     "text": [
      "Moviepy - Command successful\n",
      "MoviePy - Writing audio in output_videoss/segment_17_audio.wav\n"
     ]
    },
    {
     "name": "stderr",
     "output_type": "stream",
     "text": [
      "chunk:  49%|████▊     | 19/39 [00:00<00:00, 156.00it/s, now=None]WARNING:py.warnings:C:\\Users\\91636\\anaconda3\\conda\\Lib\\site-packages\\moviepy\\audio\\io\\readers.py:197: UserWarning: Error in file output_videoss/segment_17.mp4, At time t=0.84-0.89 seconds, indices wanted: 33658-35613, but len(buffer)=34638\n",
      "index 34638 is out of bounds for axis 0 with size 34638\n",
      "  warnings.warn(\"Error in file %s, \"%(self.filename)+\n",
      "\n",
      "WARNING:py.warnings:C:\\Users\\91636\\anaconda3\\conda\\Lib\\site-packages\\moviepy\\audio\\io\\readers.py:197: UserWarning: Error in file output_videoss/segment_17.mp4, At time t=0.89-0.93 seconds, indices wanted: 34637-36592, but len(buffer)=34638\n",
      "index 34638 is out of bounds for axis 0 with size 34638\n",
      "  warnings.warn(\"Error in file %s, \"%(self.filename)+\n",
      "\n",
      "WARNING:py.warnings:C:\\Users\\91636\\anaconda3\\conda\\Lib\\site-packages\\moviepy\\audio\\io\\readers.py:197: UserWarning: Error in file output_videoss/segment_17.mp4, At time t=0.93-0.98 seconds, indices wanted: 34637-36593, but len(buffer)=34638\n",
      "index 34638 is out of bounds for axis 0 with size 34638\n",
      "  warnings.warn(\"Error in file %s, \"%(self.filename)+\n",
      "\n",
      "WARNING:py.warnings:C:\\Users\\91636\\anaconda3\\conda\\Lib\\site-packages\\moviepy\\audio\\io\\readers.py:197: UserWarning: Error in file output_videoss/segment_17.mp4, At time t=0.98-1.02 seconds, indices wanted: 34637-36592, but len(buffer)=34638\n",
      "index 34638 is out of bounds for axis 0 with size 34638\n",
      "  warnings.warn(\"Error in file %s, \"%(self.filename)+\n",
      "\n",
      "WARNING:py.warnings:C:\\Users\\91636\\anaconda3\\conda\\Lib\\site-packages\\moviepy\\audio\\io\\readers.py:197: UserWarning: Error in file output_videoss/segment_17.mp4, At time t=1.02-1.06 seconds, indices wanted: 34637-36592, but len(buffer)=34638\n",
      "index 34638 is out of bounds for axis 0 with size 34638\n",
      "  warnings.warn(\"Error in file %s, \"%(self.filename)+\n",
      "\n",
      "WARNING:py.warnings:C:\\Users\\91636\\anaconda3\\conda\\Lib\\site-packages\\moviepy\\audio\\io\\readers.py:197: UserWarning: Error in file output_videoss/segment_17.mp4, At time t=1.06-1.11 seconds, indices wanted: 34637-36592, but len(buffer)=34638\n",
      "index 34638 is out of bounds for axis 0 with size 34638\n",
      "  warnings.warn(\"Error in file %s, \"%(self.filename)+\n",
      "\n",
      "WARNING:py.warnings:C:\\Users\\91636\\anaconda3\\conda\\Lib\\site-packages\\moviepy\\audio\\io\\readers.py:197: UserWarning: Error in file output_videoss/segment_17.mp4, At time t=1.11-1.15 seconds, indices wanted: 34637-36593, but len(buffer)=34638\n",
      "index 34638 is out of bounds for axis 0 with size 34638\n",
      "  warnings.warn(\"Error in file %s, \"%(self.filename)+\n",
      "\n",
      "WARNING:py.warnings:C:\\Users\\91636\\anaconda3\\conda\\Lib\\site-packages\\moviepy\\audio\\io\\readers.py:197: UserWarning: Error in file output_videoss/segment_17.mp4, At time t=1.15-1.20 seconds, indices wanted: 34637-36592, but len(buffer)=34638\n",
      "index 34638 is out of bounds for axis 0 with size 34638\n",
      "  warnings.warn(\"Error in file %s, \"%(self.filename)+\n",
      "\n",
      "WARNING:py.warnings:C:\\Users\\91636\\anaconda3\\conda\\Lib\\site-packages\\moviepy\\audio\\io\\readers.py:197: UserWarning: Error in file output_videoss/segment_17.mp4, At time t=1.20-1.24 seconds, indices wanted: 34637-36592, but len(buffer)=34638\n",
      "index 34638 is out of bounds for axis 0 with size 34638\n",
      "  warnings.warn(\"Error in file %s, \"%(self.filename)+\n",
      "\n",
      "WARNING:py.warnings:C:\\Users\\91636\\anaconda3\\conda\\Lib\\site-packages\\moviepy\\audio\\io\\readers.py:197: UserWarning: Error in file output_videoss/segment_17.mp4, At time t=1.24-1.29 seconds, indices wanted: 34637-36592, but len(buffer)=34638\n",
      "index 34638 is out of bounds for axis 0 with size 34638\n",
      "  warnings.warn(\"Error in file %s, \"%(self.filename)+\n",
      "\n",
      "WARNING:py.warnings:C:\\Users\\91636\\anaconda3\\conda\\Lib\\site-packages\\moviepy\\audio\\io\\readers.py:197: UserWarning: Error in file output_videoss/segment_17.mp4, At time t=1.29-1.33 seconds, indices wanted: 34637-36592, but len(buffer)=34638\n",
      "index 34638 is out of bounds for axis 0 with size 34638\n",
      "  warnings.warn(\"Error in file %s, \"%(self.filename)+\n",
      "\n",
      "WARNING:py.warnings:C:\\Users\\91636\\anaconda3\\conda\\Lib\\site-packages\\moviepy\\audio\\io\\readers.py:197: UserWarning: Error in file output_videoss/segment_17.mp4, At time t=1.33-1.38 seconds, indices wanted: 34637-36593, but len(buffer)=34638\n",
      "index 34638 is out of bounds for axis 0 with size 34638\n",
      "  warnings.warn(\"Error in file %s, \"%(self.filename)+\n",
      "\n",
      "WARNING:py.warnings:C:\\Users\\91636\\anaconda3\\conda\\Lib\\site-packages\\moviepy\\audio\\io\\readers.py:197: UserWarning: Error in file output_videoss/segment_17.mp4, At time t=1.38-1.42 seconds, indices wanted: 34637-36592, but len(buffer)=34638\n",
      "index 34638 is out of bounds for axis 0 with size 34638\n",
      "  warnings.warn(\"Error in file %s, \"%(self.filename)+\n",
      "\n",
      "WARNING:py.warnings:C:\\Users\\91636\\anaconda3\\conda\\Lib\\site-packages\\moviepy\\audio\\io\\readers.py:197: UserWarning: Error in file output_videoss/segment_17.mp4, At time t=1.42-1.46 seconds, indices wanted: 34637-36592, but len(buffer)=34638\n",
      "index 34638 is out of bounds for axis 0 with size 34638\n",
      "  warnings.warn(\"Error in file %s, \"%(self.filename)+\n",
      "\n",
      "WARNING:py.warnings:C:\\Users\\91636\\anaconda3\\conda\\Lib\\site-packages\\moviepy\\audio\\io\\readers.py:197: UserWarning: Error in file output_videoss/segment_17.mp4, At time t=1.46-1.51 seconds, indices wanted: 34637-36592, but len(buffer)=34638\n",
      "index 34638 is out of bounds for axis 0 with size 34638\n",
      "  warnings.warn(\"Error in file %s, \"%(self.filename)+\n",
      "\n",
      "WARNING:py.warnings:C:\\Users\\91636\\anaconda3\\conda\\Lib\\site-packages\\moviepy\\audio\\io\\readers.py:197: UserWarning: Error in file output_videoss/segment_17.mp4, At time t=1.51-1.55 seconds, indices wanted: 34637-36593, but len(buffer)=34638\n",
      "index 34638 is out of bounds for axis 0 with size 34638\n",
      "  warnings.warn(\"Error in file %s, \"%(self.filename)+\n",
      "\n",
      "WARNING:py.warnings:C:\\Users\\91636\\anaconda3\\conda\\Lib\\site-packages\\moviepy\\audio\\io\\readers.py:197: UserWarning: Error in file output_videoss/segment_17.mp4, At time t=1.55-1.60 seconds, indices wanted: 34637-36592, but len(buffer)=34638\n",
      "index 34638 is out of bounds for axis 0 with size 34638\n",
      "  warnings.warn(\"Error in file %s, \"%(self.filename)+\n",
      "\n",
      "WARNING:py.warnings:C:\\Users\\91636\\anaconda3\\conda\\Lib\\site-packages\\moviepy\\audio\\io\\readers.py:197: UserWarning: Error in file output_videoss/segment_17.mp4, At time t=1.60-1.64 seconds, indices wanted: 34637-36592, but len(buffer)=34638\n",
      "index 34638 is out of bounds for axis 0 with size 34638\n",
      "  warnings.warn(\"Error in file %s, \"%(self.filename)+\n",
      "\n",
      "chunk:  97%|█████████▋| 38/39 [00:00<00:00, 120.47it/s, now=None]WARNING:py.warnings:C:\\Users\\91636\\anaconda3\\conda\\Lib\\site-packages\\moviepy\\audio\\io\\readers.py:197: UserWarning: Error in file output_videoss/segment_17.mp4, At time t=1.64-1.69 seconds, indices wanted: 34637-36592, but len(buffer)=34638\n",
      "index 34638 is out of bounds for axis 0 with size 34638\n",
      "  warnings.warn(\"Error in file %s, \"%(self.filename)+\n",
      "\n",
      "WARNING:py.warnings:C:\\Users\\91636\\anaconda3\\conda\\Lib\\site-packages\\moviepy\\audio\\io\\readers.py:197: UserWarning: Error in file output_videoss/segment_17.mp4, At time t=1.69-1.73 seconds, indices wanted: 34637-36593, but len(buffer)=34638\n",
      "index 34638 is out of bounds for axis 0 with size 34638\n",
      "  warnings.warn(\"Error in file %s, \"%(self.filename)+\n",
      "\n",
      "                                                                 \r"
     ]
    },
    {
     "name": "stdout",
     "output_type": "stream",
     "text": [
      "MoviePy - Done.\n",
      "MoviePy - Building file output_videoss/segment_17.gif with imageio.\n"
     ]
    },
    {
     "name": "stderr",
     "output_type": "stream",
     "text": [
      "t:  96%|█████████▌| 23/24 [00:00<00:00, 67.01it/s, now=None]WARNING:py.warnings:C:\\Users\\91636\\anaconda3\\conda\\Lib\\site-packages\\moviepy\\video\\io\\ffmpeg_reader.py:123: UserWarning: Warning: in file output_videoss/segment_17_with_text.mp4, 5391360 bytes wanted but 0 bytes read,at frame 23/24, at time 0.77/0.77 sec. Using the last valid frame instead.\n",
      "  warnings.warn(\"Warning: in file %s, \"%(self.filename)+\n",
      "\n",
      "INFO:__main__:Cutting video segment: start_time=72.159, end_time=72.662, output_path=output_videoss/segment_18.mp4\n",
      "INFO:__main__:Video segment cut.\n"
     ]
    },
    {
     "name": "stdout",
     "output_type": "stream",
     "text": [
      "Moviepy - Running:\n",
      ">>> \"+ \" \".join(cmd)\n",
      "Moviepy - Command successful\n",
      "MoviePy - Writing audio in output_videoss/segment_18_audio.wav\n"
     ]
    },
    {
     "name": "stderr",
     "output_type": "stream",
     "text": [
      "                                                               "
     ]
    },
    {
     "name": "stdout",
     "output_type": "stream",
     "text": [
      "MoviePy - Done.\n"
     ]
    },
    {
     "name": "stderr",
     "output_type": "stream",
     "text": [
      "\r"
     ]
    },
    {
     "name": "stdout",
     "output_type": "stream",
     "text": [
      "MoviePy - Building file output_videoss/segment_18.gif with imageio.\n"
     ]
    },
    {
     "name": "stderr",
     "output_type": "stream",
     "text": [
      "INFO:__main__:Cutting video segment: start_time=74.507, end_time=76.038, output_path=output_videoss/segment_19.mp4\n"
     ]
    },
    {
     "name": "stdout",
     "output_type": "stream",
     "text": [
      "Moviepy - Running:\n",
      ">>> \"+ \" \".join(cmd)\n"
     ]
    },
    {
     "name": "stderr",
     "output_type": "stream",
     "text": [
      "INFO:__main__:Video segment cut.\n"
     ]
    },
    {
     "name": "stdout",
     "output_type": "stream",
     "text": [
      "Moviepy - Command successful\n",
      "MoviePy - Writing audio in output_videoss/segment_19_audio.wav\n"
     ]
    },
    {
     "name": "stderr",
     "output_type": "stream",
     "text": [
      "chunk:  51%|█████     | 46/90 [00:07<00:13,  3.34it/s, now=None]WARNING:py.warnings:C:\\Users\\91636\\anaconda3\\conda\\Lib\\site-packages\\moviepy\\audio\\io\\readers.py:197: UserWarning: Error in file output_videoss/segment_19.mp4, At time t=2.03-2.08 seconds, indices wanted: 67475-69468, but len(buffer)=67477\n",
      "index 67477 is out of bounds for axis 0 with size 67477\n",
      "  warnings.warn(\"Error in file %s, \"%(self.filename)+\n",
      "\n",
      "chunk:  52%|█████▏    | 47/90 [00:08<00:14,  2.94it/s, now=None]WARNING:py.warnings:C:\\Users\\91636\\anaconda3\\conda\\Lib\\site-packages\\moviepy\\audio\\io\\readers.py:197: UserWarning: Error in file output_videoss/segment_19.mp4, At time t=2.08-2.13 seconds, indices wanted: 67476-69470, but len(buffer)=67477\n",
      "index 67477 is out of bounds for axis 0 with size 67477\n",
      "  warnings.warn(\"Error in file %s, \"%(self.filename)+\n",
      "\n",
      "WARNING:py.warnings:C:\\Users\\91636\\anaconda3\\conda\\Lib\\site-packages\\moviepy\\audio\\io\\readers.py:197: UserWarning: Error in file output_videoss/segment_19.mp4, At time t=2.13-2.17 seconds, indices wanted: 67476-69469, but len(buffer)=67477\n",
      "index 67477 is out of bounds for axis 0 with size 67477\n",
      "  warnings.warn(\"Error in file %s, \"%(self.filename)+\n",
      "\n",
      "WARNING:py.warnings:C:\\Users\\91636\\anaconda3\\conda\\Lib\\site-packages\\moviepy\\audio\\io\\readers.py:197: UserWarning: Error in file output_videoss/segment_19.mp4, At time t=2.17-2.22 seconds, indices wanted: 67476-69469, but len(buffer)=67477\n",
      "index 67477 is out of bounds for axis 0 with size 67477\n",
      "  warnings.warn(\"Error in file %s, \"%(self.filename)+\n",
      "\n",
      "WARNING:py.warnings:C:\\Users\\91636\\anaconda3\\conda\\Lib\\site-packages\\moviepy\\audio\\io\\readers.py:197: UserWarning: Error in file output_videoss/segment_19.mp4, At time t=2.22-2.26 seconds, indices wanted: 67476-69470, but len(buffer)=67477\n",
      "index 67477 is out of bounds for axis 0 with size 67477\n",
      "  warnings.warn(\"Error in file %s, \"%(self.filename)+\n",
      "\n",
      "WARNING:py.warnings:C:\\Users\\91636\\anaconda3\\conda\\Lib\\site-packages\\moviepy\\audio\\io\\readers.py:197: UserWarning: Error in file output_videoss/segment_19.mp4, At time t=2.26-2.31 seconds, indices wanted: 67476-69469, but len(buffer)=67477\n",
      "index 67477 is out of bounds for axis 0 with size 67477\n",
      "  warnings.warn(\"Error in file %s, \"%(self.filename)+\n",
      "\n",
      "WARNING:py.warnings:C:\\Users\\91636\\anaconda3\\conda\\Lib\\site-packages\\moviepy\\audio\\io\\readers.py:197: UserWarning: Error in file output_videoss/segment_19.mp4, At time t=2.31-2.35 seconds, indices wanted: 67476-69469, but len(buffer)=67477\n",
      "index 67477 is out of bounds for axis 0 with size 67477\n",
      "  warnings.warn(\"Error in file %s, \"%(self.filename)+\n",
      "\n",
      "WARNING:py.warnings:C:\\Users\\91636\\anaconda3\\conda\\Lib\\site-packages\\moviepy\\audio\\io\\readers.py:197: UserWarning: Error in file output_videoss/segment_19.mp4, At time t=2.35-2.40 seconds, indices wanted: 67476-69469, but len(buffer)=67477\n",
      "index 67477 is out of bounds for axis 0 with size 67477\n",
      "  warnings.warn(\"Error in file %s, \"%(self.filename)+\n",
      "\n",
      "WARNING:py.warnings:C:\\Users\\91636\\anaconda3\\conda\\Lib\\site-packages\\moviepy\\audio\\io\\readers.py:197: UserWarning: Error in file output_videoss/segment_19.mp4, At time t=2.40-2.44 seconds, indices wanted: 67476-69470, but len(buffer)=67477\n",
      "index 67477 is out of bounds for axis 0 with size 67477\n",
      "  warnings.warn(\"Error in file %s, \"%(self.filename)+\n",
      "\n",
      "WARNING:py.warnings:C:\\Users\\91636\\anaconda3\\conda\\Lib\\site-packages\\moviepy\\audio\\io\\readers.py:197: UserWarning: Error in file output_videoss/segment_19.mp4, At time t=2.44-2.49 seconds, indices wanted: 67476-69469, but len(buffer)=67477\n",
      "index 67477 is out of bounds for axis 0 with size 67477\n",
      "  warnings.warn(\"Error in file %s, \"%(self.filename)+\n",
      "\n",
      "WARNING:py.warnings:C:\\Users\\91636\\anaconda3\\conda\\Lib\\site-packages\\moviepy\\audio\\io\\readers.py:197: UserWarning: Error in file output_videoss/segment_19.mp4, At time t=2.49-2.53 seconds, indices wanted: 67476-69469, but len(buffer)=67477\n",
      "index 67477 is out of bounds for axis 0 with size 67477\n",
      "  warnings.warn(\"Error in file %s, \"%(self.filename)+\n",
      "\n",
      "WARNING:py.warnings:C:\\Users\\91636\\anaconda3\\conda\\Lib\\site-packages\\moviepy\\audio\\io\\readers.py:197: UserWarning: Error in file output_videoss/segment_19.mp4, At time t=2.53-2.58 seconds, indices wanted: 67476-69470, but len(buffer)=67477\n",
      "index 67477 is out of bounds for axis 0 with size 67477\n",
      "  warnings.warn(\"Error in file %s, \"%(self.filename)+\n",
      "\n",
      "WARNING:py.warnings:C:\\Users\\91636\\anaconda3\\conda\\Lib\\site-packages\\moviepy\\audio\\io\\readers.py:197: UserWarning: Error in file output_videoss/segment_19.mp4, At time t=2.58-2.62 seconds, indices wanted: 67476-69469, but len(buffer)=67477\n",
      "index 67477 is out of bounds for axis 0 with size 67477\n",
      "  warnings.warn(\"Error in file %s, \"%(self.filename)+\n",
      "\n",
      "WARNING:py.warnings:C:\\Users\\91636\\anaconda3\\conda\\Lib\\site-packages\\moviepy\\audio\\io\\readers.py:197: UserWarning: Error in file output_videoss/segment_19.mp4, At time t=2.62-2.67 seconds, indices wanted: 67476-69469, but len(buffer)=67477\n",
      "index 67477 is out of bounds for axis 0 with size 67477\n",
      "  warnings.warn(\"Error in file %s, \"%(self.filename)+\n",
      "\n",
      "WARNING:py.warnings:C:\\Users\\91636\\anaconda3\\conda\\Lib\\site-packages\\moviepy\\audio\\io\\readers.py:197: UserWarning: Error in file output_videoss/segment_19.mp4, At time t=2.67-2.71 seconds, indices wanted: 67476-69470, but len(buffer)=67477\n",
      "index 67477 is out of bounds for axis 0 with size 67477\n",
      "  warnings.warn(\"Error in file %s, \"%(self.filename)+\n",
      "\n",
      "WARNING:py.warnings:C:\\Users\\91636\\anaconda3\\conda\\Lib\\site-packages\\moviepy\\audio\\io\\readers.py:197: UserWarning: Error in file output_videoss/segment_19.mp4, At time t=2.71-2.76 seconds, indices wanted: 67476-69469, but len(buffer)=67477\n",
      "index 67477 is out of bounds for axis 0 with size 67477\n",
      "  warnings.warn(\"Error in file %s, \"%(self.filename)+\n",
      "\n",
      "WARNING:py.warnings:C:\\Users\\91636\\anaconda3\\conda\\Lib\\site-packages\\moviepy\\audio\\io\\readers.py:197: UserWarning: Error in file output_videoss/segment_19.mp4, At time t=2.76-2.80 seconds, indices wanted: 67476-69469, but len(buffer)=67477\n",
      "index 67477 is out of bounds for axis 0 with size 67477\n",
      "  warnings.warn(\"Error in file %s, \"%(self.filename)+\n",
      "\n",
      "WARNING:py.warnings:C:\\Users\\91636\\anaconda3\\conda\\Lib\\site-packages\\moviepy\\audio\\io\\readers.py:197: UserWarning: Error in file output_videoss/segment_19.mp4, At time t=2.80-2.85 seconds, indices wanted: 67476-69469, but len(buffer)=67477\n",
      "index 67477 is out of bounds for axis 0 with size 67477\n",
      "  warnings.warn(\"Error in file %s, \"%(self.filename)+\n",
      "\n",
      "WARNING:py.warnings:C:\\Users\\91636\\anaconda3\\conda\\Lib\\site-packages\\moviepy\\audio\\io\\readers.py:197: UserWarning: Error in file output_videoss/segment_19.mp4, At time t=2.85-2.89 seconds, indices wanted: 67476-69470, but len(buffer)=67477\n",
      "index 67477 is out of bounds for axis 0 with size 67477\n",
      "  warnings.warn(\"Error in file %s, \"%(self.filename)+\n",
      "\n",
      "WARNING:py.warnings:C:\\Users\\91636\\anaconda3\\conda\\Lib\\site-packages\\moviepy\\audio\\io\\readers.py:197: UserWarning: Error in file output_videoss/segment_19.mp4, At time t=2.89-2.94 seconds, indices wanted: 67476-69469, but len(buffer)=67477\n",
      "index 67477 is out of bounds for axis 0 with size 67477\n",
      "  warnings.warn(\"Error in file %s, \"%(self.filename)+\n",
      "\n",
      "WARNING:py.warnings:C:\\Users\\91636\\anaconda3\\conda\\Lib\\site-packages\\moviepy\\audio\\io\\readers.py:197: UserWarning: Error in file output_videoss/segment_19.mp4, At time t=2.94-2.98 seconds, indices wanted: 67476-69469, but len(buffer)=67477\n",
      "index 67477 is out of bounds for axis 0 with size 67477\n",
      "  warnings.warn(\"Error in file %s, \"%(self.filename)+\n",
      "\n",
      "WARNING:py.warnings:C:\\Users\\91636\\anaconda3\\conda\\Lib\\site-packages\\moviepy\\audio\\io\\readers.py:197: UserWarning: Error in file output_videoss/segment_19.mp4, At time t=2.98-3.03 seconds, indices wanted: 67476-69470, but len(buffer)=67477\n",
      "index 67477 is out of bounds for axis 0 with size 67477\n",
      "  warnings.warn(\"Error in file %s, \"%(self.filename)+\n",
      "\n",
      "WARNING:py.warnings:C:\\Users\\91636\\anaconda3\\conda\\Lib\\site-packages\\moviepy\\audio\\io\\readers.py:197: UserWarning: Error in file output_videoss/segment_19.mp4, At time t=3.03-3.08 seconds, indices wanted: 67476-69469, but len(buffer)=67477\n",
      "index 67477 is out of bounds for axis 0 with size 67477\n",
      "  warnings.warn(\"Error in file %s, \"%(self.filename)+\n",
      "\n",
      "WARNING:py.warnings:C:\\Users\\91636\\anaconda3\\conda\\Lib\\site-packages\\moviepy\\audio\\io\\readers.py:197: UserWarning: Error in file output_videoss/segment_19.mp4, At time t=3.08-3.12 seconds, indices wanted: 67476-69469, but len(buffer)=67477\n",
      "index 67477 is out of bounds for axis 0 with size 67477\n",
      "  warnings.warn(\"Error in file %s, \"%(self.filename)+\n",
      "\n",
      "WARNING:py.warnings:C:\\Users\\91636\\anaconda3\\conda\\Lib\\site-packages\\moviepy\\audio\\io\\readers.py:197: UserWarning: Error in file output_videoss/segment_19.mp4, At time t=3.12-3.17 seconds, indices wanted: 67476-69470, but len(buffer)=67477\n",
      "index 67477 is out of bounds for axis 0 with size 67477\n",
      "  warnings.warn(\"Error in file %s, \"%(self.filename)+\n",
      "\n",
      "WARNING:py.warnings:C:\\Users\\91636\\anaconda3\\conda\\Lib\\site-packages\\moviepy\\audio\\io\\readers.py:197: UserWarning: Error in file output_videoss/segment_19.mp4, At time t=3.17-3.21 seconds, indices wanted: 67476-69469, but len(buffer)=67477\n",
      "index 67477 is out of bounds for axis 0 with size 67477\n",
      "  warnings.warn(\"Error in file %s, \"%(self.filename)+\n",
      "\n",
      "chunk:  80%|████████  | 72/90 [00:08<00:01, 14.86it/s, now=None]WARNING:py.warnings:C:\\Users\\91636\\anaconda3\\conda\\Lib\\site-packages\\moviepy\\audio\\io\\readers.py:197: UserWarning: Error in file output_videoss/segment_19.mp4, At time t=3.21-3.26 seconds, indices wanted: 67476-69469, but len(buffer)=67477\n",
      "index 67477 is out of bounds for axis 0 with size 67477\n",
      "  warnings.warn(\"Error in file %s, \"%(self.filename)+\n",
      "\n",
      "WARNING:py.warnings:C:\\Users\\91636\\anaconda3\\conda\\Lib\\site-packages\\moviepy\\audio\\io\\readers.py:197: UserWarning: Error in file output_videoss/segment_19.mp4, At time t=3.26-3.30 seconds, indices wanted: 67476-69469, but len(buffer)=67477\n",
      "index 67477 is out of bounds for axis 0 with size 67477\n",
      "  warnings.warn(\"Error in file %s, \"%(self.filename)+\n",
      "\n",
      "WARNING:py.warnings:C:\\Users\\91636\\anaconda3\\conda\\Lib\\site-packages\\moviepy\\audio\\io\\readers.py:197: UserWarning: Error in file output_videoss/segment_19.mp4, At time t=3.30-3.35 seconds, indices wanted: 67476-69470, but len(buffer)=67477\n",
      "index 67477 is out of bounds for axis 0 with size 67477\n",
      "  warnings.warn(\"Error in file %s, \"%(self.filename)+\n",
      "\n",
      "WARNING:py.warnings:C:\\Users\\91636\\anaconda3\\conda\\Lib\\site-packages\\moviepy\\audio\\io\\readers.py:197: UserWarning: Error in file output_videoss/segment_19.mp4, At time t=3.35-3.39 seconds, indices wanted: 67476-69469, but len(buffer)=67477\n",
      "index 67477 is out of bounds for axis 0 with size 67477\n",
      "  warnings.warn(\"Error in file %s, \"%(self.filename)+\n",
      "\n",
      "WARNING:py.warnings:C:\\Users\\91636\\anaconda3\\conda\\Lib\\site-packages\\moviepy\\audio\\io\\readers.py:197: UserWarning: Error in file output_videoss/segment_19.mp4, At time t=3.39-3.44 seconds, indices wanted: 67476-69469, but len(buffer)=67477\n",
      "index 67477 is out of bounds for axis 0 with size 67477\n",
      "  warnings.warn(\"Error in file %s, \"%(self.filename)+\n",
      "\n",
      "WARNING:py.warnings:C:\\Users\\91636\\anaconda3\\conda\\Lib\\site-packages\\moviepy\\audio\\io\\readers.py:197: UserWarning: Error in file output_videoss/segment_19.mp4, At time t=3.44-3.48 seconds, indices wanted: 67476-69470, but len(buffer)=67477\n",
      "index 67477 is out of bounds for axis 0 with size 67477\n",
      "  warnings.warn(\"Error in file %s, \"%(self.filename)+\n",
      "\n",
      "WARNING:py.warnings:C:\\Users\\91636\\anaconda3\\conda\\Lib\\site-packages\\moviepy\\audio\\io\\readers.py:197: UserWarning: Error in file output_videoss/segment_19.mp4, At time t=3.48-3.53 seconds, indices wanted: 67476-69469, but len(buffer)=67477\n",
      "index 67477 is out of bounds for axis 0 with size 67477\n",
      "  warnings.warn(\"Error in file %s, \"%(self.filename)+\n",
      "\n",
      "WARNING:py.warnings:C:\\Users\\91636\\anaconda3\\conda\\Lib\\site-packages\\moviepy\\audio\\io\\readers.py:197: UserWarning: Error in file output_videoss/segment_19.mp4, At time t=3.53-3.57 seconds, indices wanted: 67476-69469, but len(buffer)=67477\n",
      "index 67477 is out of bounds for axis 0 with size 67477\n",
      "  warnings.warn(\"Error in file %s, \"%(self.filename)+\n",
      "\n",
      "WARNING:py.warnings:C:\\Users\\91636\\anaconda3\\conda\\Lib\\site-packages\\moviepy\\audio\\io\\readers.py:197: UserWarning: Error in file output_videoss/segment_19.mp4, At time t=3.57-3.62 seconds, indices wanted: 67476-69470, but len(buffer)=67477\n",
      "index 67477 is out of bounds for axis 0 with size 67477\n",
      "  warnings.warn(\"Error in file %s, \"%(self.filename)+\n",
      "\n",
      "WARNING:py.warnings:C:\\Users\\91636\\anaconda3\\conda\\Lib\\site-packages\\moviepy\\audio\\io\\readers.py:197: UserWarning: Error in file output_videoss/segment_19.mp4, At time t=3.62-3.66 seconds, indices wanted: 67476-69469, but len(buffer)=67477\n",
      "index 67477 is out of bounds for axis 0 with size 67477\n",
      "  warnings.warn(\"Error in file %s, \"%(self.filename)+\n",
      "\n",
      "WARNING:py.warnings:C:\\Users\\91636\\anaconda3\\conda\\Lib\\site-packages\\moviepy\\audio\\io\\readers.py:197: UserWarning: Error in file output_videoss/segment_19.mp4, At time t=3.66-3.71 seconds, indices wanted: 67476-69469, but len(buffer)=67477\n",
      "index 67477 is out of bounds for axis 0 with size 67477\n",
      "  warnings.warn(\"Error in file %s, \"%(self.filename)+\n",
      "\n",
      "WARNING:py.warnings:C:\\Users\\91636\\anaconda3\\conda\\Lib\\site-packages\\moviepy\\audio\\io\\readers.py:197: UserWarning: Error in file output_videoss/segment_19.mp4, At time t=3.71-3.75 seconds, indices wanted: 67476-69469, but len(buffer)=67477\n",
      "index 67477 is out of bounds for axis 0 with size 67477\n",
      "  warnings.warn(\"Error in file %s, \"%(self.filename)+\n",
      "\n",
      "WARNING:py.warnings:C:\\Users\\91636\\anaconda3\\conda\\Lib\\site-packages\\moviepy\\audio\\io\\readers.py:197: UserWarning: Error in file output_videoss/segment_19.mp4, At time t=3.75-3.80 seconds, indices wanted: 67476-69470, but len(buffer)=67477\n",
      "index 67477 is out of bounds for axis 0 with size 67477\n",
      "  warnings.warn(\"Error in file %s, \"%(self.filename)+\n",
      "\n",
      "WARNING:py.warnings:C:\\Users\\91636\\anaconda3\\conda\\Lib\\site-packages\\moviepy\\audio\\io\\readers.py:197: UserWarning: Error in file output_videoss/segment_19.mp4, At time t=3.80-3.84 seconds, indices wanted: 67476-69469, but len(buffer)=67477\n",
      "index 67477 is out of bounds for axis 0 with size 67477\n",
      "  warnings.warn(\"Error in file %s, \"%(self.filename)+\n",
      "\n",
      "WARNING:py.warnings:C:\\Users\\91636\\anaconda3\\conda\\Lib\\site-packages\\moviepy\\audio\\io\\readers.py:197: UserWarning: Error in file output_videoss/segment_19.mp4, At time t=3.84-3.89 seconds, indices wanted: 67476-69469, but len(buffer)=67477\n",
      "index 67477 is out of bounds for axis 0 with size 67477\n",
      "  warnings.warn(\"Error in file %s, \"%(self.filename)+\n",
      "\n",
      "WARNING:py.warnings:C:\\Users\\91636\\anaconda3\\conda\\Lib\\site-packages\\moviepy\\audio\\io\\readers.py:197: UserWarning: Error in file output_videoss/segment_19.mp4, At time t=3.89-3.93 seconds, indices wanted: 67476-69470, but len(buffer)=67477\n",
      "index 67477 is out of bounds for axis 0 with size 67477\n",
      "  warnings.warn(\"Error in file %s, \"%(self.filename)+\n",
      "\n",
      "WARNING:py.warnings:C:\\Users\\91636\\anaconda3\\conda\\Lib\\site-packages\\moviepy\\audio\\io\\readers.py:197: UserWarning: Error in file output_videoss/segment_19.mp4, At time t=3.93-3.98 seconds, indices wanted: 67476-69469, but len(buffer)=67477\n",
      "index 67477 is out of bounds for axis 0 with size 67477\n",
      "  warnings.warn(\"Error in file %s, \"%(self.filename)+\n",
      "\n",
      "WARNING:py.warnings:C:\\Users\\91636\\anaconda3\\conda\\Lib\\site-packages\\moviepy\\audio\\io\\readers.py:197: UserWarning: Error in file output_videoss/segment_19.mp4, At time t=3.98-4.02 seconds, indices wanted: 67476-69469, but len(buffer)=67477\n",
      "index 67477 is out of bounds for axis 0 with size 67477\n",
      "  warnings.warn(\"Error in file %s, \"%(self.filename)+\n",
      "\n",
      "WARNING:py.warnings:C:\\Users\\91636\\anaconda3\\conda\\Lib\\site-packages\\moviepy\\audio\\io\\readers.py:197: UserWarning: Error in file output_videoss/segment_19.mp4, At time t=4.02-4.07 seconds, indices wanted: 67476-69470, but len(buffer)=67477\n",
      "index 67477 is out of bounds for axis 0 with size 67477\n",
      "  warnings.warn(\"Error in file %s, \"%(self.filename)+\n",
      "\n",
      "                                                                \r"
     ]
    },
    {
     "name": "stdout",
     "output_type": "stream",
     "text": [
      "MoviePy - Done.\n",
      "MoviePy - Building file output_videoss/segment_19.gif with imageio.\n"
     ]
    },
    {
     "name": "stderr",
     "output_type": "stream",
     "text": [
      "INFO:__main__:Cutting video segment: start_time=78.756, end_time=79.394, output_path=output_videoss/segment_20.mp4\n",
      "INFO:__main__:Video segment cut.\n"
     ]
    },
    {
     "name": "stdout",
     "output_type": "stream",
     "text": [
      "Moviepy - Running:\n",
      ">>> \"+ \" \".join(cmd)\n",
      "Moviepy - Command successful\n",
      "MoviePy - Writing audio in output_videoss/segment_20_audio.wav\n"
     ]
    },
    {
     "name": "stderr",
     "output_type": "stream",
     "text": [
      "chunk:   0%|          | 0/76 [00:00<?, ?it/s, now=None]WARNING:py.warnings:C:\\Users\\91636\\anaconda3\\conda\\Lib\\site-packages\\moviepy\\audio\\io\\readers.py:197: UserWarning: Error in file output_videoss/segment_20.mp4, At time t=0.00-0.04 seconds, indices wanted: -46493--44516, but len(buffer)=28699\n",
      "index -46493 is out of bounds for axis 0 with size 28699\n",
      "  warnings.warn(\"Error in file %s, \"%(self.filename)+\n",
      "\n",
      "ERROR:__main__:Error converting video to audio: index -46493 is out of bounds for axis 0 with size 28699\n",
      "                                                       \r"
     ]
    },
    {
     "name": "stdout",
     "output_type": "stream",
     "text": [
      "MoviePy - Building file output_videoss/segment_20.gif with imageio.\n"
     ]
    },
    {
     "name": "stderr",
     "output_type": "stream",
     "text": [
      "ERROR:__main__:Error removing intermediate files: [WinError 32] The process cannot access the file because it is being used by another process: 'output_videoss/segment_20.mp4'\n",
      "INFO:__main__:Cutting video segment: start_time=85.969, end_time=86.847, output_path=output_videoss/segment_21.mp4\n",
      "INFO:__main__:Video segment cut.\n"
     ]
    },
    {
     "name": "stdout",
     "output_type": "stream",
     "text": [
      "Moviepy - Running:\n",
      ">>> \"+ \" \".join(cmd)\n",
      "Moviepy - Command successful\n",
      "MoviePy - Writing audio in output_videoss/segment_21_audio.wav\n"
     ]
    },
    {
     "name": "stderr",
     "output_type": "stream",
     "text": [
      "chunk:  52%|█████▏    | 33/64 [00:06<00:12,  2.52it/s, now=None]WARNING:py.warnings:C:\\Users\\91636\\anaconda3\\conda\\Lib\\site-packages\\moviepy\\audio\\io\\readers.py:197: UserWarning: Error in file output_videoss/segment_21.mp4, At time t=1.43-1.48 seconds, indices wanted: 39076-41053, but len(buffer)=39078\n",
      "index 39078 is out of bounds for axis 0 with size 39078\n",
      "  warnings.warn(\"Error in file %s, \"%(self.filename)+\n",
      "\n",
      "chunk:  53%|█████▎    | 34/64 [00:07<00:12,  2.37it/s, now=None]WARNING:py.warnings:C:\\Users\\91636\\anaconda3\\conda\\Lib\\site-packages\\moviepy\\audio\\io\\readers.py:197: UserWarning: Error in file output_videoss/segment_21.mp4, At time t=1.48-1.52 seconds, indices wanted: 39077-41053, but len(buffer)=39078\n",
      "index 39078 is out of bounds for axis 0 with size 39078\n",
      "  warnings.warn(\"Error in file %s, \"%(self.filename)+\n",
      "\n",
      "WARNING:py.warnings:C:\\Users\\91636\\anaconda3\\conda\\Lib\\site-packages\\moviepy\\audio\\io\\readers.py:197: UserWarning: Error in file output_videoss/segment_21.mp4, At time t=1.52-1.57 seconds, indices wanted: 39077-41054, but len(buffer)=39078\n",
      "index 39078 is out of bounds for axis 0 with size 39078\n",
      "  warnings.warn(\"Error in file %s, \"%(self.filename)+\n",
      "\n",
      "WARNING:py.warnings:C:\\Users\\91636\\anaconda3\\conda\\Lib\\site-packages\\moviepy\\audio\\io\\readers.py:197: UserWarning: Error in file output_videoss/segment_21.mp4, At time t=1.57-1.61 seconds, indices wanted: 39077-41053, but len(buffer)=39078\n",
      "index 39078 is out of bounds for axis 0 with size 39078\n",
      "  warnings.warn(\"Error in file %s, \"%(self.filename)+\n",
      "\n",
      "WARNING:py.warnings:C:\\Users\\91636\\anaconda3\\conda\\Lib\\site-packages\\moviepy\\audio\\io\\readers.py:197: UserWarning: Error in file output_videoss/segment_21.mp4, At time t=1.61-1.66 seconds, indices wanted: 39077-41054, but len(buffer)=39078\n",
      "index 39078 is out of bounds for axis 0 with size 39078\n",
      "  warnings.warn(\"Error in file %s, \"%(self.filename)+\n",
      "\n",
      "WARNING:py.warnings:C:\\Users\\91636\\anaconda3\\conda\\Lib\\site-packages\\moviepy\\audio\\io\\readers.py:197: UserWarning: Error in file output_videoss/segment_21.mp4, At time t=1.66-1.70 seconds, indices wanted: 39077-41054, but len(buffer)=39078\n",
      "index 39078 is out of bounds for axis 0 with size 39078\n",
      "  warnings.warn(\"Error in file %s, \"%(self.filename)+\n",
      "\n",
      "WARNING:py.warnings:C:\\Users\\91636\\anaconda3\\conda\\Lib\\site-packages\\moviepy\\audio\\io\\readers.py:197: UserWarning: Error in file output_videoss/segment_21.mp4, At time t=1.70-1.75 seconds, indices wanted: 39077-41053, but len(buffer)=39078\n",
      "index 39078 is out of bounds for axis 0 with size 39078\n",
      "  warnings.warn(\"Error in file %s, \"%(self.filename)+\n",
      "\n",
      "WARNING:py.warnings:C:\\Users\\91636\\anaconda3\\conda\\Lib\\site-packages\\moviepy\\audio\\io\\readers.py:197: UserWarning: Error in file output_videoss/segment_21.mp4, At time t=1.75-1.79 seconds, indices wanted: 39077-41054, but len(buffer)=39078\n",
      "index 39078 is out of bounds for axis 0 with size 39078\n",
      "  warnings.warn(\"Error in file %s, \"%(self.filename)+\n",
      "\n",
      "WARNING:py.warnings:C:\\Users\\91636\\anaconda3\\conda\\Lib\\site-packages\\moviepy\\audio\\io\\readers.py:197: UserWarning: Error in file output_videoss/segment_21.mp4, At time t=1.79-1.84 seconds, indices wanted: 39077-41053, but len(buffer)=39078\n",
      "index 39078 is out of bounds for axis 0 with size 39078\n",
      "  warnings.warn(\"Error in file %s, \"%(self.filename)+\n",
      "\n",
      "WARNING:py.warnings:C:\\Users\\91636\\anaconda3\\conda\\Lib\\site-packages\\moviepy\\audio\\io\\readers.py:197: UserWarning: Error in file output_videoss/segment_21.mp4, At time t=1.84-1.88 seconds, indices wanted: 39077-41054, but len(buffer)=39078\n",
      "index 39078 is out of bounds for axis 0 with size 39078\n",
      "  warnings.warn(\"Error in file %s, \"%(self.filename)+\n",
      "\n",
      "WARNING:py.warnings:C:\\Users\\91636\\anaconda3\\conda\\Lib\\site-packages\\moviepy\\audio\\io\\readers.py:197: UserWarning: Error in file output_videoss/segment_21.mp4, At time t=1.88-1.93 seconds, indices wanted: 39077-41054, but len(buffer)=39078\n",
      "index 39078 is out of bounds for axis 0 with size 39078\n",
      "  warnings.warn(\"Error in file %s, \"%(self.filename)+\n",
      "\n",
      "WARNING:py.warnings:C:\\Users\\91636\\anaconda3\\conda\\Lib\\site-packages\\moviepy\\audio\\io\\readers.py:197: UserWarning: Error in file output_videoss/segment_21.mp4, At time t=1.93-1.97 seconds, indices wanted: 39077-41053, but len(buffer)=39078\n",
      "index 39078 is out of bounds for axis 0 with size 39078\n",
      "  warnings.warn(\"Error in file %s, \"%(self.filename)+\n",
      "\n",
      "WARNING:py.warnings:C:\\Users\\91636\\anaconda3\\conda\\Lib\\site-packages\\moviepy\\audio\\io\\readers.py:197: UserWarning: Error in file output_videoss/segment_21.mp4, At time t=1.97-2.02 seconds, indices wanted: 39077-41054, but len(buffer)=39078\n",
      "index 39078 is out of bounds for axis 0 with size 39078\n",
      "  warnings.warn(\"Error in file %s, \"%(self.filename)+\n",
      "\n",
      "WARNING:py.warnings:C:\\Users\\91636\\anaconda3\\conda\\Lib\\site-packages\\moviepy\\audio\\io\\readers.py:197: UserWarning: Error in file output_videoss/segment_21.mp4, At time t=2.02-2.06 seconds, indices wanted: 39077-41054, but len(buffer)=39078\n",
      "index 39078 is out of bounds for axis 0 with size 39078\n",
      "  warnings.warn(\"Error in file %s, \"%(self.filename)+\n",
      "\n",
      "WARNING:py.warnings:C:\\Users\\91636\\anaconda3\\conda\\Lib\\site-packages\\moviepy\\audio\\io\\readers.py:197: UserWarning: Error in file output_videoss/segment_21.mp4, At time t=2.06-2.11 seconds, indices wanted: 39077-41053, but len(buffer)=39078\n",
      "index 39078 is out of bounds for axis 0 with size 39078\n",
      "  warnings.warn(\"Error in file %s, \"%(self.filename)+\n",
      "\n",
      "WARNING:py.warnings:C:\\Users\\91636\\anaconda3\\conda\\Lib\\site-packages\\moviepy\\audio\\io\\readers.py:197: UserWarning: Error in file output_videoss/segment_21.mp4, At time t=2.11-2.15 seconds, indices wanted: 39077-41054, but len(buffer)=39078\n",
      "index 39078 is out of bounds for axis 0 with size 39078\n",
      "  warnings.warn(\"Error in file %s, \"%(self.filename)+\n",
      "\n",
      "WARNING:py.warnings:C:\\Users\\91636\\anaconda3\\conda\\Lib\\site-packages\\moviepy\\audio\\io\\readers.py:197: UserWarning: Error in file output_videoss/segment_21.mp4, At time t=2.15-2.20 seconds, indices wanted: 39077-41053, but len(buffer)=39078\n",
      "index 39078 is out of bounds for axis 0 with size 39078\n",
      "  warnings.warn(\"Error in file %s, \"%(self.filename)+\n",
      "\n",
      "WARNING:py.warnings:C:\\Users\\91636\\anaconda3\\conda\\Lib\\site-packages\\moviepy\\audio\\io\\readers.py:197: UserWarning: Error in file output_videoss/segment_21.mp4, At time t=2.20-2.24 seconds, indices wanted: 39077-41054, but len(buffer)=39078\n",
      "index 39078 is out of bounds for axis 0 with size 39078\n",
      "  warnings.warn(\"Error in file %s, \"%(self.filename)+\n",
      "\n",
      "WARNING:py.warnings:C:\\Users\\91636\\anaconda3\\conda\\Lib\\site-packages\\moviepy\\audio\\io\\readers.py:197: UserWarning: Error in file output_videoss/segment_21.mp4, At time t=2.24-2.29 seconds, indices wanted: 39077-41054, but len(buffer)=39078\n",
      "index 39078 is out of bounds for axis 0 with size 39078\n",
      "  warnings.warn(\"Error in file %s, \"%(self.filename)+\n",
      "\n",
      "WARNING:py.warnings:C:\\Users\\91636\\anaconda3\\conda\\Lib\\site-packages\\moviepy\\audio\\io\\readers.py:197: UserWarning: Error in file output_videoss/segment_21.mp4, At time t=2.29-2.33 seconds, indices wanted: 39077-41053, but len(buffer)=39078\n",
      "index 39078 is out of bounds for axis 0 with size 39078\n",
      "  warnings.warn(\"Error in file %s, \"%(self.filename)+\n",
      "\n",
      "WARNING:py.warnings:C:\\Users\\91636\\anaconda3\\conda\\Lib\\site-packages\\moviepy\\audio\\io\\readers.py:197: UserWarning: Error in file output_videoss/segment_21.mp4, At time t=2.33-2.38 seconds, indices wanted: 39077-41054, but len(buffer)=39078\n",
      "index 39078 is out of bounds for axis 0 with size 39078\n",
      "  warnings.warn(\"Error in file %s, \"%(self.filename)+\n",
      "\n",
      "WARNING:py.warnings:C:\\Users\\91636\\anaconda3\\conda\\Lib\\site-packages\\moviepy\\audio\\io\\readers.py:197: UserWarning: Error in file output_videoss/segment_21.mp4, At time t=2.38-2.42 seconds, indices wanted: 39077-41053, but len(buffer)=39078\n",
      "index 39078 is out of bounds for axis 0 with size 39078\n",
      "  warnings.warn(\"Error in file %s, \"%(self.filename)+\n",
      "\n",
      "WARNING:py.warnings:C:\\Users\\91636\\anaconda3\\conda\\Lib\\site-packages\\moviepy\\audio\\io\\readers.py:197: UserWarning: Error in file output_videoss/segment_21.mp4, At time t=2.42-2.47 seconds, indices wanted: 39077-41054, but len(buffer)=39078\n",
      "index 39078 is out of bounds for axis 0 with size 39078\n",
      "  warnings.warn(\"Error in file %s, \"%(self.filename)+\n",
      "\n",
      "WARNING:py.warnings:C:\\Users\\91636\\anaconda3\\conda\\Lib\\site-packages\\moviepy\\audio\\io\\readers.py:197: UserWarning: Error in file output_videoss/segment_21.mp4, At time t=2.47-2.51 seconds, indices wanted: 39077-41054, but len(buffer)=39078\n",
      "index 39078 is out of bounds for axis 0 with size 39078\n",
      "  warnings.warn(\"Error in file %s, \"%(self.filename)+\n",
      "\n",
      "WARNING:py.warnings:C:\\Users\\91636\\anaconda3\\conda\\Lib\\site-packages\\moviepy\\audio\\io\\readers.py:197: UserWarning: Error in file output_videoss/segment_21.mp4, At time t=2.51-2.56 seconds, indices wanted: 39077-41053, but len(buffer)=39078\n",
      "index 39078 is out of bounds for axis 0 with size 39078\n",
      "  warnings.warn(\"Error in file %s, \"%(self.filename)+\n",
      "\n",
      "WARNING:py.warnings:C:\\Users\\91636\\anaconda3\\conda\\Lib\\site-packages\\moviepy\\audio\\io\\readers.py:197: UserWarning: Error in file output_videoss/segment_21.mp4, At time t=2.56-2.60 seconds, indices wanted: 39077-41054, but len(buffer)=39078\n",
      "index 39078 is out of bounds for axis 0 with size 39078\n",
      "  warnings.warn(\"Error in file %s, \"%(self.filename)+\n",
      "\n",
      "chunk:  92%|█████████▏| 59/64 [00:07<00:00, 21.96it/s, now=None]WARNING:py.warnings:C:\\Users\\91636\\anaconda3\\conda\\Lib\\site-packages\\moviepy\\audio\\io\\readers.py:197: UserWarning: Error in file output_videoss/segment_21.mp4, At time t=2.60-2.65 seconds, indices wanted: 39077-41053, but len(buffer)=39078\n",
      "index 39078 is out of bounds for axis 0 with size 39078\n",
      "  warnings.warn(\"Error in file %s, \"%(self.filename)+\n",
      "\n",
      "WARNING:py.warnings:C:\\Users\\91636\\anaconda3\\conda\\Lib\\site-packages\\moviepy\\audio\\io\\readers.py:197: UserWarning: Error in file output_videoss/segment_21.mp4, At time t=2.65-2.69 seconds, indices wanted: 39077-41054, but len(buffer)=39078\n",
      "index 39078 is out of bounds for axis 0 with size 39078\n",
      "  warnings.warn(\"Error in file %s, \"%(self.filename)+\n",
      "\n",
      "WARNING:py.warnings:C:\\Users\\91636\\anaconda3\\conda\\Lib\\site-packages\\moviepy\\audio\\io\\readers.py:197: UserWarning: Error in file output_videoss/segment_21.mp4, At time t=2.69-2.74 seconds, indices wanted: 39077-41054, but len(buffer)=39078\n",
      "index 39078 is out of bounds for axis 0 with size 39078\n",
      "  warnings.warn(\"Error in file %s, \"%(self.filename)+\n",
      "\n",
      "WARNING:py.warnings:C:\\Users\\91636\\anaconda3\\conda\\Lib\\site-packages\\moviepy\\audio\\io\\readers.py:197: UserWarning: Error in file output_videoss/segment_21.mp4, At time t=2.74-2.78 seconds, indices wanted: 39077-41053, but len(buffer)=39078\n",
      "index 39078 is out of bounds for axis 0 with size 39078\n",
      "  warnings.warn(\"Error in file %s, \"%(self.filename)+\n",
      "\n",
      "WARNING:py.warnings:C:\\Users\\91636\\anaconda3\\conda\\Lib\\site-packages\\moviepy\\audio\\io\\readers.py:197: UserWarning: Error in file output_videoss/segment_21.mp4, At time t=2.78-2.83 seconds, indices wanted: 39077-41054, but len(buffer)=39078\n",
      "index 39078 is out of bounds for axis 0 with size 39078\n",
      "  warnings.warn(\"Error in file %s, \"%(self.filename)+\n",
      "\n",
      "WARNING:py.warnings:C:\\Users\\91636\\anaconda3\\conda\\Lib\\site-packages\\moviepy\\audio\\io\\readers.py:197: UserWarning: Error in file output_videoss/segment_21.mp4, At time t=2.83-2.87 seconds, indices wanted: 39077-41054, but len(buffer)=39078\n",
      "index 39078 is out of bounds for axis 0 with size 39078\n",
      "  warnings.warn(\"Error in file %s, \"%(self.filename)+\n",
      "\n",
      "                                                                \r"
     ]
    },
    {
     "name": "stdout",
     "output_type": "stream",
     "text": [
      "MoviePy - Done.\n",
      "MoviePy - Building file output_videoss/segment_21.gif with imageio.\n"
     ]
    },
    {
     "name": "stderr",
     "output_type": "stream",
     "text": [
      "t:  93%|█████████▎| 25/27 [00:00<00:00, 68.24it/s, now=None]WARNING:py.warnings:C:\\Users\\91636\\anaconda3\\conda\\Lib\\site-packages\\moviepy\\video\\io\\ffmpeg_reader.py:123: UserWarning: Warning: in file output_videoss/segment_21_with_text.mp4, 5391360 bytes wanted but 0 bytes read,at frame 26/27, at time 0.87/0.87 sec. Using the last valid frame instead.\n",
      "  warnings.warn(\"Warning: in file %s, \"%(self.filename)+\n",
      "\n",
      "INFO:__main__:Cutting video segment: start_time=88.229, end_time=89.23, output_path=output_videoss/segment_22.mp4\n",
      "INFO:__main__:Video segment cut.\n"
     ]
    },
    {
     "name": "stdout",
     "output_type": "stream",
     "text": [
      "Moviepy - Running:\n",
      ">>> \"+ \" \".join(cmd)\n",
      "Moviepy - Command successful\n",
      "MoviePy - Writing audio in output_videoss/segment_22_audio.wav\n"
     ]
    },
    {
     "name": "stderr",
     "output_type": "stream",
     "text": [
      "                                                               "
     ]
    },
    {
     "name": "stdout",
     "output_type": "stream",
     "text": [
      "MoviePy - Done.\n"
     ]
    },
    {
     "name": "stderr",
     "output_type": "stream",
     "text": [
      "\r"
     ]
    },
    {
     "name": "stdout",
     "output_type": "stream",
     "text": [
      "MoviePy - Building file output_videoss/segment_22.gif with imageio.\n"
     ]
    },
    {
     "name": "stderr",
     "output_type": "stream",
     "text": [
      "INFO:__main__:Cutting video segment: start_time=90.161, end_time=91.143, output_path=output_videoss/segment_23.mp4\n",
      "INFO:__main__:Video segment cut.\n"
     ]
    },
    {
     "name": "stdout",
     "output_type": "stream",
     "text": [
      "Moviepy - Running:\n",
      ">>> \"+ \" \".join(cmd)\n",
      "Moviepy - Command successful\n",
      "MoviePy - Writing audio in output_videoss/segment_23_audio.wav\n"
     ]
    },
    {
     "name": "stderr",
     "output_type": "stream",
     "text": [
      "chunk:  51%|█████▏    | 36/70 [00:07<00:13,  2.47it/s, now=None]WARNING:py.warnings:C:\\Users\\91636\\anaconda3\\conda\\Lib\\site-packages\\moviepy\\audio\\io\\readers.py:197: UserWarning: Error in file output_videoss/segment_23.mp4, At time t=1.58-1.63 seconds, indices wanted: 43397-45393, but len(buffer)=43399\n",
      "index 43399 is out of bounds for axis 0 with size 43399\n",
      "  warnings.warn(\"Error in file %s, \"%(self.filename)+\n",
      "\n",
      "chunk:  53%|█████▎    | 37/70 [00:08<00:14,  2.31it/s, now=None]WARNING:py.warnings:C:\\Users\\91636\\anaconda3\\conda\\Lib\\site-packages\\moviepy\\audio\\io\\readers.py:197: UserWarning: Error in file output_videoss/segment_23.mp4, At time t=1.63-1.68 seconds, indices wanted: 43398-45394, but len(buffer)=43399\n",
      "index 43399 is out of bounds for axis 0 with size 43399\n",
      "  warnings.warn(\"Error in file %s, \"%(self.filename)+\n",
      "\n",
      "WARNING:py.warnings:C:\\Users\\91636\\anaconda3\\conda\\Lib\\site-packages\\moviepy\\audio\\io\\readers.py:197: UserWarning: Error in file output_videoss/segment_23.mp4, At time t=1.68-1.72 seconds, indices wanted: 43398-45394, but len(buffer)=43399\n",
      "index 43399 is out of bounds for axis 0 with size 43399\n",
      "  warnings.warn(\"Error in file %s, \"%(self.filename)+\n",
      "\n",
      "WARNING:py.warnings:C:\\Users\\91636\\anaconda3\\conda\\Lib\\site-packages\\moviepy\\audio\\io\\readers.py:197: UserWarning: Error in file output_videoss/segment_23.mp4, At time t=1.72-1.77 seconds, indices wanted: 43398-45394, but len(buffer)=43399\n",
      "index 43399 is out of bounds for axis 0 with size 43399\n",
      "  warnings.warn(\"Error in file %s, \"%(self.filename)+\n",
      "\n",
      "WARNING:py.warnings:C:\\Users\\91636\\anaconda3\\conda\\Lib\\site-packages\\moviepy\\audio\\io\\readers.py:197: UserWarning: Error in file output_videoss/segment_23.mp4, At time t=1.77-1.81 seconds, indices wanted: 43398-45395, but len(buffer)=43399\n",
      "index 43399 is out of bounds for axis 0 with size 43399\n",
      "  warnings.warn(\"Error in file %s, \"%(self.filename)+\n",
      "\n",
      "WARNING:py.warnings:C:\\Users\\91636\\anaconda3\\conda\\Lib\\site-packages\\moviepy\\audio\\io\\readers.py:197: UserWarning: Error in file output_videoss/segment_23.mp4, At time t=1.81-1.86 seconds, indices wanted: 43398-45394, but len(buffer)=43399\n",
      "index 43399 is out of bounds for axis 0 with size 43399\n",
      "  warnings.warn(\"Error in file %s, \"%(self.filename)+\n",
      "\n",
      "WARNING:py.warnings:C:\\Users\\91636\\anaconda3\\conda\\Lib\\site-packages\\moviepy\\audio\\io\\readers.py:197: UserWarning: Error in file output_videoss/segment_23.mp4, At time t=1.86-1.90 seconds, indices wanted: 43398-45394, but len(buffer)=43399\n",
      "index 43399 is out of bounds for axis 0 with size 43399\n",
      "  warnings.warn(\"Error in file %s, \"%(self.filename)+\n",
      "\n",
      "WARNING:py.warnings:C:\\Users\\91636\\anaconda3\\conda\\Lib\\site-packages\\moviepy\\audio\\io\\readers.py:197: UserWarning: Error in file output_videoss/segment_23.mp4, At time t=1.90-1.95 seconds, indices wanted: 43398-45394, but len(buffer)=43399\n",
      "index 43399 is out of bounds for axis 0 with size 43399\n",
      "  warnings.warn(\"Error in file %s, \"%(self.filename)+\n",
      "\n",
      "WARNING:py.warnings:C:\\Users\\91636\\anaconda3\\conda\\Lib\\site-packages\\moviepy\\audio\\io\\readers.py:197: UserWarning: Error in file output_videoss/segment_23.mp4, At time t=1.95-1.99 seconds, indices wanted: 43398-45394, but len(buffer)=43399\n",
      "index 43399 is out of bounds for axis 0 with size 43399\n",
      "  warnings.warn(\"Error in file %s, \"%(self.filename)+\n",
      "\n",
      "WARNING:py.warnings:C:\\Users\\91636\\anaconda3\\conda\\Lib\\site-packages\\moviepy\\audio\\io\\readers.py:197: UserWarning: Error in file output_videoss/segment_23.mp4, At time t=1.99-2.04 seconds, indices wanted: 43398-45394, but len(buffer)=43399\n",
      "index 43399 is out of bounds for axis 0 with size 43399\n",
      "  warnings.warn(\"Error in file %s, \"%(self.filename)+\n",
      "\n",
      "WARNING:py.warnings:C:\\Users\\91636\\anaconda3\\conda\\Lib\\site-packages\\moviepy\\audio\\io\\readers.py:197: UserWarning: Error in file output_videoss/segment_23.mp4, At time t=2.04-2.08 seconds, indices wanted: 43398-45394, but len(buffer)=43399\n",
      "index 43399 is out of bounds for axis 0 with size 43399\n",
      "  warnings.warn(\"Error in file %s, \"%(self.filename)+\n",
      "\n",
      "WARNING:py.warnings:C:\\Users\\91636\\anaconda3\\conda\\Lib\\site-packages\\moviepy\\audio\\io\\readers.py:197: UserWarning: Error in file output_videoss/segment_23.mp4, At time t=2.08-2.13 seconds, indices wanted: 43398-45394, but len(buffer)=43399\n",
      "index 43399 is out of bounds for axis 0 with size 43399\n",
      "  warnings.warn(\"Error in file %s, \"%(self.filename)+\n",
      "\n",
      "WARNING:py.warnings:C:\\Users\\91636\\anaconda3\\conda\\Lib\\site-packages\\moviepy\\audio\\io\\readers.py:197: UserWarning: Error in file output_videoss/segment_23.mp4, At time t=2.13-2.17 seconds, indices wanted: 43398-45394, but len(buffer)=43399\n",
      "index 43399 is out of bounds for axis 0 with size 43399\n",
      "  warnings.warn(\"Error in file %s, \"%(self.filename)+\n",
      "\n",
      "WARNING:py.warnings:C:\\Users\\91636\\anaconda3\\conda\\Lib\\site-packages\\moviepy\\audio\\io\\readers.py:197: UserWarning: Error in file output_videoss/segment_23.mp4, At time t=2.17-2.22 seconds, indices wanted: 43398-45394, but len(buffer)=43399\n",
      "index 43399 is out of bounds for axis 0 with size 43399\n",
      "  warnings.warn(\"Error in file %s, \"%(self.filename)+\n",
      "\n",
      "WARNING:py.warnings:C:\\Users\\91636\\anaconda3\\conda\\Lib\\site-packages\\moviepy\\audio\\io\\readers.py:197: UserWarning: Error in file output_videoss/segment_23.mp4, At time t=2.22-2.26 seconds, indices wanted: 43398-45395, but len(buffer)=43399\n",
      "index 43399 is out of bounds for axis 0 with size 43399\n",
      "  warnings.warn(\"Error in file %s, \"%(self.filename)+\n",
      "\n",
      "WARNING:py.warnings:C:\\Users\\91636\\anaconda3\\conda\\Lib\\site-packages\\moviepy\\audio\\io\\readers.py:197: UserWarning: Error in file output_videoss/segment_23.mp4, At time t=2.26-2.31 seconds, indices wanted: 43398-45394, but len(buffer)=43399\n",
      "index 43399 is out of bounds for axis 0 with size 43399\n",
      "  warnings.warn(\"Error in file %s, \"%(self.filename)+\n",
      "\n",
      "WARNING:py.warnings:C:\\Users\\91636\\anaconda3\\conda\\Lib\\site-packages\\moviepy\\audio\\io\\readers.py:197: UserWarning: Error in file output_videoss/segment_23.mp4, At time t=2.31-2.35 seconds, indices wanted: 43398-45394, but len(buffer)=43399\n",
      "index 43399 is out of bounds for axis 0 with size 43399\n",
      "  warnings.warn(\"Error in file %s, \"%(self.filename)+\n",
      "\n",
      "WARNING:py.warnings:C:\\Users\\91636\\anaconda3\\conda\\Lib\\site-packages\\moviepy\\audio\\io\\readers.py:197: UserWarning: Error in file output_videoss/segment_23.mp4, At time t=2.35-2.40 seconds, indices wanted: 43398-45394, but len(buffer)=43399\n",
      "index 43399 is out of bounds for axis 0 with size 43399\n",
      "  warnings.warn(\"Error in file %s, \"%(self.filename)+\n",
      "\n",
      "WARNING:py.warnings:C:\\Users\\91636\\anaconda3\\conda\\Lib\\site-packages\\moviepy\\audio\\io\\readers.py:197: UserWarning: Error in file output_videoss/segment_23.mp4, At time t=2.40-2.45 seconds, indices wanted: 43398-45394, but len(buffer)=43399\n",
      "index 43399 is out of bounds for axis 0 with size 43399\n",
      "  warnings.warn(\"Error in file %s, \"%(self.filename)+\n",
      "\n",
      "WARNING:py.warnings:C:\\Users\\91636\\anaconda3\\conda\\Lib\\site-packages\\moviepy\\audio\\io\\readers.py:197: UserWarning: Error in file output_videoss/segment_23.mp4, At time t=2.45-2.49 seconds, indices wanted: 43398-45394, but len(buffer)=43399\n",
      "index 43399 is out of bounds for axis 0 with size 43399\n",
      "  warnings.warn(\"Error in file %s, \"%(self.filename)+\n",
      "\n",
      "WARNING:py.warnings:C:\\Users\\91636\\anaconda3\\conda\\Lib\\site-packages\\moviepy\\audio\\io\\readers.py:197: UserWarning: Error in file output_videoss/segment_23.mp4, At time t=2.49-2.54 seconds, indices wanted: 43398-45394, but len(buffer)=43399\n",
      "index 43399 is out of bounds for axis 0 with size 43399\n",
      "  warnings.warn(\"Error in file %s, \"%(self.filename)+\n",
      "\n",
      "WARNING:py.warnings:C:\\Users\\91636\\anaconda3\\conda\\Lib\\site-packages\\moviepy\\audio\\io\\readers.py:197: UserWarning: Error in file output_videoss/segment_23.mp4, At time t=2.54-2.58 seconds, indices wanted: 43398-45394, but len(buffer)=43399\n",
      "index 43399 is out of bounds for axis 0 with size 43399\n",
      "  warnings.warn(\"Error in file %s, \"%(self.filename)+\n",
      "\n",
      "WARNING:py.warnings:C:\\Users\\91636\\anaconda3\\conda\\Lib\\site-packages\\moviepy\\audio\\io\\readers.py:197: UserWarning: Error in file output_videoss/segment_23.mp4, At time t=2.58-2.63 seconds, indices wanted: 43398-45394, but len(buffer)=43399\n",
      "index 43399 is out of bounds for axis 0 with size 43399\n",
      "  warnings.warn(\"Error in file %s, \"%(self.filename)+\n",
      "\n",
      "WARNING:py.warnings:C:\\Users\\91636\\anaconda3\\conda\\Lib\\site-packages\\moviepy\\audio\\io\\readers.py:197: UserWarning: Error in file output_videoss/segment_23.mp4, At time t=2.63-2.67 seconds, indices wanted: 43398-45394, but len(buffer)=43399\n",
      "index 43399 is out of bounds for axis 0 with size 43399\n",
      "  warnings.warn(\"Error in file %s, \"%(self.filename)+\n",
      "\n",
      "WARNING:py.warnings:C:\\Users\\91636\\anaconda3\\conda\\Lib\\site-packages\\moviepy\\audio\\io\\readers.py:197: UserWarning: Error in file output_videoss/segment_23.mp4, At time t=2.67-2.72 seconds, indices wanted: 43398-45395, but len(buffer)=43399\n",
      "index 43399 is out of bounds for axis 0 with size 43399\n",
      "  warnings.warn(\"Error in file %s, \"%(self.filename)+\n",
      "\n",
      "WARNING:py.warnings:C:\\Users\\91636\\anaconda3\\conda\\Lib\\site-packages\\moviepy\\audio\\io\\readers.py:197: UserWarning: Error in file output_videoss/segment_23.mp4, At time t=2.72-2.76 seconds, indices wanted: 43398-45394, but len(buffer)=43399\n",
      "index 43399 is out of bounds for axis 0 with size 43399\n",
      "  warnings.warn(\"Error in file %s, \"%(self.filename)+\n",
      "\n",
      "WARNING:py.warnings:C:\\Users\\91636\\anaconda3\\conda\\Lib\\site-packages\\moviepy\\audio\\io\\readers.py:197: UserWarning: Error in file output_videoss/segment_23.mp4, At time t=2.76-2.81 seconds, indices wanted: 43398-45394, but len(buffer)=43399\n",
      "index 43399 is out of bounds for axis 0 with size 43399\n",
      "  warnings.warn(\"Error in file %s, \"%(self.filename)+\n",
      "\n",
      "WARNING:py.warnings:C:\\Users\\91636\\anaconda3\\conda\\Lib\\site-packages\\moviepy\\audio\\io\\readers.py:197: UserWarning: Error in file output_videoss/segment_23.mp4, At time t=2.81-2.85 seconds, indices wanted: 43398-45394, but len(buffer)=43399\n",
      "index 43399 is out of bounds for axis 0 with size 43399\n",
      "  warnings.warn(\"Error in file %s, \"%(self.filename)+\n",
      "\n",
      "WARNING:py.warnings:C:\\Users\\91636\\anaconda3\\conda\\Lib\\site-packages\\moviepy\\audio\\io\\readers.py:197: UserWarning: Error in file output_videoss/segment_23.mp4, At time t=2.85-2.90 seconds, indices wanted: 43398-45394, but len(buffer)=43399\n",
      "index 43399 is out of bounds for axis 0 with size 43399\n",
      "  warnings.warn(\"Error in file %s, \"%(self.filename)+\n",
      "\n",
      "WARNING:py.warnings:C:\\Users\\91636\\anaconda3\\conda\\Lib\\site-packages\\moviepy\\audio\\io\\readers.py:197: UserWarning: Error in file output_videoss/segment_23.mp4, At time t=2.90-2.94 seconds, indices wanted: 43398-45394, but len(buffer)=43399\n",
      "index 43399 is out of bounds for axis 0 with size 43399\n",
      "  warnings.warn(\"Error in file %s, \"%(self.filename)+\n",
      "\n",
      "WARNING:py.warnings:C:\\Users\\91636\\anaconda3\\conda\\Lib\\site-packages\\moviepy\\audio\\io\\readers.py:197: UserWarning: Error in file output_videoss/segment_23.mp4, At time t=2.94-2.99 seconds, indices wanted: 43398-45394, but len(buffer)=43399\n",
      "index 43399 is out of bounds for axis 0 with size 43399\n",
      "  warnings.warn(\"Error in file %s, \"%(self.filename)+\n",
      "\n",
      "chunk:  96%|█████████▌| 67/70 [00:08<00:00, 22.57it/s, now=None]WARNING:py.warnings:C:\\Users\\91636\\anaconda3\\conda\\Lib\\site-packages\\moviepy\\audio\\io\\readers.py:197: UserWarning: Error in file output_videoss/segment_23.mp4, At time t=2.99-3.03 seconds, indices wanted: 43398-45394, but len(buffer)=43399\n",
      "index 43399 is out of bounds for axis 0 with size 43399\n",
      "  warnings.warn(\"Error in file %s, \"%(self.filename)+\n",
      "\n",
      "WARNING:py.warnings:C:\\Users\\91636\\anaconda3\\conda\\Lib\\site-packages\\moviepy\\audio\\io\\readers.py:197: UserWarning: Error in file output_videoss/segment_23.mp4, At time t=3.03-3.08 seconds, indices wanted: 43398-45394, but len(buffer)=43399\n",
      "index 43399 is out of bounds for axis 0 with size 43399\n",
      "  warnings.warn(\"Error in file %s, \"%(self.filename)+\n",
      "\n",
      "WARNING:py.warnings:C:\\Users\\91636\\anaconda3\\conda\\Lib\\site-packages\\moviepy\\audio\\io\\readers.py:197: UserWarning: Error in file output_videoss/segment_23.mp4, At time t=3.08-3.12 seconds, indices wanted: 43398-45394, but len(buffer)=43399\n",
      "index 43399 is out of bounds for axis 0 with size 43399\n",
      "  warnings.warn(\"Error in file %s, \"%(self.filename)+\n",
      "\n",
      "WARNING:py.warnings:C:\\Users\\91636\\anaconda3\\conda\\Lib\\site-packages\\moviepy\\audio\\io\\readers.py:197: UserWarning: Error in file output_videoss/segment_23.mp4, At time t=3.12-3.17 seconds, indices wanted: 43398-45395, but len(buffer)=43399\n",
      "index 43399 is out of bounds for axis 0 with size 43399\n",
      "  warnings.warn(\"Error in file %s, \"%(self.filename)+\n",
      "\n",
      "                                                                \r"
     ]
    },
    {
     "name": "stdout",
     "output_type": "stream",
     "text": [
      "MoviePy - Done.\n",
      "MoviePy - Building file output_videoss/segment_23.gif with imageio.\n"
     ]
    },
    {
     "name": "stderr",
     "output_type": "stream",
     "text": [
      "INFO:__main__:Cutting video segment: start_time=92.154, end_time=93.238, output_path=output_videoss/segment_24.mp4\n",
      "INFO:__main__:Video segment cut.\n"
     ]
    },
    {
     "name": "stdout",
     "output_type": "stream",
     "text": [
      "Moviepy - Running:\n",
      ">>> \"+ \" \".join(cmd)\n",
      "Moviepy - Command successful\n",
      "MoviePy - Writing audio in output_videoss/segment_24_audio.wav\n"
     ]
    },
    {
     "name": "stderr",
     "output_type": "stream",
     "text": [
      "                                                       "
     ]
    },
    {
     "name": "stdout",
     "output_type": "stream",
     "text": [
      "MoviePy - Done.\n"
     ]
    },
    {
     "name": "stderr",
     "output_type": "stream",
     "text": [
      "\r"
     ]
    },
    {
     "name": "stdout",
     "output_type": "stream",
     "text": [
      "MoviePy - Building file output_videoss/segment_24.gif with imageio.\n"
     ]
    },
    {
     "name": "stderr",
     "output_type": "stream",
     "text": [
      "t:  76%|███████▌  | 25/33 [00:00<00:00, 112.00it/s, now=None]WARNING:py.warnings:C:\\Users\\91636\\anaconda3\\conda\\Lib\\site-packages\\moviepy\\video\\io\\ffmpeg_reader.py:123: UserWarning: Warning: in file output_videoss/segment_24_with_text.mp4, 5391360 bytes wanted but 0 bytes read,at frame 32/33, at time 1.07/1.07 sec. Using the last valid frame instead.\n",
      "  warnings.warn(\"Warning: in file %s, \"%(self.filename)+\n",
      "\n",
      "INFO:__main__:Cutting video segment: start_time=94.223, end_time=95.19, output_path=output_videoss/segment_25.mp4\n",
      "INFO:__main__:Video segment cut.\n"
     ]
    },
    {
     "name": "stdout",
     "output_type": "stream",
     "text": [
      "Moviepy - Running:\n",
      ">>> \"+ \" \".join(cmd)\n",
      "Moviepy - Command successful\n",
      "MoviePy - Writing audio in output_videoss/segment_25_audio.wav\n"
     ]
    },
    {
     "name": "stderr",
     "output_type": "stream",
     "text": [
      "chunk:  51%|█████     | 36/71 [00:07<00:13,  2.51it/s, now=None]WARNING:py.warnings:C:\\Users\\91636\\anaconda3\\conda\\Lib\\site-packages\\moviepy\\audio\\io\\readers.py:197: UserWarning: Error in file output_videoss/segment_25.mp4, At time t=1.58-1.62 seconds, indices wanted: 42110-44096, but len(buffer)=43105\n",
      "index 43105 is out of bounds for axis 0 with size 43105\n",
      "  warnings.warn(\"Error in file %s, \"%(self.filename)+\n",
      "\n",
      "chunk:  52%|█████▏    | 37/71 [00:07<00:14,  2.35it/s, now=None]WARNING:py.warnings:C:\\Users\\91636\\anaconda3\\conda\\Lib\\site-packages\\moviepy\\audio\\io\\readers.py:197: UserWarning: Error in file output_videoss/segment_25.mp4, At time t=1.62-1.67 seconds, indices wanted: 43104-45091, but len(buffer)=43105\n",
      "index 43105 is out of bounds for axis 0 with size 43105\n",
      "  warnings.warn(\"Error in file %s, \"%(self.filename)+\n",
      "\n",
      "WARNING:py.warnings:C:\\Users\\91636\\anaconda3\\conda\\Lib\\site-packages\\moviepy\\audio\\io\\readers.py:197: UserWarning: Error in file output_videoss/segment_25.mp4, At time t=1.67-1.71 seconds, indices wanted: 43104-45091, but len(buffer)=43105\n",
      "index 43105 is out of bounds for axis 0 with size 43105\n",
      "  warnings.warn(\"Error in file %s, \"%(self.filename)+\n",
      "\n",
      "WARNING:py.warnings:C:\\Users\\91636\\anaconda3\\conda\\Lib\\site-packages\\moviepy\\audio\\io\\readers.py:197: UserWarning: Error in file output_videoss/segment_25.mp4, At time t=1.71-1.76 seconds, indices wanted: 43104-45090, but len(buffer)=43105\n",
      "index 43105 is out of bounds for axis 0 with size 43105\n",
      "  warnings.warn(\"Error in file %s, \"%(self.filename)+\n",
      "\n",
      "WARNING:py.warnings:C:\\Users\\91636\\anaconda3\\conda\\Lib\\site-packages\\moviepy\\audio\\io\\readers.py:197: UserWarning: Error in file output_videoss/segment_25.mp4, At time t=1.76-1.80 seconds, indices wanted: 43104-45091, but len(buffer)=43105\n",
      "index 43105 is out of bounds for axis 0 with size 43105\n",
      "  warnings.warn(\"Error in file %s, \"%(self.filename)+\n",
      "\n",
      "WARNING:py.warnings:C:\\Users\\91636\\anaconda3\\conda\\Lib\\site-packages\\moviepy\\audio\\io\\readers.py:197: UserWarning: Error in file output_videoss/segment_25.mp4, At time t=1.80-1.85 seconds, indices wanted: 43104-45090, but len(buffer)=43105\n",
      "index 43105 is out of bounds for axis 0 with size 43105\n",
      "  warnings.warn(\"Error in file %s, \"%(self.filename)+\n",
      "\n",
      "WARNING:py.warnings:C:\\Users\\91636\\anaconda3\\conda\\Lib\\site-packages\\moviepy\\audio\\io\\readers.py:197: UserWarning: Error in file output_videoss/segment_25.mp4, At time t=1.85-1.89 seconds, indices wanted: 43104-45091, but len(buffer)=43105\n",
      "index 43105 is out of bounds for axis 0 with size 43105\n",
      "  warnings.warn(\"Error in file %s, \"%(self.filename)+\n",
      "\n",
      "WARNING:py.warnings:C:\\Users\\91636\\anaconda3\\conda\\Lib\\site-packages\\moviepy\\audio\\io\\readers.py:197: UserWarning: Error in file output_videoss/segment_25.mp4, At time t=1.89-1.94 seconds, indices wanted: 43104-45091, but len(buffer)=43105\n",
      "index 43105 is out of bounds for axis 0 with size 43105\n",
      "  warnings.warn(\"Error in file %s, \"%(self.filename)+\n",
      "\n",
      "WARNING:py.warnings:C:\\Users\\91636\\anaconda3\\conda\\Lib\\site-packages\\moviepy\\audio\\io\\readers.py:197: UserWarning: Error in file output_videoss/segment_25.mp4, At time t=1.94-1.98 seconds, indices wanted: 43104-45090, but len(buffer)=43105\n",
      "index 43105 is out of bounds for axis 0 with size 43105\n",
      "  warnings.warn(\"Error in file %s, \"%(self.filename)+\n",
      "\n",
      "WARNING:py.warnings:C:\\Users\\91636\\anaconda3\\conda\\Lib\\site-packages\\moviepy\\audio\\io\\readers.py:197: UserWarning: Error in file output_videoss/segment_25.mp4, At time t=1.98-2.03 seconds, indices wanted: 43104-45091, but len(buffer)=43105\n",
      "index 43105 is out of bounds for axis 0 with size 43105\n",
      "  warnings.warn(\"Error in file %s, \"%(self.filename)+\n",
      "\n",
      "WARNING:py.warnings:C:\\Users\\91636\\anaconda3\\conda\\Lib\\site-packages\\moviepy\\audio\\io\\readers.py:197: UserWarning: Error in file output_videoss/segment_25.mp4, At time t=2.03-2.07 seconds, indices wanted: 43104-45090, but len(buffer)=43105\n",
      "index 43105 is out of bounds for axis 0 with size 43105\n",
      "  warnings.warn(\"Error in file %s, \"%(self.filename)+\n",
      "\n",
      "WARNING:py.warnings:C:\\Users\\91636\\anaconda3\\conda\\Lib\\site-packages\\moviepy\\audio\\io\\readers.py:197: UserWarning: Error in file output_videoss/segment_25.mp4, At time t=2.07-2.12 seconds, indices wanted: 43104-45091, but len(buffer)=43105\n",
      "index 43105 is out of bounds for axis 0 with size 43105\n",
      "  warnings.warn(\"Error in file %s, \"%(self.filename)+\n",
      "\n",
      "WARNING:py.warnings:C:\\Users\\91636\\anaconda3\\conda\\Lib\\site-packages\\moviepy\\audio\\io\\readers.py:197: UserWarning: Error in file output_videoss/segment_25.mp4, At time t=2.12-2.16 seconds, indices wanted: 43104-45091, but len(buffer)=43105\n",
      "index 43105 is out of bounds for axis 0 with size 43105\n",
      "  warnings.warn(\"Error in file %s, \"%(self.filename)+\n",
      "\n",
      "WARNING:py.warnings:C:\\Users\\91636\\anaconda3\\conda\\Lib\\site-packages\\moviepy\\audio\\io\\readers.py:197: UserWarning: Error in file output_videoss/segment_25.mp4, At time t=2.16-2.21 seconds, indices wanted: 43104-45090, but len(buffer)=43105\n",
      "index 43105 is out of bounds for axis 0 with size 43105\n",
      "  warnings.warn(\"Error in file %s, \"%(self.filename)+\n",
      "\n",
      "WARNING:py.warnings:C:\\Users\\91636\\anaconda3\\conda\\Lib\\site-packages\\moviepy\\audio\\io\\readers.py:197: UserWarning: Error in file output_videoss/segment_25.mp4, At time t=2.21-2.25 seconds, indices wanted: 43104-45091, but len(buffer)=43105\n",
      "index 43105 is out of bounds for axis 0 with size 43105\n",
      "  warnings.warn(\"Error in file %s, \"%(self.filename)+\n",
      "\n",
      "WARNING:py.warnings:C:\\Users\\91636\\anaconda3\\conda\\Lib\\site-packages\\moviepy\\audio\\io\\readers.py:197: UserWarning: Error in file output_videoss/segment_25.mp4, At time t=2.25-2.30 seconds, indices wanted: 43104-45090, but len(buffer)=43105\n",
      "index 43105 is out of bounds for axis 0 with size 43105\n",
      "  warnings.warn(\"Error in file %s, \"%(self.filename)+\n",
      "\n",
      "WARNING:py.warnings:C:\\Users\\91636\\anaconda3\\conda\\Lib\\site-packages\\moviepy\\audio\\io\\readers.py:197: UserWarning: Error in file output_videoss/segment_25.mp4, At time t=2.30-2.34 seconds, indices wanted: 43104-45091, but len(buffer)=43105\n",
      "index 43105 is out of bounds for axis 0 with size 43105\n",
      "  warnings.warn(\"Error in file %s, \"%(self.filename)+\n",
      "\n",
      "WARNING:py.warnings:C:\\Users\\91636\\anaconda3\\conda\\Lib\\site-packages\\moviepy\\audio\\io\\readers.py:197: UserWarning: Error in file output_videoss/segment_25.mp4, At time t=2.34-2.39 seconds, indices wanted: 43104-45091, but len(buffer)=43105\n",
      "index 43105 is out of bounds for axis 0 with size 43105\n",
      "  warnings.warn(\"Error in file %s, \"%(self.filename)+\n",
      "\n",
      "WARNING:py.warnings:C:\\Users\\91636\\anaconda3\\conda\\Lib\\site-packages\\moviepy\\audio\\io\\readers.py:197: UserWarning: Error in file output_videoss/segment_25.mp4, At time t=2.39-2.43 seconds, indices wanted: 43104-45090, but len(buffer)=43105\n",
      "index 43105 is out of bounds for axis 0 with size 43105\n",
      "  warnings.warn(\"Error in file %s, \"%(self.filename)+\n",
      "\n",
      "WARNING:py.warnings:C:\\Users\\91636\\anaconda3\\conda\\Lib\\site-packages\\moviepy\\audio\\io\\readers.py:197: UserWarning: Error in file output_videoss/segment_25.mp4, At time t=2.43-2.48 seconds, indices wanted: 43104-45091, but len(buffer)=43105\n",
      "index 43105 is out of bounds for axis 0 with size 43105\n",
      "  warnings.warn(\"Error in file %s, \"%(self.filename)+\n",
      "\n",
      "WARNING:py.warnings:C:\\Users\\91636\\anaconda3\\conda\\Lib\\site-packages\\moviepy\\audio\\io\\readers.py:197: UserWarning: Error in file output_videoss/segment_25.mp4, At time t=2.48-2.52 seconds, indices wanted: 43104-45090, but len(buffer)=43105\n",
      "index 43105 is out of bounds for axis 0 with size 43105\n",
      "  warnings.warn(\"Error in file %s, \"%(self.filename)+\n",
      "\n",
      "WARNING:py.warnings:C:\\Users\\91636\\anaconda3\\conda\\Lib\\site-packages\\moviepy\\audio\\io\\readers.py:197: UserWarning: Error in file output_videoss/segment_25.mp4, At time t=2.52-2.57 seconds, indices wanted: 43104-45091, but len(buffer)=43105\n",
      "index 43105 is out of bounds for axis 0 with size 43105\n",
      "  warnings.warn(\"Error in file %s, \"%(self.filename)+\n",
      "\n",
      "WARNING:py.warnings:C:\\Users\\91636\\anaconda3\\conda\\Lib\\site-packages\\moviepy\\audio\\io\\readers.py:197: UserWarning: Error in file output_videoss/segment_25.mp4, At time t=2.57-2.61 seconds, indices wanted: 43104-45091, but len(buffer)=43105\n",
      "index 43105 is out of bounds for axis 0 with size 43105\n",
      "  warnings.warn(\"Error in file %s, \"%(self.filename)+\n",
      "\n",
      "WARNING:py.warnings:C:\\Users\\91636\\anaconda3\\conda\\Lib\\site-packages\\moviepy\\audio\\io\\readers.py:197: UserWarning: Error in file output_videoss/segment_25.mp4, At time t=2.61-2.66 seconds, indices wanted: 43104-45090, but len(buffer)=43105\n",
      "index 43105 is out of bounds for axis 0 with size 43105\n",
      "  warnings.warn(\"Error in file %s, \"%(self.filename)+\n",
      "\n",
      "WARNING:py.warnings:C:\\Users\\91636\\anaconda3\\conda\\Lib\\site-packages\\moviepy\\audio\\io\\readers.py:197: UserWarning: Error in file output_videoss/segment_25.mp4, At time t=2.66-2.70 seconds, indices wanted: 43104-45091, but len(buffer)=43105\n",
      "index 43105 is out of bounds for axis 0 with size 43105\n",
      "  warnings.warn(\"Error in file %s, \"%(self.filename)+\n",
      "\n",
      "WARNING:py.warnings:C:\\Users\\91636\\anaconda3\\conda\\Lib\\site-packages\\moviepy\\audio\\io\\readers.py:197: UserWarning: Error in file output_videoss/segment_25.mp4, At time t=2.70-2.75 seconds, indices wanted: 43104-45090, but len(buffer)=43105\n",
      "index 43105 is out of bounds for axis 0 with size 43105\n",
      "  warnings.warn(\"Error in file %s, \"%(self.filename)+\n",
      "\n",
      "WARNING:py.warnings:C:\\Users\\91636\\anaconda3\\conda\\Lib\\site-packages\\moviepy\\audio\\io\\readers.py:197: UserWarning: Error in file output_videoss/segment_25.mp4, At time t=2.75-2.79 seconds, indices wanted: 43104-45091, but len(buffer)=43105\n",
      "index 43105 is out of bounds for axis 0 with size 43105\n",
      "  warnings.warn(\"Error in file %s, \"%(self.filename)+\n",
      "\n",
      "WARNING:py.warnings:C:\\Users\\91636\\anaconda3\\conda\\Lib\\site-packages\\moviepy\\audio\\io\\readers.py:197: UserWarning: Error in file output_videoss/segment_25.mp4, At time t=2.79-2.84 seconds, indices wanted: 43104-45091, but len(buffer)=43105\n",
      "index 43105 is out of bounds for axis 0 with size 43105\n",
      "  warnings.warn(\"Error in file %s, \"%(self.filename)+\n",
      "\n",
      "WARNING:py.warnings:C:\\Users\\91636\\anaconda3\\conda\\Lib\\site-packages\\moviepy\\audio\\io\\readers.py:197: UserWarning: Error in file output_videoss/segment_25.mp4, At time t=2.84-2.88 seconds, indices wanted: 43104-45090, but len(buffer)=43105\n",
      "index 43105 is out of bounds for axis 0 with size 43105\n",
      "  warnings.warn(\"Error in file %s, \"%(self.filename)+\n",
      "\n",
      "WARNING:py.warnings:C:\\Users\\91636\\anaconda3\\conda\\Lib\\site-packages\\moviepy\\audio\\io\\readers.py:197: UserWarning: Error in file output_videoss/segment_25.mp4, At time t=2.88-2.93 seconds, indices wanted: 43104-45091, but len(buffer)=43105\n",
      "index 43105 is out of bounds for axis 0 with size 43105\n",
      "  warnings.warn(\"Error in file %s, \"%(self.filename)+\n",
      "\n",
      "chunk:  93%|█████████▎| 66/71 [00:08<00:00, 22.39it/s, now=None]WARNING:py.warnings:C:\\Users\\91636\\anaconda3\\conda\\Lib\\site-packages\\moviepy\\audio\\io\\readers.py:197: UserWarning: Error in file output_videoss/segment_25.mp4, At time t=2.93-2.97 seconds, indices wanted: 43104-45090, but len(buffer)=43105\n",
      "index 43105 is out of bounds for axis 0 with size 43105\n",
      "  warnings.warn(\"Error in file %s, \"%(self.filename)+\n",
      "\n",
      "WARNING:py.warnings:C:\\Users\\91636\\anaconda3\\conda\\Lib\\site-packages\\moviepy\\audio\\io\\readers.py:197: UserWarning: Error in file output_videoss/segment_25.mp4, At time t=2.97-3.02 seconds, indices wanted: 43104-45091, but len(buffer)=43105\n",
      "index 43105 is out of bounds for axis 0 with size 43105\n",
      "  warnings.warn(\"Error in file %s, \"%(self.filename)+\n",
      "\n",
      "WARNING:py.warnings:C:\\Users\\91636\\anaconda3\\conda\\Lib\\site-packages\\moviepy\\audio\\io\\readers.py:197: UserWarning: Error in file output_videoss/segment_25.mp4, At time t=3.02-3.06 seconds, indices wanted: 43104-45091, but len(buffer)=43105\n",
      "index 43105 is out of bounds for axis 0 with size 43105\n",
      "  warnings.warn(\"Error in file %s, \"%(self.filename)+\n",
      "\n",
      "WARNING:py.warnings:C:\\Users\\91636\\anaconda3\\conda\\Lib\\site-packages\\moviepy\\audio\\io\\readers.py:197: UserWarning: Error in file output_videoss/segment_25.mp4, At time t=3.06-3.11 seconds, indices wanted: 43104-45090, but len(buffer)=43105\n",
      "index 43105 is out of bounds for axis 0 with size 43105\n",
      "  warnings.warn(\"Error in file %s, \"%(self.filename)+\n",
      "\n",
      "WARNING:py.warnings:C:\\Users\\91636\\anaconda3\\conda\\Lib\\site-packages\\moviepy\\audio\\io\\readers.py:197: UserWarning: Error in file output_videoss/segment_25.mp4, At time t=3.11-3.15 seconds, indices wanted: 43104-45091, but len(buffer)=43105\n",
      "index 43105 is out of bounds for axis 0 with size 43105\n",
      "  warnings.warn(\"Error in file %s, \"%(self.filename)+\n",
      "\n",
      "WARNING:py.warnings:C:\\Users\\91636\\anaconda3\\conda\\Lib\\site-packages\\moviepy\\audio\\io\\readers.py:197: UserWarning: Error in file output_videoss/segment_25.mp4, At time t=3.15-3.20 seconds, indices wanted: 43104-45091, but len(buffer)=43105\n",
      "index 43105 is out of bounds for axis 0 with size 43105\n",
      "  warnings.warn(\"Error in file %s, \"%(self.filename)+\n",
      "\n",
      "                                                                \r"
     ]
    },
    {
     "name": "stdout",
     "output_type": "stream",
     "text": [
      "MoviePy - Done.\n",
      "MoviePy - Building file output_videoss/segment_25.gif with imageio.\n"
     ]
    },
    {
     "name": "stderr",
     "output_type": "stream",
     "text": [
      "t: 100%|██████████| 30/30 [00:00<00:00, 67.49it/s, now=None]WARNING:py.warnings:C:\\Users\\91636\\anaconda3\\conda\\Lib\\site-packages\\moviepy\\video\\io\\ffmpeg_reader.py:123: UserWarning: Warning: in file output_videoss/segment_25_with_text.mp4, 5391360 bytes wanted but 0 bytes read,at frame 29/30, at time 0.97/0.97 sec. Using the last valid frame instead.\n",
      "  warnings.warn(\"Warning: in file %s, \"%(self.filename)+\n",
      "\n",
      "INFO:__main__:Cutting video segment: start_time=96.478, end_time=99.295, output_path=output_videoss/segment_26.mp4\n",
      "INFO:__main__:Video segment cut.\n"
     ]
    },
    {
     "name": "stdout",
     "output_type": "stream",
     "text": [
      "Moviepy - Running:\n",
      ">>> \"+ \" \".join(cmd)\n",
      "Moviepy - Command successful\n",
      "MoviePy - Writing audio in output_videoss/segment_26_audio.wav\n"
     ]
    },
    {
     "name": "stderr",
     "output_type": "stream",
     "text": [
      "                                                       "
     ]
    },
    {
     "name": "stdout",
     "output_type": "stream",
     "text": [
      "MoviePy - Done.\n"
     ]
    },
    {
     "name": "stderr",
     "output_type": "stream",
     "text": [
      "\r"
     ]
    },
    {
     "name": "stdout",
     "output_type": "stream",
     "text": [
      "MoviePy - Building file output_videoss/segment_26.gif with imageio.\n"
     ]
    },
    {
     "name": "stderr",
     "output_type": "stream",
     "text": [
      "INFO:__main__:Cutting video segment: start_time=99.952, end_time=99.982, output_path=output_videoss/segment_27.mp4\n",
      "INFO:__main__:Video segment cut.\n"
     ]
    },
    {
     "name": "stdout",
     "output_type": "stream",
     "text": [
      "Moviepy - Running:\n",
      ">>> \"+ \" \".join(cmd)\n",
      "Moviepy - Command successful\n",
      "MoviePy - Writing audio in output_videoss/segment_27_audio.wav\n"
     ]
    },
    {
     "name": "stderr",
     "output_type": "stream",
     "text": [
      "chunk:   0%|          | 0/89 [00:00<?, ?it/s, now=None]WARNING:py.warnings:C:\\Users\\91636\\anaconda3\\conda\\Lib\\site-packages\\moviepy\\audio\\io\\readers.py:197: UserWarning: Error in file output_videoss/segment_27.mp4, At time t=0.00-0.05 seconds, indices wanted: -86330--84345, but len(buffer)=2092\n",
      "index -86330 is out of bounds for axis 0 with size 2092\n",
      "  warnings.warn(\"Error in file %s, \"%(self.filename)+\n",
      "\n",
      "ERROR:__main__:Error converting video to audio: index -86330 is out of bounds for axis 0 with size 2092\n",
      "                                                       \r"
     ]
    },
    {
     "name": "stdout",
     "output_type": "stream",
     "text": [
      "MoviePy - Building file output_videoss/segment_27.gif with imageio.\n"
     ]
    },
    {
     "name": "stderr",
     "output_type": "stream",
     "text": [
      "INFO:__main__:Cutting video segment: start_time=100.901, end_time=102.155, output_path=output_videoss/segment_28.mp4\n",
      "INFO:__main__:Video segment cut.\n"
     ]
    },
    {
     "name": "stdout",
     "output_type": "stream",
     "text": [
      "Moviepy - Running:\n",
      ">>> \"+ \" \".join(cmd)\n",
      "Moviepy - Command successful\n",
      "MoviePy - Writing audio in output_videoss/segment_28_audio.wav\n"
     ]
    },
    {
     "name": "stderr",
     "output_type": "stream",
     "text": [
      "                                                       "
     ]
    },
    {
     "name": "stdout",
     "output_type": "stream",
     "text": [
      "MoviePy - Done.\n"
     ]
    },
    {
     "name": "stderr",
     "output_type": "stream",
     "text": [
      "\r"
     ]
    },
    {
     "name": "stdout",
     "output_type": "stream",
     "text": [
      "MoviePy - Building file output_videoss/segment_28.gif with imageio.\n"
     ]
    },
    {
     "name": "stderr",
     "output_type": "stream",
     "text": [
      "t:  95%|█████████▍| 37/39 [00:00<00:00, 63.34it/s, now=None]WARNING:py.warnings:C:\\Users\\91636\\anaconda3\\conda\\Lib\\site-packages\\moviepy\\video\\io\\ffmpeg_reader.py:123: UserWarning: Warning: in file output_videoss/segment_28_with_text.mp4, 5391360 bytes wanted but 0 bytes read,at frame 38/39, at time 1.27/1.27 sec. Using the last valid frame instead.\n",
      "  warnings.warn(\"Warning: in file %s, \"%(self.filename)+\n",
      "\n",
      "INFO:__main__:Cutting video segment: start_time=103.383, end_time=104.115, output_path=output_videoss/segment_29.mp4\n",
      "INFO:__main__:Video segment cut.\n"
     ]
    },
    {
     "name": "stdout",
     "output_type": "stream",
     "text": [
      "Moviepy - Running:\n",
      ">>> \"+ \" \".join(cmd)\n",
      "Moviepy - Command successful\n",
      "MoviePy - Writing audio in output_videoss/segment_29_audio.wav\n"
     ]
    },
    {
     "name": "stderr",
     "output_type": "stream",
     "text": [
      "chunk:   0%|          | 0/92 [00:00<?, ?it/s, now=None]WARNING:py.warnings:C:\\Users\\91636\\anaconda3\\conda\\Lib\\site-packages\\moviepy\\audio\\io\\readers.py:197: UserWarning: Error in file output_videoss/segment_29.mp4, At time t=0.00-0.04 seconds, indices wanted: -58664--56686, but len(buffer)=32404\n",
      "index -58664 is out of bounds for axis 0 with size 32404\n",
      "  warnings.warn(\"Error in file %s, \"%(self.filename)+\n",
      "\n",
      "ERROR:__main__:Error converting video to audio: index -58664 is out of bounds for axis 0 with size 32404\n",
      "                                                       \r"
     ]
    },
    {
     "name": "stdout",
     "output_type": "stream",
     "text": [
      "MoviePy - Building file output_videoss/segment_29.gif with imageio.\n"
     ]
    },
    {
     "name": "stderr",
     "output_type": "stream",
     "text": [
      "ERROR:__main__:Error removing intermediate files: [WinError 32] The process cannot access the file because it is being used by another process: 'output_videoss/segment_29.mp4'\n",
      "INFO:__main__:Cutting video segment: start_time=105.487, end_time=108.968, output_path=output_videoss/segment_30.mp4\n",
      "INFO:__main__:Video segment cut.\n"
     ]
    },
    {
     "name": "stdout",
     "output_type": "stream",
     "text": [
      "Moviepy - Running:\n",
      ">>> \"+ \" \".join(cmd)\n",
      "Moviepy - Command successful\n",
      "MoviePy - Writing audio in output_videoss/segment_30_audio.wav\n"
     ]
    },
    {
     "name": "stderr",
     "output_type": "stream",
     "text": [
      "                                                                  "
     ]
    },
    {
     "name": "stdout",
     "output_type": "stream",
     "text": [
      "MoviePy - Done.\n"
     ]
    },
    {
     "name": "stderr",
     "output_type": "stream",
     "text": [
      "\r"
     ]
    },
    {
     "name": "stdout",
     "output_type": "stream",
     "text": [
      "MoviePy - Building file output_videoss/segment_30.gif with imageio.\n"
     ]
    },
    {
     "name": "stderr",
     "output_type": "stream",
     "text": [
      "INFO:__main__:Cutting video segment: start_time=109.764, end_time=115.608, output_path=output_videoss/segment_31.mp4\n",
      "INFO:__main__:Video segment cut.\n"
     ]
    },
    {
     "name": "stdout",
     "output_type": "stream",
     "text": [
      "Moviepy - Running:\n",
      ">>> \"+ \" \".join(cmd)\n",
      "Moviepy - Command successful\n",
      "MoviePy - Writing audio in output_videoss/segment_31_audio.wav\n"
     ]
    },
    {
     "name": "stderr",
     "output_type": "stream",
     "text": [
      "                                                                   \r"
     ]
    },
    {
     "name": "stdout",
     "output_type": "stream",
     "text": [
      "MoviePy - Done.\n",
      "MoviePy - Building file output_videoss/segment_31.gif with imageio.\n"
     ]
    },
    {
     "name": "stderr",
     "output_type": "stream",
     "text": [
      "INFO:__main__:Cutting video segment: start_time=117.17, end_time=117.886, output_path=output_videoss/segment_32.mp4\n",
      "INFO:__main__:Video segment cut.\n"
     ]
    },
    {
     "name": "stdout",
     "output_type": "stream",
     "text": [
      "Moviepy - Running:\n",
      ">>> \"+ \" \".join(cmd)\n",
      "Moviepy - Command successful\n",
      "MoviePy - Writing audio in output_videoss/segment_32_audio.wav\n"
     ]
    },
    {
     "name": "stderr",
     "output_type": "stream",
     "text": [
      "chunk:  43%|████▎     | 18/42 [00:00<00:00, 88.60it/s, now=None]WARNING:py.warnings:C:\\Users\\91636\\anaconda3\\conda\\Lib\\site-packages\\moviepy\\audio\\io\\readers.py:197: UserWarning: Error in file output_videoss/segment_32.mp4, At time t=0.95-1.00 seconds, indices wanted: 32021-34015, but len(buffer)=32022\n",
      "index 32022 is out of bounds for axis 0 with size 32022\n",
      "  warnings.warn(\"Error in file %s, \"%(self.filename)+\n",
      "\n",
      "WARNING:py.warnings:C:\\Users\\91636\\anaconda3\\conda\\Lib\\site-packages\\moviepy\\audio\\io\\readers.py:197: UserWarning: Error in file output_videoss/segment_32.mp4, At time t=1.00-1.04 seconds, indices wanted: 32021-34015, but len(buffer)=32022\n",
      "index 32022 is out of bounds for axis 0 with size 32022\n",
      "  warnings.warn(\"Error in file %s, \"%(self.filename)+\n",
      "\n",
      "WARNING:py.warnings:C:\\Users\\91636\\anaconda3\\conda\\Lib\\site-packages\\moviepy\\audio\\io\\readers.py:197: UserWarning: Error in file output_videoss/segment_32.mp4, At time t=1.04-1.09 seconds, indices wanted: 32021-34015, but len(buffer)=32022\n",
      "index 32022 is out of bounds for axis 0 with size 32022\n",
      "  warnings.warn(\"Error in file %s, \"%(self.filename)+\n",
      "\n",
      "WARNING:py.warnings:C:\\Users\\91636\\anaconda3\\conda\\Lib\\site-packages\\moviepy\\audio\\io\\readers.py:197: UserWarning: Error in file output_videoss/segment_32.mp4, At time t=1.09-1.13 seconds, indices wanted: 32021-34015, but len(buffer)=32022\n",
      "index 32022 is out of bounds for axis 0 with size 32022\n",
      "  warnings.warn(\"Error in file %s, \"%(self.filename)+\n",
      "\n",
      "WARNING:py.warnings:C:\\Users\\91636\\anaconda3\\conda\\Lib\\site-packages\\moviepy\\audio\\io\\readers.py:197: UserWarning: Error in file output_videoss/segment_32.mp4, At time t=1.13-1.18 seconds, indices wanted: 32021-34015, but len(buffer)=32022\n",
      "index 32022 is out of bounds for axis 0 with size 32022\n",
      "  warnings.warn(\"Error in file %s, \"%(self.filename)+\n",
      "\n",
      "chunk:  64%|██████▍   | 27/42 [00:00<00:00, 25.08it/s, now=None]WARNING:py.warnings:C:\\Users\\91636\\anaconda3\\conda\\Lib\\site-packages\\moviepy\\audio\\io\\readers.py:197: UserWarning: Error in file output_videoss/segment_32.mp4, At time t=1.18-1.22 seconds, indices wanted: 32021-34015, but len(buffer)=32022\n",
      "index 32022 is out of bounds for axis 0 with size 32022\n",
      "  warnings.warn(\"Error in file %s, \"%(self.filename)+\n",
      "\n",
      "WARNING:py.warnings:C:\\Users\\91636\\anaconda3\\conda\\Lib\\site-packages\\moviepy\\audio\\io\\readers.py:197: UserWarning: Error in file output_videoss/segment_32.mp4, At time t=1.22-1.27 seconds, indices wanted: 32021-34015, but len(buffer)=32022\n",
      "index 32022 is out of bounds for axis 0 with size 32022\n",
      "  warnings.warn(\"Error in file %s, \"%(self.filename)+\n",
      "\n",
      "WARNING:py.warnings:C:\\Users\\91636\\anaconda3\\conda\\Lib\\site-packages\\moviepy\\audio\\io\\readers.py:197: UserWarning: Error in file output_videoss/segment_32.mp4, At time t=1.27-1.31 seconds, indices wanted: 32021-34015, but len(buffer)=32022\n",
      "index 32022 is out of bounds for axis 0 with size 32022\n",
      "  warnings.warn(\"Error in file %s, \"%(self.filename)+\n",
      "\n",
      "WARNING:py.warnings:C:\\Users\\91636\\anaconda3\\conda\\Lib\\site-packages\\moviepy\\audio\\io\\readers.py:197: UserWarning: Error in file output_videoss/segment_32.mp4, At time t=1.31-1.36 seconds, indices wanted: 32021-34015, but len(buffer)=32022\n",
      "index 32022 is out of bounds for axis 0 with size 32022\n",
      "  warnings.warn(\"Error in file %s, \"%(self.filename)+\n",
      "\n",
      "WARNING:py.warnings:C:\\Users\\91636\\anaconda3\\conda\\Lib\\site-packages\\moviepy\\audio\\io\\readers.py:197: UserWarning: Error in file output_videoss/segment_32.mp4, At time t=1.36-1.40 seconds, indices wanted: 32021-34015, but len(buffer)=32022\n",
      "index 32022 is out of bounds for axis 0 with size 32022\n",
      "  warnings.warn(\"Error in file %s, \"%(self.filename)+\n",
      "\n",
      "WARNING:py.warnings:C:\\Users\\91636\\anaconda3\\conda\\Lib\\site-packages\\moviepy\\audio\\io\\readers.py:197: UserWarning: Error in file output_videoss/segment_32.mp4, At time t=1.40-1.45 seconds, indices wanted: 32021-34015, but len(buffer)=32022\n",
      "index 32022 is out of bounds for axis 0 with size 32022\n",
      "  warnings.warn(\"Error in file %s, \"%(self.filename)+\n",
      "\n",
      "WARNING:py.warnings:C:\\Users\\91636\\anaconda3\\conda\\Lib\\site-packages\\moviepy\\audio\\io\\readers.py:197: UserWarning: Error in file output_videoss/segment_32.mp4, At time t=1.45-1.49 seconds, indices wanted: 32021-34015, but len(buffer)=32022\n",
      "index 32022 is out of bounds for axis 0 with size 32022\n",
      "  warnings.warn(\"Error in file %s, \"%(self.filename)+\n",
      "\n",
      "WARNING:py.warnings:C:\\Users\\91636\\anaconda3\\conda\\Lib\\site-packages\\moviepy\\audio\\io\\readers.py:197: UserWarning: Error in file output_videoss/segment_32.mp4, At time t=1.49-1.54 seconds, indices wanted: 32021-34015, but len(buffer)=32022\n",
      "index 32022 is out of bounds for axis 0 with size 32022\n",
      "  warnings.warn(\"Error in file %s, \"%(self.filename)+\n",
      "\n",
      "WARNING:py.warnings:C:\\Users\\91636\\anaconda3\\conda\\Lib\\site-packages\\moviepy\\audio\\io\\readers.py:197: UserWarning: Error in file output_videoss/segment_32.mp4, At time t=1.54-1.58 seconds, indices wanted: 32021-34015, but len(buffer)=32022\n",
      "index 32022 is out of bounds for axis 0 with size 32022\n",
      "  warnings.warn(\"Error in file %s, \"%(self.filename)+\n",
      "\n",
      "WARNING:py.warnings:C:\\Users\\91636\\anaconda3\\conda\\Lib\\site-packages\\moviepy\\audio\\io\\readers.py:197: UserWarning: Error in file output_videoss/segment_32.mp4, At time t=1.58-1.63 seconds, indices wanted: 32021-34015, but len(buffer)=32022\n",
      "index 32022 is out of bounds for axis 0 with size 32022\n",
      "  warnings.warn(\"Error in file %s, \"%(self.filename)+\n",
      "\n",
      "WARNING:py.warnings:C:\\Users\\91636\\anaconda3\\conda\\Lib\\site-packages\\moviepy\\audio\\io\\readers.py:197: UserWarning: Error in file output_videoss/segment_32.mp4, At time t=1.63-1.67 seconds, indices wanted: 32021-34015, but len(buffer)=32022\n",
      "index 32022 is out of bounds for axis 0 with size 32022\n",
      "  warnings.warn(\"Error in file %s, \"%(self.filename)+\n",
      "\n",
      "WARNING:py.warnings:C:\\Users\\91636\\anaconda3\\conda\\Lib\\site-packages\\moviepy\\audio\\io\\readers.py:197: UserWarning: Error in file output_videoss/segment_32.mp4, At time t=1.67-1.72 seconds, indices wanted: 32021-34015, but len(buffer)=32022\n",
      "index 32022 is out of bounds for axis 0 with size 32022\n",
      "  warnings.warn(\"Error in file %s, \"%(self.filename)+\n",
      "\n",
      "WARNING:py.warnings:C:\\Users\\91636\\anaconda3\\conda\\Lib\\site-packages\\moviepy\\audio\\io\\readers.py:197: UserWarning: Error in file output_videoss/segment_32.mp4, At time t=1.72-1.76 seconds, indices wanted: 32021-34015, but len(buffer)=32022\n",
      "index 32022 is out of bounds for axis 0 with size 32022\n",
      "  warnings.warn(\"Error in file %s, \"%(self.filename)+\n",
      "\n",
      "WARNING:py.warnings:C:\\Users\\91636\\anaconda3\\conda\\Lib\\site-packages\\moviepy\\audio\\io\\readers.py:197: UserWarning: Error in file output_videoss/segment_32.mp4, At time t=1.76-1.81 seconds, indices wanted: 32021-34015, but len(buffer)=32022\n",
      "index 32022 is out of bounds for axis 0 with size 32022\n",
      "  warnings.warn(\"Error in file %s, \"%(self.filename)+\n",
      "\n",
      "WARNING:py.warnings:C:\\Users\\91636\\anaconda3\\conda\\Lib\\site-packages\\moviepy\\audio\\io\\readers.py:197: UserWarning: Error in file output_videoss/segment_32.mp4, At time t=1.81-1.85 seconds, indices wanted: 32021-34015, but len(buffer)=32022\n",
      "index 32022 is out of bounds for axis 0 with size 32022\n",
      "  warnings.warn(\"Error in file %s, \"%(self.filename)+\n",
      "\n",
      "WARNING:py.warnings:C:\\Users\\91636\\anaconda3\\conda\\Lib\\site-packages\\moviepy\\audio\\io\\readers.py:197: UserWarning: Error in file output_videoss/segment_32.mp4, At time t=1.85-1.90 seconds, indices wanted: 32021-34015, but len(buffer)=32022\n",
      "index 32022 is out of bounds for axis 0 with size 32022\n",
      "  warnings.warn(\"Error in file %s, \"%(self.filename)+\n",
      "\n",
      "                                                                \r"
     ]
    },
    {
     "name": "stdout",
     "output_type": "stream",
     "text": [
      "MoviePy - Done.\n",
      "MoviePy - Building file output_videoss/segment_32.gif with imageio.\n"
     ]
    },
    {
     "name": "stderr",
     "output_type": "stream",
     "text": [
      "INFO:__main__:Cutting video segment: start_time=118.623, end_time=119.434, output_path=output_videoss/segment_33.mp4\n"
     ]
    },
    {
     "name": "stdout",
     "output_type": "stream",
     "text": [
      "Moviepy - Running:\n",
      ">>> \"+ \" \".join(cmd)\n"
     ]
    },
    {
     "name": "stderr",
     "output_type": "stream",
     "text": [
      "INFO:__main__:Video segment cut.\n"
     ]
    },
    {
     "name": "stdout",
     "output_type": "stream",
     "text": [
      "Moviepy - Command successful\n",
      "MoviePy - Writing audio in output_videoss/segment_33_audio.wav\n"
     ]
    },
    {
     "name": "stderr",
     "output_type": "stream",
     "text": [
      "chunk:   0%|          | 0/76 [00:00<?, ?it/s, now=None]WARNING:py.warnings:C:\\Users\\91636\\anaconda3\\conda\\Lib\\site-packages\\moviepy\\audio\\io\\readers.py:197: UserWarning: Error in file output_videoss/segment_33.mp4, At time t=0.00-0.05 seconds, indices wanted: -40039--38044, but len(buffer)=35814\n",
      "index -40039 is out of bounds for axis 0 with size 35814\n",
      "  warnings.warn(\"Error in file %s, \"%(self.filename)+\n",
      "\n",
      "ERROR:__main__:Error converting video to audio: index -40039 is out of bounds for axis 0 with size 35814\n",
      "                                                       \r"
     ]
    },
    {
     "name": "stdout",
     "output_type": "stream",
     "text": [
      "MoviePy - Building file output_videoss/segment_33.gif with imageio.\n"
     ]
    },
    {
     "name": "stderr",
     "output_type": "stream",
     "text": [
      "ERROR:__main__:Error removing intermediate files: [WinError 32] The process cannot access the file because it is being used by another process: 'output_videoss/segment_33.mp4'\n",
      "INFO:__main__:Cutting video segment: start_time=122.89, end_time=124.281, output_path=output_videoss/segment_34.mp4\n",
      "INFO:__main__:Video segment cut.\n"
     ]
    },
    {
     "name": "stdout",
     "output_type": "stream",
     "text": [
      "Moviepy - Running:\n",
      ">>> \"+ \" \".join(cmd)\n",
      "Moviepy - Command successful\n",
      "MoviePy - Writing audio in output_videoss/segment_34_audio.wav\n"
     ]
    },
    {
     "name": "stderr",
     "output_type": "stream",
     "text": [
      "chunk:  51%|█████     | 49/96 [00:07<00:11,  4.09it/s, now=None]WARNING:py.warnings:C:\\Users\\91636\\anaconda3\\conda\\Lib\\site-packages\\moviepy\\audio\\io\\readers.py:197: UserWarning: Error in file output_videoss/segment_34.mp4, At time t=2.15-2.20 seconds, indices wanted: 62009-63987, but len(buffer)=62010\n",
      "index 62010 is out of bounds for axis 0 with size 62010\n",
      "  warnings.warn(\"Error in file %s, \"%(self.filename)+\n",
      "\n",
      "chunk:  52%|█████▏    | 50/96 [00:07<00:12,  3.74it/s, now=None]WARNING:py.warnings:C:\\Users\\91636\\anaconda3\\conda\\Lib\\site-packages\\moviepy\\audio\\io\\readers.py:197: UserWarning: Error in file output_videoss/segment_34.mp4, At time t=2.20-2.24 seconds, indices wanted: 62009-63988, but len(buffer)=62010\n",
      "index 62010 is out of bounds for axis 0 with size 62010\n",
      "  warnings.warn(\"Error in file %s, \"%(self.filename)+\n",
      "\n",
      "WARNING:py.warnings:C:\\Users\\91636\\anaconda3\\conda\\Lib\\site-packages\\moviepy\\audio\\io\\readers.py:197: UserWarning: Error in file output_videoss/segment_34.mp4, At time t=2.24-2.29 seconds, indices wanted: 62009-63988, but len(buffer)=62010\n",
      "index 62010 is out of bounds for axis 0 with size 62010\n",
      "  warnings.warn(\"Error in file %s, \"%(self.filename)+\n",
      "\n",
      "WARNING:py.warnings:C:\\Users\\91636\\anaconda3\\conda\\Lib\\site-packages\\moviepy\\audio\\io\\readers.py:197: UserWarning: Error in file output_videoss/segment_34.mp4, At time t=2.29-2.33 seconds, indices wanted: 62009-63988, but len(buffer)=62010\n",
      "index 62010 is out of bounds for axis 0 with size 62010\n",
      "  warnings.warn(\"Error in file %s, \"%(self.filename)+\n",
      "\n",
      "WARNING:py.warnings:C:\\Users\\91636\\anaconda3\\conda\\Lib\\site-packages\\moviepy\\audio\\io\\readers.py:197: UserWarning: Error in file output_videoss/segment_34.mp4, At time t=2.33-2.38 seconds, indices wanted: 62009-63988, but len(buffer)=62010\n",
      "index 62010 is out of bounds for axis 0 with size 62010\n",
      "  warnings.warn(\"Error in file %s, \"%(self.filename)+\n",
      "\n",
      "WARNING:py.warnings:C:\\Users\\91636\\anaconda3\\conda\\Lib\\site-packages\\moviepy\\audio\\io\\readers.py:197: UserWarning: Error in file output_videoss/segment_34.mp4, At time t=2.38-2.42 seconds, indices wanted: 62009-63988, but len(buffer)=62010\n",
      "index 62010 is out of bounds for axis 0 with size 62010\n",
      "  warnings.warn(\"Error in file %s, \"%(self.filename)+\n",
      "\n",
      "WARNING:py.warnings:C:\\Users\\91636\\anaconda3\\conda\\Lib\\site-packages\\moviepy\\audio\\io\\readers.py:197: UserWarning: Error in file output_videoss/segment_34.mp4, At time t=2.42-2.47 seconds, indices wanted: 62009-63988, but len(buffer)=62010\n",
      "index 62010 is out of bounds for axis 0 with size 62010\n",
      "  warnings.warn(\"Error in file %s, \"%(self.filename)+\n",
      "\n",
      "WARNING:py.warnings:C:\\Users\\91636\\anaconda3\\conda\\Lib\\site-packages\\moviepy\\audio\\io\\readers.py:197: UserWarning: Error in file output_videoss/segment_34.mp4, At time t=2.47-2.51 seconds, indices wanted: 62009-63988, but len(buffer)=62010\n",
      "index 62010 is out of bounds for axis 0 with size 62010\n",
      "  warnings.warn(\"Error in file %s, \"%(self.filename)+\n",
      "\n",
      "WARNING:py.warnings:C:\\Users\\91636\\anaconda3\\conda\\Lib\\site-packages\\moviepy\\audio\\io\\readers.py:197: UserWarning: Error in file output_videoss/segment_34.mp4, At time t=2.51-2.56 seconds, indices wanted: 62009-63988, but len(buffer)=62010\n",
      "index 62010 is out of bounds for axis 0 with size 62010\n",
      "  warnings.warn(\"Error in file %s, \"%(self.filename)+\n",
      "\n",
      "WARNING:py.warnings:C:\\Users\\91636\\anaconda3\\conda\\Lib\\site-packages\\moviepy\\audio\\io\\readers.py:197: UserWarning: Error in file output_videoss/segment_34.mp4, At time t=2.56-2.60 seconds, indices wanted: 62009-63987, but len(buffer)=62010\n",
      "index 62010 is out of bounds for axis 0 with size 62010\n",
      "  warnings.warn(\"Error in file %s, \"%(self.filename)+\n",
      "\n",
      "WARNING:py.warnings:C:\\Users\\91636\\anaconda3\\conda\\Lib\\site-packages\\moviepy\\audio\\io\\readers.py:197: UserWarning: Error in file output_videoss/segment_34.mp4, At time t=2.60-2.65 seconds, indices wanted: 62009-63988, but len(buffer)=62010\n",
      "index 62010 is out of bounds for axis 0 with size 62010\n",
      "  warnings.warn(\"Error in file %s, \"%(self.filename)+\n",
      "\n",
      "WARNING:py.warnings:C:\\Users\\91636\\anaconda3\\conda\\Lib\\site-packages\\moviepy\\audio\\io\\readers.py:197: UserWarning: Error in file output_videoss/segment_34.mp4, At time t=2.65-2.69 seconds, indices wanted: 62009-63988, but len(buffer)=62010\n",
      "index 62010 is out of bounds for axis 0 with size 62010\n",
      "  warnings.warn(\"Error in file %s, \"%(self.filename)+\n",
      "\n",
      "WARNING:py.warnings:C:\\Users\\91636\\anaconda3\\conda\\Lib\\site-packages\\moviepy\\audio\\io\\readers.py:197: UserWarning: Error in file output_videoss/segment_34.mp4, At time t=2.69-2.74 seconds, indices wanted: 62009-63988, but len(buffer)=62010\n",
      "index 62010 is out of bounds for axis 0 with size 62010\n",
      "  warnings.warn(\"Error in file %s, \"%(self.filename)+\n",
      "\n",
      "WARNING:py.warnings:C:\\Users\\91636\\anaconda3\\conda\\Lib\\site-packages\\moviepy\\audio\\io\\readers.py:197: UserWarning: Error in file output_videoss/segment_34.mp4, At time t=2.74-2.78 seconds, indices wanted: 62009-63988, but len(buffer)=62010\n",
      "index 62010 is out of bounds for axis 0 with size 62010\n",
      "  warnings.warn(\"Error in file %s, \"%(self.filename)+\n",
      "\n",
      "WARNING:py.warnings:C:\\Users\\91636\\anaconda3\\conda\\Lib\\site-packages\\moviepy\\audio\\io\\readers.py:197: UserWarning: Error in file output_videoss/segment_34.mp4, At time t=2.78-2.83 seconds, indices wanted: 62009-63988, but len(buffer)=62010\n",
      "index 62010 is out of bounds for axis 0 with size 62010\n",
      "  warnings.warn(\"Error in file %s, \"%(self.filename)+\n",
      "\n",
      "WARNING:py.warnings:C:\\Users\\91636\\anaconda3\\conda\\Lib\\site-packages\\moviepy\\audio\\io\\readers.py:197: UserWarning: Error in file output_videoss/segment_34.mp4, At time t=2.83-2.87 seconds, indices wanted: 62009-63988, but len(buffer)=62010\n",
      "index 62010 is out of bounds for axis 0 with size 62010\n",
      "  warnings.warn(\"Error in file %s, \"%(self.filename)+\n",
      "\n",
      "WARNING:py.warnings:C:\\Users\\91636\\anaconda3\\conda\\Lib\\site-packages\\moviepy\\audio\\io\\readers.py:197: UserWarning: Error in file output_videoss/segment_34.mp4, At time t=2.87-2.92 seconds, indices wanted: 62009-63988, but len(buffer)=62010\n",
      "index 62010 is out of bounds for axis 0 with size 62010\n",
      "  warnings.warn(\"Error in file %s, \"%(self.filename)+\n",
      "\n",
      "WARNING:py.warnings:C:\\Users\\91636\\anaconda3\\conda\\Lib\\site-packages\\moviepy\\audio\\io\\readers.py:197: UserWarning: Error in file output_videoss/segment_34.mp4, At time t=2.92-2.96 seconds, indices wanted: 62009-63988, but len(buffer)=62010\n",
      "index 62010 is out of bounds for axis 0 with size 62010\n",
      "  warnings.warn(\"Error in file %s, \"%(self.filename)+\n",
      "\n",
      "WARNING:py.warnings:C:\\Users\\91636\\anaconda3\\conda\\Lib\\site-packages\\moviepy\\audio\\io\\readers.py:197: UserWarning: Error in file output_videoss/segment_34.mp4, At time t=2.96-3.01 seconds, indices wanted: 62009-63988, but len(buffer)=62010\n",
      "index 62010 is out of bounds for axis 0 with size 62010\n",
      "  warnings.warn(\"Error in file %s, \"%(self.filename)+\n",
      "\n",
      "WARNING:py.warnings:C:\\Users\\91636\\anaconda3\\conda\\Lib\\site-packages\\moviepy\\audio\\io\\readers.py:197: UserWarning: Error in file output_videoss/segment_34.mp4, At time t=3.01-3.05 seconds, indices wanted: 62009-63987, but len(buffer)=62010\n",
      "index 62010 is out of bounds for axis 0 with size 62010\n",
      "  warnings.warn(\"Error in file %s, \"%(self.filename)+\n",
      "\n",
      "WARNING:py.warnings:C:\\Users\\91636\\anaconda3\\conda\\Lib\\site-packages\\moviepy\\audio\\io\\readers.py:197: UserWarning: Error in file output_videoss/segment_34.mp4, At time t=3.05-3.10 seconds, indices wanted: 62009-63988, but len(buffer)=62010\n",
      "index 62010 is out of bounds for axis 0 with size 62010\n",
      "  warnings.warn(\"Error in file %s, \"%(self.filename)+\n",
      "\n",
      "WARNING:py.warnings:C:\\Users\\91636\\anaconda3\\conda\\Lib\\site-packages\\moviepy\\audio\\io\\readers.py:197: UserWarning: Error in file output_videoss/segment_34.mp4, At time t=3.10-3.14 seconds, indices wanted: 62009-63988, but len(buffer)=62010\n",
      "index 62010 is out of bounds for axis 0 with size 62010\n",
      "  warnings.warn(\"Error in file %s, \"%(self.filename)+\n",
      "\n",
      "WARNING:py.warnings:C:\\Users\\91636\\anaconda3\\conda\\Lib\\site-packages\\moviepy\\audio\\io\\readers.py:197: UserWarning: Error in file output_videoss/segment_34.mp4, At time t=3.14-3.19 seconds, indices wanted: 62009-63988, but len(buffer)=62010\n",
      "index 62010 is out of bounds for axis 0 with size 62010\n",
      "  warnings.warn(\"Error in file %s, \"%(self.filename)+\n",
      "\n",
      "WARNING:py.warnings:C:\\Users\\91636\\anaconda3\\conda\\Lib\\site-packages\\moviepy\\audio\\io\\readers.py:197: UserWarning: Error in file output_videoss/segment_34.mp4, At time t=3.19-3.23 seconds, indices wanted: 62009-63988, but len(buffer)=62010\n",
      "index 62010 is out of bounds for axis 0 with size 62010\n",
      "  warnings.warn(\"Error in file %s, \"%(self.filename)+\n",
      "\n",
      "WARNING:py.warnings:C:\\Users\\91636\\anaconda3\\conda\\Lib\\site-packages\\moviepy\\audio\\io\\readers.py:197: UserWarning: Error in file output_videoss/segment_34.mp4, At time t=3.23-3.28 seconds, indices wanted: 62009-63988, but len(buffer)=62010\n",
      "index 62010 is out of bounds for axis 0 with size 62010\n",
      "  warnings.warn(\"Error in file %s, \"%(self.filename)+\n",
      "\n",
      "WARNING:py.warnings:C:\\Users\\91636\\anaconda3\\conda\\Lib\\site-packages\\moviepy\\audio\\io\\readers.py:197: UserWarning: Error in file output_videoss/segment_34.mp4, At time t=3.28-3.32 seconds, indices wanted: 62009-63988, but len(buffer)=62010\n",
      "index 62010 is out of bounds for axis 0 with size 62010\n",
      "  warnings.warn(\"Error in file %s, \"%(self.filename)+\n",
      "\n",
      "WARNING:py.warnings:C:\\Users\\91636\\anaconda3\\conda\\Lib\\site-packages\\moviepy\\audio\\io\\readers.py:197: UserWarning: Error in file output_videoss/segment_34.mp4, At time t=3.32-3.37 seconds, indices wanted: 62009-63988, but len(buffer)=62010\n",
      "index 62010 is out of bounds for axis 0 with size 62010\n",
      "  warnings.warn(\"Error in file %s, \"%(self.filename)+\n",
      "\n",
      "WARNING:py.warnings:C:\\Users\\91636\\anaconda3\\conda\\Lib\\site-packages\\moviepy\\audio\\io\\readers.py:197: UserWarning: Error in file output_videoss/segment_34.mp4, At time t=3.37-3.41 seconds, indices wanted: 62009-63988, but len(buffer)=62010\n",
      "index 62010 is out of bounds for axis 0 with size 62010\n",
      "  warnings.warn(\"Error in file %s, \"%(self.filename)+\n",
      "\n",
      "WARNING:py.warnings:C:\\Users\\91636\\anaconda3\\conda\\Lib\\site-packages\\moviepy\\audio\\io\\readers.py:197: UserWarning: Error in file output_videoss/segment_34.mp4, At time t=3.41-3.46 seconds, indices wanted: 62009-63987, but len(buffer)=62010\n",
      "index 62010 is out of bounds for axis 0 with size 62010\n",
      "  warnings.warn(\"Error in file %s, \"%(self.filename)+\n",
      "\n",
      "WARNING:py.warnings:C:\\Users\\91636\\anaconda3\\conda\\Lib\\site-packages\\moviepy\\audio\\io\\readers.py:197: UserWarning: Error in file output_videoss/segment_34.mp4, At time t=3.46-3.50 seconds, indices wanted: 62009-63988, but len(buffer)=62010\n",
      "index 62010 is out of bounds for axis 0 with size 62010\n",
      "  warnings.warn(\"Error in file %s, \"%(self.filename)+\n",
      "\n",
      "WARNING:py.warnings:C:\\Users\\91636\\anaconda3\\conda\\Lib\\site-packages\\moviepy\\audio\\io\\readers.py:197: UserWarning: Error in file output_videoss/segment_34.mp4, At time t=3.50-3.55 seconds, indices wanted: 62009-63988, but len(buffer)=62010\n",
      "index 62010 is out of bounds for axis 0 with size 62010\n",
      "  warnings.warn(\"Error in file %s, \"%(self.filename)+\n",
      "\n",
      "WARNING:py.warnings:C:\\Users\\91636\\anaconda3\\conda\\Lib\\site-packages\\moviepy\\audio\\io\\readers.py:197: UserWarning: Error in file output_videoss/segment_34.mp4, At time t=3.55-3.59 seconds, indices wanted: 62009-63988, but len(buffer)=62010\n",
      "index 62010 is out of bounds for axis 0 with size 62010\n",
      "  warnings.warn(\"Error in file %s, \"%(self.filename)+\n",
      "\n",
      "WARNING:py.warnings:C:\\Users\\91636\\anaconda3\\conda\\Lib\\site-packages\\moviepy\\audio\\io\\readers.py:197: UserWarning: Error in file output_videoss/segment_34.mp4, At time t=3.59-3.64 seconds, indices wanted: 62009-63988, but len(buffer)=62010\n",
      "index 62010 is out of bounds for axis 0 with size 62010\n",
      "  warnings.warn(\"Error in file %s, \"%(self.filename)+\n",
      "\n",
      "WARNING:py.warnings:C:\\Users\\91636\\anaconda3\\conda\\Lib\\site-packages\\moviepy\\audio\\io\\readers.py:197: UserWarning: Error in file output_videoss/segment_34.mp4, At time t=3.64-3.68 seconds, indices wanted: 62009-63988, but len(buffer)=62010\n",
      "index 62010 is out of bounds for axis 0 with size 62010\n",
      "  warnings.warn(\"Error in file %s, \"%(self.filename)+\n",
      "\n",
      "WARNING:py.warnings:C:\\Users\\91636\\anaconda3\\conda\\Lib\\site-packages\\moviepy\\audio\\io\\readers.py:197: UserWarning: Error in file output_videoss/segment_34.mp4, At time t=3.68-3.73 seconds, indices wanted: 62009-63988, but len(buffer)=62010\n",
      "index 62010 is out of bounds for axis 0 with size 62010\n",
      "  warnings.warn(\"Error in file %s, \"%(self.filename)+\n",
      "\n",
      "WARNING:py.warnings:C:\\Users\\91636\\anaconda3\\conda\\Lib\\site-packages\\moviepy\\audio\\io\\readers.py:197: UserWarning: Error in file output_videoss/segment_34.mp4, At time t=3.73-3.77 seconds, indices wanted: 62009-63988, but len(buffer)=62010\n",
      "index 62010 is out of bounds for axis 0 with size 62010\n",
      "  warnings.warn(\"Error in file %s, \"%(self.filename)+\n",
      "\n",
      "WARNING:py.warnings:C:\\Users\\91636\\anaconda3\\conda\\Lib\\site-packages\\moviepy\\audio\\io\\readers.py:197: UserWarning: Error in file output_videoss/segment_34.mp4, At time t=3.77-3.82 seconds, indices wanted: 62009-63988, but len(buffer)=62010\n",
      "index 62010 is out of bounds for axis 0 with size 62010\n",
      "  warnings.warn(\"Error in file %s, \"%(self.filename)+\n",
      "\n",
      "WARNING:py.warnings:C:\\Users\\91636\\anaconda3\\conda\\Lib\\site-packages\\moviepy\\audio\\io\\readers.py:197: UserWarning: Error in file output_videoss/segment_34.mp4, At time t=3.82-3.86 seconds, indices wanted: 62009-63988, but len(buffer)=62010\n",
      "index 62010 is out of bounds for axis 0 with size 62010\n",
      "  warnings.warn(\"Error in file %s, \"%(self.filename)+\n",
      "\n",
      "WARNING:py.warnings:C:\\Users\\91636\\anaconda3\\conda\\Lib\\site-packages\\moviepy\\audio\\io\\readers.py:197: UserWarning: Error in file output_videoss/segment_34.mp4, At time t=3.86-3.91 seconds, indices wanted: 62009-63987, but len(buffer)=62010\n",
      "index 62010 is out of bounds for axis 0 with size 62010\n",
      "  warnings.warn(\"Error in file %s, \"%(self.filename)+\n",
      "\n",
      "WARNING:py.warnings:C:\\Users\\91636\\anaconda3\\conda\\Lib\\site-packages\\moviepy\\audio\\io\\readers.py:197: UserWarning: Error in file output_videoss/segment_34.mp4, At time t=3.91-3.95 seconds, indices wanted: 62009-63988, but len(buffer)=62010\n",
      "index 62010 is out of bounds for axis 0 with size 62010\n",
      "  warnings.warn(\"Error in file %s, \"%(self.filename)+\n",
      "\n",
      "WARNING:py.warnings:C:\\Users\\91636\\anaconda3\\conda\\Lib\\site-packages\\moviepy\\audio\\io\\readers.py:197: UserWarning: Error in file output_videoss/segment_34.mp4, At time t=3.95-4.00 seconds, indices wanted: 62009-63988, but len(buffer)=62010\n",
      "index 62010 is out of bounds for axis 0 with size 62010\n",
      "  warnings.warn(\"Error in file %s, \"%(self.filename)+\n",
      "\n",
      "WARNING:py.warnings:C:\\Users\\91636\\anaconda3\\conda\\Lib\\site-packages\\moviepy\\audio\\io\\readers.py:197: UserWarning: Error in file output_videoss/segment_34.mp4, At time t=4.00-4.04 seconds, indices wanted: 62009-63988, but len(buffer)=62010\n",
      "index 62010 is out of bounds for axis 0 with size 62010\n",
      "  warnings.warn(\"Error in file %s, \"%(self.filename)+\n",
      "\n",
      "WARNING:py.warnings:C:\\Users\\91636\\anaconda3\\conda\\Lib\\site-packages\\moviepy\\audio\\io\\readers.py:197: UserWarning: Error in file output_videoss/segment_34.mp4, At time t=4.04-4.09 seconds, indices wanted: 62009-63988, but len(buffer)=62010\n",
      "index 62010 is out of bounds for axis 0 with size 62010\n",
      "  warnings.warn(\"Error in file %s, \"%(self.filename)+\n",
      "\n",
      "WARNING:py.warnings:C:\\Users\\91636\\anaconda3\\conda\\Lib\\site-packages\\moviepy\\audio\\io\\readers.py:197: UserWarning: Error in file output_videoss/segment_34.mp4, At time t=4.09-4.13 seconds, indices wanted: 62009-63988, but len(buffer)=62010\n",
      "index 62010 is out of bounds for axis 0 with size 62010\n",
      "  warnings.warn(\"Error in file %s, \"%(self.filename)+\n",
      "\n",
      "WARNING:py.warnings:C:\\Users\\91636\\anaconda3\\conda\\Lib\\site-packages\\moviepy\\audio\\io\\readers.py:197: UserWarning: Error in file output_videoss/segment_34.mp4, At time t=4.13-4.18 seconds, indices wanted: 62009-63988, but len(buffer)=62010\n",
      "index 62010 is out of bounds for axis 0 with size 62010\n",
      "  warnings.warn(\"Error in file %s, \"%(self.filename)+\n",
      "\n",
      "WARNING:py.warnings:C:\\Users\\91636\\anaconda3\\conda\\Lib\\site-packages\\moviepy\\audio\\io\\readers.py:197: UserWarning: Error in file output_videoss/segment_34.mp4, At time t=4.18-4.22 seconds, indices wanted: 62009-63988, but len(buffer)=62010\n",
      "index 62010 is out of bounds for axis 0 with size 62010\n",
      "  warnings.warn(\"Error in file %s, \"%(self.filename)+\n",
      "\n",
      "WARNING:py.warnings:C:\\Users\\91636\\anaconda3\\conda\\Lib\\site-packages\\moviepy\\audio\\io\\readers.py:197: UserWarning: Error in file output_videoss/segment_34.mp4, At time t=4.22-4.27 seconds, indices wanted: 62009-63988, but len(buffer)=62010\n",
      "index 62010 is out of bounds for axis 0 with size 62010\n",
      "  warnings.warn(\"Error in file %s, \"%(self.filename)+\n",
      "\n",
      "chunk: 100%|██████████| 96/96 [00:07<00:00, 34.46it/s, now=None]WARNING:py.warnings:C:\\Users\\91636\\anaconda3\\conda\\Lib\\site-packages\\moviepy\\audio\\io\\readers.py:197: UserWarning: Error in file output_videoss/segment_34.mp4, At time t=4.27-4.31 seconds, indices wanted: 62009-63988, but len(buffer)=62010\n",
      "index 62010 is out of bounds for axis 0 with size 62010\n",
      "  warnings.warn(\"Error in file %s, \"%(self.filename)+\n",
      "\n",
      "                                                                \r"
     ]
    },
    {
     "name": "stdout",
     "output_type": "stream",
     "text": [
      "MoviePy - Done.\n",
      "MoviePy - Building file output_videoss/segment_34.gif with imageio.\n"
     ]
    },
    {
     "name": "stderr",
     "output_type": "stream",
     "text": [
      "INFO:__main__:Cutting video segment: start_time=125.2, end_time=126.728, output_path=output_videoss/segment_35.mp4\n",
      "INFO:__main__:Video segment cut.\n"
     ]
    },
    {
     "name": "stdout",
     "output_type": "stream",
     "text": [
      "Moviepy - Running:\n",
      ">>> \"+ \" \".join(cmd)\n",
      "Moviepy - Command successful\n",
      "MoviePy - Writing audio in output_videoss/segment_35_audio.wav\n"
     ]
    },
    {
     "name": "stderr",
     "output_type": "stream",
     "text": [
      "                                                       "
     ]
    },
    {
     "name": "stdout",
     "output_type": "stream",
     "text": [
      "MoviePy - Done.\n"
     ]
    },
    {
     "name": "stderr",
     "output_type": "stream",
     "text": [
      "\r"
     ]
    },
    {
     "name": "stdout",
     "output_type": "stream",
     "text": [
      "MoviePy - Building file output_videoss/segment_35.gif with imageio.\n"
     ]
    },
    {
     "name": "stderr",
     "output_type": "stream",
     "text": [
      "INFO:__main__:Cutting video segment: start_time=127.856, end_time=130.984, output_path=output_videoss/segment_36.mp4\n",
      "INFO:__main__:Video segment cut.\n"
     ]
    },
    {
     "name": "stdout",
     "output_type": "stream",
     "text": [
      "Moviepy - Running:\n",
      ">>> \"+ \" \".join(cmd)\n",
      "Moviepy - Command successful\n",
      "MoviePy - Writing audio in output_videoss/segment_36_audio.wav\n"
     ]
    },
    {
     "name": "stderr",
     "output_type": "stream",
     "text": [
      "                                                                    "
     ]
    },
    {
     "name": "stdout",
     "output_type": "stream",
     "text": [
      "MoviePy - Done.\n"
     ]
    },
    {
     "name": "stderr",
     "output_type": "stream",
     "text": [
      "\r"
     ]
    },
    {
     "name": "stdout",
     "output_type": "stream",
     "text": [
      "MoviePy - Building file output_videoss/segment_36.gif with imageio.\n"
     ]
    },
    {
     "name": "stderr",
     "output_type": "stream",
     "text": [
      "INFO:__main__:Cutting video segment: start_time=131.749, end_time=135.865, output_path=output_videoss/segment_37.mp4\n",
      "INFO:__main__:Video segment cut.\n"
     ]
    },
    {
     "name": "stdout",
     "output_type": "stream",
     "text": [
      "Moviepy - Running:\n",
      ">>> \"+ \" \".join(cmd)\n",
      "Moviepy - Command successful\n",
      "MoviePy - Writing audio in output_videoss/segment_37_audio.wav\n"
     ]
    },
    {
     "name": "stderr",
     "output_type": "stream",
     "text": [
      "                                                                  "
     ]
    },
    {
     "name": "stdout",
     "output_type": "stream",
     "text": [
      "MoviePy - Done.\n"
     ]
    },
    {
     "name": "stderr",
     "output_type": "stream",
     "text": [
      "\r"
     ]
    },
    {
     "name": "stdout",
     "output_type": "stream",
     "text": [
      "MoviePy - Building file output_videoss/segment_37.gif with imageio.\n"
     ]
    },
    {
     "name": "stderr",
     "output_type": "stream",
     "text": [
      "INFO:__main__:Cutting video segment: start_time=137.522, end_time=139.887, output_path=output_videoss/segment_38.mp4\n",
      "INFO:__main__:Video segment cut.\n"
     ]
    },
    {
     "name": "stdout",
     "output_type": "stream",
     "text": [
      "Moviepy - Running:\n",
      ">>> \"+ \" \".join(cmd)\n",
      "Moviepy - Command successful\n",
      "MoviePy - Writing audio in output_videoss/segment_38_audio.wav\n"
     ]
    },
    {
     "name": "stderr",
     "output_type": "stream",
     "text": [
      "                                                                 "
     ]
    },
    {
     "name": "stdout",
     "output_type": "stream",
     "text": [
      "MoviePy - Done.\n"
     ]
    },
    {
     "name": "stderr",
     "output_type": "stream",
     "text": [
      "\r"
     ]
    },
    {
     "name": "stdout",
     "output_type": "stream",
     "text": [
      "MoviePy - Building file output_videoss/segment_38.gif with imageio.\n"
     ]
    },
    {
     "name": "stderr",
     "output_type": "stream",
     "text": [
      "t:  97%|█████████▋| 70/72 [00:01<00:00, 55.97it/s, now=None]WARNING:py.warnings:C:\\Users\\91636\\anaconda3\\conda\\Lib\\site-packages\\moviepy\\video\\io\\ffmpeg_reader.py:123: UserWarning: Warning: in file output_videoss/segment_38_with_text.mp4, 5391360 bytes wanted but 0 bytes read,at frame 71/72, at time 2.37/2.37 sec. Using the last valid frame instead.\n",
      "  warnings.warn(\"Warning: in file %s, \"%(self.filename)+\n",
      "\n",
      "INFO:__main__:Cutting video segment: start_time=141.073, end_time=143.446, output_path=output_videoss/segment_39.mp4\n",
      "INFO:__main__:Video segment cut.\n"
     ]
    },
    {
     "name": "stdout",
     "output_type": "stream",
     "text": [
      "Moviepy - Running:\n",
      ">>> \"+ \" \".join(cmd)\n",
      "Moviepy - Command successful\n",
      "MoviePy - Writing audio in output_videoss/segment_39_audio.wav\n"
     ]
    },
    {
     "name": "stderr",
     "output_type": "stream",
     "text": [
      "                                                       "
     ]
    },
    {
     "name": "stdout",
     "output_type": "stream",
     "text": [
      "MoviePy - Done.\n"
     ]
    },
    {
     "name": "stderr",
     "output_type": "stream",
     "text": [
      "\r"
     ]
    },
    {
     "name": "stdout",
     "output_type": "stream",
     "text": [
      "MoviePy - Building file output_videoss/segment_39.gif with imageio.\n"
     ]
    },
    {
     "name": "stderr",
     "output_type": "stream",
     "text": [
      "t:  96%|█████████▌| 69/72 [00:01<00:00, 61.32it/s, now=None]WARNING:py.warnings:C:\\Users\\91636\\anaconda3\\conda\\Lib\\site-packages\\moviepy\\video\\io\\ffmpeg_reader.py:123: UserWarning: Warning: in file output_videoss/segment_39_with_text.mp4, 5391360 bytes wanted but 0 bytes read,at frame 71/72, at time 2.37/2.37 sec. Using the last valid frame instead.\n",
      "  warnings.warn(\"Warning: in file %s, \"%(self.filename)+\n",
      "\n",
      "INFO:__main__:Cutting video segment: start_time=144.441, end_time=148.748, output_path=output_videoss/segment_40.mp4\n",
      "INFO:__main__:Video segment cut.\n"
     ]
    },
    {
     "name": "stdout",
     "output_type": "stream",
     "text": [
      "Moviepy - Running:\n",
      ">>> \"+ \" \".join(cmd)\n",
      "Moviepy - Command successful\n",
      "MoviePy - Writing audio in output_videoss/segment_40_audio.wav\n"
     ]
    },
    {
     "name": "stderr",
     "output_type": "stream",
     "text": [
      "                                                                    "
     ]
    },
    {
     "name": "stdout",
     "output_type": "stream",
     "text": [
      "MoviePy - Done.\n"
     ]
    },
    {
     "name": "stderr",
     "output_type": "stream",
     "text": [
      "\r"
     ]
    },
    {
     "name": "stdout",
     "output_type": "stream",
     "text": [
      "MoviePy - Building file output_videoss/segment_40.gif with imageio.\n"
     ]
    },
    {
     "name": "stderr",
     "output_type": "stream",
     "text": [
      "INFO:__main__:Cutting video segment: start_time=149.301, end_time=152.976, output_path=output_videoss/segment_41.mp4\n",
      "INFO:__main__:Video segment cut.\n"
     ]
    },
    {
     "name": "stdout",
     "output_type": "stream",
     "text": [
      "Moviepy - Running:\n",
      ">>> \"+ \" \".join(cmd)\n",
      "Moviepy - Command successful\n",
      "MoviePy - Writing audio in output_videoss/segment_41_audio.wav\n"
     ]
    },
    {
     "name": "stderr",
     "output_type": "stream",
     "text": [
      "                                                        "
     ]
    },
    {
     "name": "stdout",
     "output_type": "stream",
     "text": [
      "MoviePy - Done.\n"
     ]
    },
    {
     "name": "stderr",
     "output_type": "stream",
     "text": [
      "\r"
     ]
    },
    {
     "name": "stdout",
     "output_type": "stream",
     "text": [
      "MoviePy - Building file output_videoss/segment_41.gif with imageio.\n"
     ]
    },
    {
     "name": "stderr",
     "output_type": "stream",
     "text": [
      "INFO:__main__:Cutting video segment: start_time=153.653, end_time=154.668, output_path=output_videoss/segment_42.mp4\n",
      "INFO:__main__:Video segment cut.\n"
     ]
    },
    {
     "name": "stdout",
     "output_type": "stream",
     "text": [
      "Moviepy - Running:\n",
      ">>> \"+ \" \".join(cmd)\n",
      "Moviepy - Command successful\n",
      "MoviePy - Writing audio in output_videoss/segment_42_audio.wav\n"
     ]
    },
    {
     "name": "stderr",
     "output_type": "stream",
     "text": [
      "chunk:  40%|████      | 24/60 [00:00<00:00, 126.64it/s, now=None]WARNING:py.warnings:C:\\Users\\91636\\anaconda3\\conda\\Lib\\site-packages\\moviepy\\audio\\io\\readers.py:197: UserWarning: Error in file output_videoss/segment_42.mp4, At time t=1.35-1.39 seconds, indices wanted: 45192-47175, but len(buffer)=45193\n",
      "index 45193 is out of bounds for axis 0 with size 45193\n",
      "  warnings.warn(\"Error in file %s, \"%(self.filename)+\n",
      "\n",
      "WARNING:py.warnings:C:\\Users\\91636\\anaconda3\\conda\\Lib\\site-packages\\moviepy\\audio\\io\\readers.py:197: UserWarning: Error in file output_videoss/segment_42.mp4, At time t=1.39-1.44 seconds, indices wanted: 45192-47176, but len(buffer)=45193\n",
      "index 45193 is out of bounds for axis 0 with size 45193\n",
      "  warnings.warn(\"Error in file %s, \"%(self.filename)+\n",
      "\n",
      "WARNING:py.warnings:C:\\Users\\91636\\anaconda3\\conda\\Lib\\site-packages\\moviepy\\audio\\io\\readers.py:197: UserWarning: Error in file output_videoss/segment_42.mp4, At time t=1.44-1.48 seconds, indices wanted: 45192-47175, but len(buffer)=45193\n",
      "index 45193 is out of bounds for axis 0 with size 45193\n",
      "  warnings.warn(\"Error in file %s, \"%(self.filename)+\n",
      "\n",
      "WARNING:py.warnings:C:\\Users\\91636\\anaconda3\\conda\\Lib\\site-packages\\moviepy\\audio\\io\\readers.py:197: UserWarning: Error in file output_videoss/segment_42.mp4, At time t=1.48-1.53 seconds, indices wanted: 45192-47176, but len(buffer)=45193\n",
      "index 45193 is out of bounds for axis 0 with size 45193\n",
      "  warnings.warn(\"Error in file %s, \"%(self.filename)+\n",
      "\n",
      "WARNING:py.warnings:C:\\Users\\91636\\anaconda3\\conda\\Lib\\site-packages\\moviepy\\audio\\io\\readers.py:197: UserWarning: Error in file output_videoss/segment_42.mp4, At time t=1.53-1.57 seconds, indices wanted: 45192-47175, but len(buffer)=45193\n",
      "index 45193 is out of bounds for axis 0 with size 45193\n",
      "  warnings.warn(\"Error in file %s, \"%(self.filename)+\n",
      "\n",
      "WARNING:py.warnings:C:\\Users\\91636\\anaconda3\\conda\\Lib\\site-packages\\moviepy\\audio\\io\\readers.py:197: UserWarning: Error in file output_videoss/segment_42.mp4, At time t=1.57-1.62 seconds, indices wanted: 45192-47176, but len(buffer)=45193\n",
      "index 45193 is out of bounds for axis 0 with size 45193\n",
      "  warnings.warn(\"Error in file %s, \"%(self.filename)+\n",
      "\n",
      "chunk:  62%|██████▏   | 37/60 [00:01<00:00, 24.59it/s, now=None] WARNING:py.warnings:C:\\Users\\91636\\anaconda3\\conda\\Lib\\site-packages\\moviepy\\audio\\io\\readers.py:197: UserWarning: Error in file output_videoss/segment_42.mp4, At time t=1.62-1.66 seconds, indices wanted: 45192-47175, but len(buffer)=45193\n",
      "index 45193 is out of bounds for axis 0 with size 45193\n",
      "  warnings.warn(\"Error in file %s, \"%(self.filename)+\n",
      "\n",
      "WARNING:py.warnings:C:\\Users\\91636\\anaconda3\\conda\\Lib\\site-packages\\moviepy\\audio\\io\\readers.py:197: UserWarning: Error in file output_videoss/segment_42.mp4, At time t=1.66-1.71 seconds, indices wanted: 45192-47176, but len(buffer)=45193\n",
      "index 45193 is out of bounds for axis 0 with size 45193\n",
      "  warnings.warn(\"Error in file %s, \"%(self.filename)+\n",
      "\n",
      "WARNING:py.warnings:C:\\Users\\91636\\anaconda3\\conda\\Lib\\site-packages\\moviepy\\audio\\io\\readers.py:197: UserWarning: Error in file output_videoss/segment_42.mp4, At time t=1.71-1.75 seconds, indices wanted: 45192-47175, but len(buffer)=45193\n",
      "index 45193 is out of bounds for axis 0 with size 45193\n",
      "  warnings.warn(\"Error in file %s, \"%(self.filename)+\n",
      "\n",
      "WARNING:py.warnings:C:\\Users\\91636\\anaconda3\\conda\\Lib\\site-packages\\moviepy\\audio\\io\\readers.py:197: UserWarning: Error in file output_videoss/segment_42.mp4, At time t=1.75-1.80 seconds, indices wanted: 45192-47176, but len(buffer)=45193\n",
      "index 45193 is out of bounds for axis 0 with size 45193\n",
      "  warnings.warn(\"Error in file %s, \"%(self.filename)+\n",
      "\n",
      "WARNING:py.warnings:C:\\Users\\91636\\anaconda3\\conda\\Lib\\site-packages\\moviepy\\audio\\io\\readers.py:197: UserWarning: Error in file output_videoss/segment_42.mp4, At time t=1.80-1.84 seconds, indices wanted: 45192-47175, but len(buffer)=45193\n",
      "index 45193 is out of bounds for axis 0 with size 45193\n",
      "  warnings.warn(\"Error in file %s, \"%(self.filename)+\n",
      "\n",
      "WARNING:py.warnings:C:\\Users\\91636\\anaconda3\\conda\\Lib\\site-packages\\moviepy\\audio\\io\\readers.py:197: UserWarning: Error in file output_videoss/segment_42.mp4, At time t=1.84-1.89 seconds, indices wanted: 45192-47176, but len(buffer)=45193\n",
      "index 45193 is out of bounds for axis 0 with size 45193\n",
      "  warnings.warn(\"Error in file %s, \"%(self.filename)+\n",
      "\n",
      "WARNING:py.warnings:C:\\Users\\91636\\anaconda3\\conda\\Lib\\site-packages\\moviepy\\audio\\io\\readers.py:197: UserWarning: Error in file output_videoss/segment_42.mp4, At time t=1.89-1.93 seconds, indices wanted: 45192-47175, but len(buffer)=45193\n",
      "index 45193 is out of bounds for axis 0 with size 45193\n",
      "  warnings.warn(\"Error in file %s, \"%(self.filename)+\n",
      "\n",
      "WARNING:py.warnings:C:\\Users\\91636\\anaconda3\\conda\\Lib\\site-packages\\moviepy\\audio\\io\\readers.py:197: UserWarning: Error in file output_videoss/segment_42.mp4, At time t=1.93-1.98 seconds, indices wanted: 45192-47176, but len(buffer)=45193\n",
      "index 45193 is out of bounds for axis 0 with size 45193\n",
      "  warnings.warn(\"Error in file %s, \"%(self.filename)+\n",
      "\n",
      "WARNING:py.warnings:C:\\Users\\91636\\anaconda3\\conda\\Lib\\site-packages\\moviepy\\audio\\io\\readers.py:197: UserWarning: Error in file output_videoss/segment_42.mp4, At time t=1.98-2.02 seconds, indices wanted: 45192-47175, but len(buffer)=45193\n",
      "index 45193 is out of bounds for axis 0 with size 45193\n",
      "  warnings.warn(\"Error in file %s, \"%(self.filename)+\n",
      "\n",
      "WARNING:py.warnings:C:\\Users\\91636\\anaconda3\\conda\\Lib\\site-packages\\moviepy\\audio\\io\\readers.py:197: UserWarning: Error in file output_videoss/segment_42.mp4, At time t=2.02-2.07 seconds, indices wanted: 45192-47176, but len(buffer)=45193\n",
      "index 45193 is out of bounds for axis 0 with size 45193\n",
      "  warnings.warn(\"Error in file %s, \"%(self.filename)+\n",
      "\n",
      "WARNING:py.warnings:C:\\Users\\91636\\anaconda3\\conda\\Lib\\site-packages\\moviepy\\audio\\io\\readers.py:197: UserWarning: Error in file output_videoss/segment_42.mp4, At time t=2.07-2.11 seconds, indices wanted: 45192-47175, but len(buffer)=45193\n",
      "index 45193 is out of bounds for axis 0 with size 45193\n",
      "  warnings.warn(\"Error in file %s, \"%(self.filename)+\n",
      "\n",
      "WARNING:py.warnings:C:\\Users\\91636\\anaconda3\\conda\\Lib\\site-packages\\moviepy\\audio\\io\\readers.py:197: UserWarning: Error in file output_videoss/segment_42.mp4, At time t=2.11-2.16 seconds, indices wanted: 45192-47176, but len(buffer)=45193\n",
      "index 45193 is out of bounds for axis 0 with size 45193\n",
      "  warnings.warn(\"Error in file %s, \"%(self.filename)+\n",
      "\n",
      "WARNING:py.warnings:C:\\Users\\91636\\anaconda3\\conda\\Lib\\site-packages\\moviepy\\audio\\io\\readers.py:197: UserWarning: Error in file output_videoss/segment_42.mp4, At time t=2.16-2.20 seconds, indices wanted: 45192-47175, but len(buffer)=45193\n",
      "index 45193 is out of bounds for axis 0 with size 45193\n",
      "  warnings.warn(\"Error in file %s, \"%(self.filename)+\n",
      "\n",
      "WARNING:py.warnings:C:\\Users\\91636\\anaconda3\\conda\\Lib\\site-packages\\moviepy\\audio\\io\\readers.py:197: UserWarning: Error in file output_videoss/segment_42.mp4, At time t=2.20-2.25 seconds, indices wanted: 45192-47176, but len(buffer)=45193\n",
      "index 45193 is out of bounds for axis 0 with size 45193\n",
      "  warnings.warn(\"Error in file %s, \"%(self.filename)+\n",
      "\n",
      "WARNING:py.warnings:C:\\Users\\91636\\anaconda3\\conda\\Lib\\site-packages\\moviepy\\audio\\io\\readers.py:197: UserWarning: Error in file output_videoss/segment_42.mp4, At time t=2.25-2.29 seconds, indices wanted: 45192-47175, but len(buffer)=45193\n",
      "index 45193 is out of bounds for axis 0 with size 45193\n",
      "  warnings.warn(\"Error in file %s, \"%(self.filename)+\n",
      "\n",
      "WARNING:py.warnings:C:\\Users\\91636\\anaconda3\\conda\\Lib\\site-packages\\moviepy\\audio\\io\\readers.py:197: UserWarning: Error in file output_videoss/segment_42.mp4, At time t=2.29-2.34 seconds, indices wanted: 45192-47176, but len(buffer)=45193\n",
      "index 45193 is out of bounds for axis 0 with size 45193\n",
      "  warnings.warn(\"Error in file %s, \"%(self.filename)+\n",
      "\n",
      "WARNING:py.warnings:C:\\Users\\91636\\anaconda3\\conda\\Lib\\site-packages\\moviepy\\audio\\io\\readers.py:197: UserWarning: Error in file output_videoss/segment_42.mp4, At time t=2.34-2.38 seconds, indices wanted: 45192-47175, but len(buffer)=45193\n",
      "index 45193 is out of bounds for axis 0 with size 45193\n",
      "  warnings.warn(\"Error in file %s, \"%(self.filename)+\n",
      "\n",
      "WARNING:py.warnings:C:\\Users\\91636\\anaconda3\\conda\\Lib\\site-packages\\moviepy\\audio\\io\\readers.py:197: UserWarning: Error in file output_videoss/segment_42.mp4, At time t=2.38-2.43 seconds, indices wanted: 45192-47176, but len(buffer)=45193\n",
      "index 45193 is out of bounds for axis 0 with size 45193\n",
      "  warnings.warn(\"Error in file %s, \"%(self.filename)+\n",
      "\n",
      "WARNING:py.warnings:C:\\Users\\91636\\anaconda3\\conda\\Lib\\site-packages\\moviepy\\audio\\io\\readers.py:197: UserWarning: Error in file output_videoss/segment_42.mp4, At time t=2.43-2.47 seconds, indices wanted: 45192-47175, but len(buffer)=45193\n",
      "index 45193 is out of bounds for axis 0 with size 45193\n",
      "  warnings.warn(\"Error in file %s, \"%(self.filename)+\n",
      "\n",
      "WARNING:py.warnings:C:\\Users\\91636\\anaconda3\\conda\\Lib\\site-packages\\moviepy\\audio\\io\\readers.py:197: UserWarning: Error in file output_videoss/segment_42.mp4, At time t=2.47-2.52 seconds, indices wanted: 45192-47176, but len(buffer)=45193\n",
      "index 45193 is out of bounds for axis 0 with size 45193\n",
      "  warnings.warn(\"Error in file %s, \"%(self.filename)+\n",
      "\n",
      "WARNING:py.warnings:C:\\Users\\91636\\anaconda3\\conda\\Lib\\site-packages\\moviepy\\audio\\io\\readers.py:197: UserWarning: Error in file output_videoss/segment_42.mp4, At time t=2.52-2.56 seconds, indices wanted: 45192-47175, but len(buffer)=45193\n",
      "index 45193 is out of bounds for axis 0 with size 45193\n",
      "  warnings.warn(\"Error in file %s, \"%(self.filename)+\n",
      "\n",
      "WARNING:py.warnings:C:\\Users\\91636\\anaconda3\\conda\\Lib\\site-packages\\moviepy\\audio\\io\\readers.py:197: UserWarning: Error in file output_videoss/segment_42.mp4, At time t=2.56-2.61 seconds, indices wanted: 45192-47176, but len(buffer)=45193\n",
      "index 45193 is out of bounds for axis 0 with size 45193\n",
      "  warnings.warn(\"Error in file %s, \"%(self.filename)+\n",
      "\n",
      "WARNING:py.warnings:C:\\Users\\91636\\anaconda3\\conda\\Lib\\site-packages\\moviepy\\audio\\io\\readers.py:197: UserWarning: Error in file output_videoss/segment_42.mp4, At time t=2.61-2.65 seconds, indices wanted: 45192-47175, but len(buffer)=45193\n",
      "index 45193 is out of bounds for axis 0 with size 45193\n",
      "  warnings.warn(\"Error in file %s, \"%(self.filename)+\n",
      "\n",
      "WARNING:py.warnings:C:\\Users\\91636\\anaconda3\\conda\\Lib\\site-packages\\moviepy\\audio\\io\\readers.py:197: UserWarning: Error in file output_videoss/segment_42.mp4, At time t=2.65-2.70 seconds, indices wanted: 45192-47176, but len(buffer)=45193\n",
      "index 45193 is out of bounds for axis 0 with size 45193\n",
      "  warnings.warn(\"Error in file %s, \"%(self.filename)+\n",
      "\n",
      "                                                                \r"
     ]
    },
    {
     "name": "stdout",
     "output_type": "stream",
     "text": [
      "MoviePy - Done.\n",
      "MoviePy - Building file output_videoss/segment_42.gif with imageio.\n"
     ]
    },
    {
     "name": "stderr",
     "output_type": "stream",
     "text": [
      "INFO:__main__:Cutting video segment: start_time=155.959, end_time=160.682, output_path=output_videoss/segment_43.mp4\n",
      "INFO:__main__:Video segment cut.\n"
     ]
    },
    {
     "name": "stdout",
     "output_type": "stream",
     "text": [
      "Moviepy - Running:\n",
      ">>> \"+ \" \".join(cmd)\n",
      "Moviepy - Command successful\n",
      "MoviePy - Writing audio in output_videoss/segment_43_audio.wav\n"
     ]
    },
    {
     "name": "stderr",
     "output_type": "stream",
     "text": [
      "                                                                    "
     ]
    },
    {
     "name": "stdout",
     "output_type": "stream",
     "text": [
      "MoviePy - Done.\n"
     ]
    },
    {
     "name": "stderr",
     "output_type": "stream",
     "text": [
      "\r"
     ]
    },
    {
     "name": "stdout",
     "output_type": "stream",
     "text": [
      "MoviePy - Building file output_videoss/segment_43.gif with imageio.\n"
     ]
    },
    {
     "name": "stderr",
     "output_type": "stream",
     "text": [
      "INFO:__main__:Cutting video segment: start_time=161.597, end_time=163.004, output_path=output_videoss/segment_44.mp4\n",
      "INFO:__main__:Video segment cut.\n"
     ]
    },
    {
     "name": "stdout",
     "output_type": "stream",
     "text": [
      "Moviepy - Running:\n",
      ">>> \"+ \" \".join(cmd)\n",
      "Moviepy - Command successful\n",
      "MoviePy - Writing audio in output_videoss/segment_44_audio.wav\n"
     ]
    },
    {
     "name": "stderr",
     "output_type": "stream",
     "text": [
      "chunk:  49%|████▉     | 33/67 [00:00<00:00, 177.38it/s, now=None]WARNING:py.warnings:C:\\Users\\91636\\anaconda3\\conda\\Lib\\site-packages\\moviepy\\audio\\io\\readers.py:197: UserWarning: Error in file output_videoss/segment_44.mp4, At time t=1.49-1.54 seconds, indices wanted: 61452-63445, but len(buffer)=62451\n",
      "index 62451 is out of bounds for axis 0 with size 62451\n",
      "  warnings.warn(\"Error in file %s, \"%(self.filename)+\n",
      "\n",
      "WARNING:py.warnings:C:\\Users\\91636\\anaconda3\\conda\\Lib\\site-packages\\moviepy\\audio\\io\\readers.py:197: UserWarning: Error in file output_videoss/segment_44.mp4, At time t=1.54-1.58 seconds, indices wanted: 62450-64444, but len(buffer)=62451\n",
      "index 62451 is out of bounds for axis 0 with size 62451\n",
      "  warnings.warn(\"Error in file %s, \"%(self.filename)+\n",
      "\n",
      "WARNING:py.warnings:C:\\Users\\91636\\anaconda3\\conda\\Lib\\site-packages\\moviepy\\audio\\io\\readers.py:197: UserWarning: Error in file output_videoss/segment_44.mp4, At time t=1.58-1.63 seconds, indices wanted: 62450-64443, but len(buffer)=62451\n",
      "index 62451 is out of bounds for axis 0 with size 62451\n",
      "  warnings.warn(\"Error in file %s, \"%(self.filename)+\n",
      "\n",
      "WARNING:py.warnings:C:\\Users\\91636\\anaconda3\\conda\\Lib\\site-packages\\moviepy\\audio\\io\\readers.py:197: UserWarning: Error in file output_videoss/segment_44.mp4, At time t=1.63-1.67 seconds, indices wanted: 62450-64443, but len(buffer)=62451\n",
      "index 62451 is out of bounds for axis 0 with size 62451\n",
      "  warnings.warn(\"Error in file %s, \"%(self.filename)+\n",
      "\n",
      "WARNING:py.warnings:C:\\Users\\91636\\anaconda3\\conda\\Lib\\site-packages\\moviepy\\audio\\io\\readers.py:197: UserWarning: Error in file output_videoss/segment_44.mp4, At time t=1.67-1.72 seconds, indices wanted: 62450-64444, but len(buffer)=62451\n",
      "index 62451 is out of bounds for axis 0 with size 62451\n",
      "  warnings.warn(\"Error in file %s, \"%(self.filename)+\n",
      "\n",
      "WARNING:py.warnings:C:\\Users\\91636\\anaconda3\\conda\\Lib\\site-packages\\moviepy\\audio\\io\\readers.py:197: UserWarning: Error in file output_videoss/segment_44.mp4, At time t=1.72-1.76 seconds, indices wanted: 62450-64443, but len(buffer)=62451\n",
      "index 62451 is out of bounds for axis 0 with size 62451\n",
      "  warnings.warn(\"Error in file %s, \"%(self.filename)+\n",
      "\n",
      "WARNING:py.warnings:C:\\Users\\91636\\anaconda3\\conda\\Lib\\site-packages\\moviepy\\audio\\io\\readers.py:197: UserWarning: Error in file output_videoss/segment_44.mp4, At time t=1.76-1.81 seconds, indices wanted: 62450-64443, but len(buffer)=62451\n",
      "index 62451 is out of bounds for axis 0 with size 62451\n",
      "  warnings.warn(\"Error in file %s, \"%(self.filename)+\n",
      "\n",
      "WARNING:py.warnings:C:\\Users\\91636\\anaconda3\\conda\\Lib\\site-packages\\moviepy\\audio\\io\\readers.py:197: UserWarning: Error in file output_videoss/segment_44.mp4, At time t=1.81-1.85 seconds, indices wanted: 62450-64444, but len(buffer)=62451\n",
      "index 62451 is out of bounds for axis 0 with size 62451\n",
      "  warnings.warn(\"Error in file %s, \"%(self.filename)+\n",
      "\n",
      "WARNING:py.warnings:C:\\Users\\91636\\anaconda3\\conda\\Lib\\site-packages\\moviepy\\audio\\io\\readers.py:197: UserWarning: Error in file output_videoss/segment_44.mp4, At time t=1.85-1.90 seconds, indices wanted: 62450-64443, but len(buffer)=62451\n",
      "index 62451 is out of bounds for axis 0 with size 62451\n",
      "  warnings.warn(\"Error in file %s, \"%(self.filename)+\n",
      "\n",
      "WARNING:py.warnings:C:\\Users\\91636\\anaconda3\\conda\\Lib\\site-packages\\moviepy\\audio\\io\\readers.py:197: UserWarning: Error in file output_videoss/segment_44.mp4, At time t=1.90-1.94 seconds, indices wanted: 62450-64444, but len(buffer)=62451\n",
      "index 62451 is out of bounds for axis 0 with size 62451\n",
      "  warnings.warn(\"Error in file %s, \"%(self.filename)+\n",
      "\n",
      "WARNING:py.warnings:C:\\Users\\91636\\anaconda3\\conda\\Lib\\site-packages\\moviepy\\audio\\io\\readers.py:197: UserWarning: Error in file output_videoss/segment_44.mp4, At time t=1.94-1.99 seconds, indices wanted: 62450-64443, but len(buffer)=62451\n",
      "index 62451 is out of bounds for axis 0 with size 62451\n",
      "  warnings.warn(\"Error in file %s, \"%(self.filename)+\n",
      "\n",
      "WARNING:py.warnings:C:\\Users\\91636\\anaconda3\\conda\\Lib\\site-packages\\moviepy\\audio\\io\\readers.py:197: UserWarning: Error in file output_videoss/segment_44.mp4, At time t=1.99-2.04 seconds, indices wanted: 62450-64443, but len(buffer)=62451\n",
      "index 62451 is out of bounds for axis 0 with size 62451\n",
      "  warnings.warn(\"Error in file %s, \"%(self.filename)+\n",
      "\n",
      "WARNING:py.warnings:C:\\Users\\91636\\anaconda3\\conda\\Lib\\site-packages\\moviepy\\audio\\io\\readers.py:197: UserWarning: Error in file output_videoss/segment_44.mp4, At time t=2.04-2.08 seconds, indices wanted: 62450-64444, but len(buffer)=62451\n",
      "index 62451 is out of bounds for axis 0 with size 62451\n",
      "  warnings.warn(\"Error in file %s, \"%(self.filename)+\n",
      "\n",
      "WARNING:py.warnings:C:\\Users\\91636\\anaconda3\\conda\\Lib\\site-packages\\moviepy\\audio\\io\\readers.py:197: UserWarning: Error in file output_videoss/segment_44.mp4, At time t=2.08-2.13 seconds, indices wanted: 62450-64443, but len(buffer)=62451\n",
      "index 62451 is out of bounds for axis 0 with size 62451\n",
      "  warnings.warn(\"Error in file %s, \"%(self.filename)+\n",
      "\n",
      "WARNING:py.warnings:C:\\Users\\91636\\anaconda3\\conda\\Lib\\site-packages\\moviepy\\audio\\io\\readers.py:197: UserWarning: Error in file output_videoss/segment_44.mp4, At time t=2.13-2.17 seconds, indices wanted: 62450-64443, but len(buffer)=62451\n",
      "index 62451 is out of bounds for axis 0 with size 62451\n",
      "  warnings.warn(\"Error in file %s, \"%(self.filename)+\n",
      "\n",
      "WARNING:py.warnings:C:\\Users\\91636\\anaconda3\\conda\\Lib\\site-packages\\moviepy\\audio\\io\\readers.py:197: UserWarning: Error in file output_videoss/segment_44.mp4, At time t=2.17-2.22 seconds, indices wanted: 62450-64444, but len(buffer)=62451\n",
      "index 62451 is out of bounds for axis 0 with size 62451\n",
      "  warnings.warn(\"Error in file %s, \"%(self.filename)+\n",
      "\n",
      "WARNING:py.warnings:C:\\Users\\91636\\anaconda3\\conda\\Lib\\site-packages\\moviepy\\audio\\io\\readers.py:197: UserWarning: Error in file output_videoss/segment_44.mp4, At time t=2.22-2.26 seconds, indices wanted: 62450-64443, but len(buffer)=62451\n",
      "index 62451 is out of bounds for axis 0 with size 62451\n",
      "  warnings.warn(\"Error in file %s, \"%(self.filename)+\n",
      "\n",
      "chunk:  76%|███████▌  | 51/67 [00:00<00:00, 98.29it/s, now=None] WARNING:py.warnings:C:\\Users\\91636\\anaconda3\\conda\\Lib\\site-packages\\moviepy\\audio\\io\\readers.py:197: UserWarning: Error in file output_videoss/segment_44.mp4, At time t=2.26-2.31 seconds, indices wanted: 62450-64444, but len(buffer)=62451\n",
      "index 62451 is out of bounds for axis 0 with size 62451\n",
      "  warnings.warn(\"Error in file %s, \"%(self.filename)+\n",
      "\n",
      "WARNING:py.warnings:C:\\Users\\91636\\anaconda3\\conda\\Lib\\site-packages\\moviepy\\audio\\io\\readers.py:197: UserWarning: Error in file output_videoss/segment_44.mp4, At time t=2.31-2.35 seconds, indices wanted: 62450-64443, but len(buffer)=62451\n",
      "index 62451 is out of bounds for axis 0 with size 62451\n",
      "  warnings.warn(\"Error in file %s, \"%(self.filename)+\n",
      "\n",
      "WARNING:py.warnings:C:\\Users\\91636\\anaconda3\\conda\\Lib\\site-packages\\moviepy\\audio\\io\\readers.py:197: UserWarning: Error in file output_videoss/segment_44.mp4, At time t=2.35-2.40 seconds, indices wanted: 62450-64443, but len(buffer)=62451\n",
      "index 62451 is out of bounds for axis 0 with size 62451\n",
      "  warnings.warn(\"Error in file %s, \"%(self.filename)+\n",
      "\n",
      "WARNING:py.warnings:C:\\Users\\91636\\anaconda3\\conda\\Lib\\site-packages\\moviepy\\audio\\io\\readers.py:197: UserWarning: Error in file output_videoss/segment_44.mp4, At time t=2.40-2.44 seconds, indices wanted: 62450-64444, but len(buffer)=62451\n",
      "index 62451 is out of bounds for axis 0 with size 62451\n",
      "  warnings.warn(\"Error in file %s, \"%(self.filename)+\n",
      "\n",
      "WARNING:py.warnings:C:\\Users\\91636\\anaconda3\\conda\\Lib\\site-packages\\moviepy\\audio\\io\\readers.py:197: UserWarning: Error in file output_videoss/segment_44.mp4, At time t=2.44-2.49 seconds, indices wanted: 62450-64443, but len(buffer)=62451\n",
      "index 62451 is out of bounds for axis 0 with size 62451\n",
      "  warnings.warn(\"Error in file %s, \"%(self.filename)+\n",
      "\n",
      "WARNING:py.warnings:C:\\Users\\91636\\anaconda3\\conda\\Lib\\site-packages\\moviepy\\audio\\io\\readers.py:197: UserWarning: Error in file output_videoss/segment_44.mp4, At time t=2.49-2.53 seconds, indices wanted: 62450-64443, but len(buffer)=62451\n",
      "index 62451 is out of bounds for axis 0 with size 62451\n",
      "  warnings.warn(\"Error in file %s, \"%(self.filename)+\n",
      "\n",
      "WARNING:py.warnings:C:\\Users\\91636\\anaconda3\\conda\\Lib\\site-packages\\moviepy\\audio\\io\\readers.py:197: UserWarning: Error in file output_videoss/segment_44.mp4, At time t=2.53-2.58 seconds, indices wanted: 62450-64444, but len(buffer)=62451\n",
      "index 62451 is out of bounds for axis 0 with size 62451\n",
      "  warnings.warn(\"Error in file %s, \"%(self.filename)+\n",
      "\n",
      "WARNING:py.warnings:C:\\Users\\91636\\anaconda3\\conda\\Lib\\site-packages\\moviepy\\audio\\io\\readers.py:197: UserWarning: Error in file output_videoss/segment_44.mp4, At time t=2.58-2.62 seconds, indices wanted: 62450-64443, but len(buffer)=62451\n",
      "index 62451 is out of bounds for axis 0 with size 62451\n",
      "  warnings.warn(\"Error in file %s, \"%(self.filename)+\n",
      "\n",
      "WARNING:py.warnings:C:\\Users\\91636\\anaconda3\\conda\\Lib\\site-packages\\moviepy\\audio\\io\\readers.py:197: UserWarning: Error in file output_videoss/segment_44.mp4, At time t=2.62-2.67 seconds, indices wanted: 62450-64444, but len(buffer)=62451\n",
      "index 62451 is out of bounds for axis 0 with size 62451\n",
      "  warnings.warn(\"Error in file %s, \"%(self.filename)+\n",
      "\n",
      "WARNING:py.warnings:C:\\Users\\91636\\anaconda3\\conda\\Lib\\site-packages\\moviepy\\audio\\io\\readers.py:197: UserWarning: Error in file output_videoss/segment_44.mp4, At time t=2.67-2.71 seconds, indices wanted: 62450-64443, but len(buffer)=62451\n",
      "index 62451 is out of bounds for axis 0 with size 62451\n",
      "  warnings.warn(\"Error in file %s, \"%(self.filename)+\n",
      "\n",
      "WARNING:py.warnings:C:\\Users\\91636\\anaconda3\\conda\\Lib\\site-packages\\moviepy\\audio\\io\\readers.py:197: UserWarning: Error in file output_videoss/segment_44.mp4, At time t=2.71-2.76 seconds, indices wanted: 62450-64443, but len(buffer)=62451\n",
      "index 62451 is out of bounds for axis 0 with size 62451\n",
      "  warnings.warn(\"Error in file %s, \"%(self.filename)+\n",
      "\n",
      "WARNING:py.warnings:C:\\Users\\91636\\anaconda3\\conda\\Lib\\site-packages\\moviepy\\audio\\io\\readers.py:197: UserWarning: Error in file output_videoss/segment_44.mp4, At time t=2.76-2.80 seconds, indices wanted: 62450-64444, but len(buffer)=62451\n",
      "index 62451 is out of bounds for axis 0 with size 62451\n",
      "  warnings.warn(\"Error in file %s, \"%(self.filename)+\n",
      "\n",
      "WARNING:py.warnings:C:\\Users\\91636\\anaconda3\\conda\\Lib\\site-packages\\moviepy\\audio\\io\\readers.py:197: UserWarning: Error in file output_videoss/segment_44.mp4, At time t=2.80-2.85 seconds, indices wanted: 62450-64443, but len(buffer)=62451\n",
      "index 62451 is out of bounds for axis 0 with size 62451\n",
      "  warnings.warn(\"Error in file %s, \"%(self.filename)+\n",
      "\n",
      "WARNING:py.warnings:C:\\Users\\91636\\anaconda3\\conda\\Lib\\site-packages\\moviepy\\audio\\io\\readers.py:197: UserWarning: Error in file output_videoss/segment_44.mp4, At time t=2.85-2.89 seconds, indices wanted: 62450-64443, but len(buffer)=62451\n",
      "index 62451 is out of bounds for axis 0 with size 62451\n",
      "  warnings.warn(\"Error in file %s, \"%(self.filename)+\n",
      "\n",
      "WARNING:py.warnings:C:\\Users\\91636\\anaconda3\\conda\\Lib\\site-packages\\moviepy\\audio\\io\\readers.py:197: UserWarning: Error in file output_videoss/segment_44.mp4, At time t=2.89-2.94 seconds, indices wanted: 62450-64444, but len(buffer)=62451\n",
      "index 62451 is out of bounds for axis 0 with size 62451\n",
      "  warnings.warn(\"Error in file %s, \"%(self.filename)+\n",
      "\n",
      "WARNING:py.warnings:C:\\Users\\91636\\anaconda3\\conda\\Lib\\site-packages\\moviepy\\audio\\io\\readers.py:197: UserWarning: Error in file output_videoss/segment_44.mp4, At time t=2.94-2.98 seconds, indices wanted: 62450-64443, but len(buffer)=62451\n",
      "index 62451 is out of bounds for axis 0 with size 62451\n",
      "  warnings.warn(\"Error in file %s, \"%(self.filename)+\n",
      "\n",
      "WARNING:py.warnings:C:\\Users\\91636\\anaconda3\\conda\\Lib\\site-packages\\moviepy\\audio\\io\\readers.py:197: UserWarning: Error in file output_videoss/segment_44.mp4, At time t=2.98-3.03 seconds, indices wanted: 62450-64444, but len(buffer)=62451\n",
      "index 62451 is out of bounds for axis 0 with size 62451\n",
      "  warnings.warn(\"Error in file %s, \"%(self.filename)+\n",
      "\n",
      "                                                                \r"
     ]
    },
    {
     "name": "stdout",
     "output_type": "stream",
     "text": [
      "MoviePy - Done.\n",
      "MoviePy - Building file output_videoss/segment_44.gif with imageio.\n"
     ]
    },
    {
     "name": "stderr",
     "output_type": "stream",
     "text": [
      "INFO:__main__:Cutting video segment: start_time=163.662, end_time=166.645, output_path=output_videoss/segment_45.mp4\n",
      "INFO:__main__:Video segment cut.\n"
     ]
    },
    {
     "name": "stdout",
     "output_type": "stream",
     "text": [
      "Moviepy - Running:\n",
      ">>> \"+ \" \".join(cmd)\n",
      "Moviepy - Command successful\n",
      "MoviePy - Writing audio in output_videoss/segment_45_audio.wav\n"
     ]
    },
    {
     "name": "stderr",
     "output_type": "stream",
     "text": [
      "                                                        "
     ]
    },
    {
     "name": "stdout",
     "output_type": "stream",
     "text": [
      "MoviePy - Done.\n"
     ]
    },
    {
     "name": "stderr",
     "output_type": "stream",
     "text": [
      "\r"
     ]
    },
    {
     "name": "stdout",
     "output_type": "stream",
     "text": [
      "MoviePy - Building file output_videoss/segment_45.gif with imageio.\n"
     ]
    },
    {
     "name": "stderr",
     "output_type": "stream",
     "text": [
      "INFO:__main__:Cutting video segment: start_time=167.835, end_time=169.962, output_path=output_videoss/segment_46.mp4\n",
      "INFO:__main__:Video segment cut.\n"
     ]
    },
    {
     "name": "stdout",
     "output_type": "stream",
     "text": [
      "Moviepy - Running:\n",
      ">>> \"+ \" \".join(cmd)\n",
      "Moviepy - Command successful\n",
      "MoviePy - Writing audio in output_videoss/segment_46_audio.wav\n"
     ]
    },
    {
     "name": "stderr",
     "output_type": "stream",
     "text": [
      "chunk:  37%|███▋      | 49/133 [00:00<00:01, 57.71it/s, now=None]WARNING:py.warnings:C:\\Users\\91636\\anaconda3\\conda\\Lib\\site-packages\\moviepy\\audio\\io\\readers.py:197: UserWarning: Error in file output_videoss/segment_46.mp4, At time t=2.26-2.30 seconds, indices wanted: 93439-95428, but len(buffer)=93967\n",
      "index 93967 is out of bounds for axis 0 with size 93967\n",
      "  warnings.warn(\"Error in file %s, \"%(self.filename)+\n",
      "\n",
      "WARNING:py.warnings:C:\\Users\\91636\\anaconda3\\conda\\Lib\\site-packages\\moviepy\\audio\\io\\readers.py:197: UserWarning: Error in file output_videoss/segment_46.mp4, At time t=2.30-2.35 seconds, indices wanted: 93966-95954, but len(buffer)=93967\n",
      "index 93967 is out of bounds for axis 0 with size 93967\n",
      "  warnings.warn(\"Error in file %s, \"%(self.filename)+\n",
      "\n",
      "WARNING:py.warnings:C:\\Users\\91636\\anaconda3\\conda\\Lib\\site-packages\\moviepy\\audio\\io\\readers.py:197: UserWarning: Error in file output_videoss/segment_46.mp4, At time t=2.35-2.39 seconds, indices wanted: 93966-95955, but len(buffer)=93967\n",
      "index 93967 is out of bounds for axis 0 with size 93967\n",
      "  warnings.warn(\"Error in file %s, \"%(self.filename)+\n",
      "\n",
      "chunk:  41%|████      | 54/133 [00:03<00:05, 14.12it/s, now=None]WARNING:py.warnings:C:\\Users\\91636\\anaconda3\\conda\\Lib\\site-packages\\moviepy\\audio\\io\\readers.py:197: UserWarning: Error in file output_videoss/segment_46.mp4, At time t=2.39-2.44 seconds, indices wanted: 93966-95954, but len(buffer)=93967\n",
      "index 93967 is out of bounds for axis 0 with size 93967\n",
      "  warnings.warn(\"Error in file %s, \"%(self.filename)+\n",
      "\n",
      "WARNING:py.warnings:C:\\Users\\91636\\anaconda3\\conda\\Lib\\site-packages\\moviepy\\audio\\io\\readers.py:197: UserWarning: Error in file output_videoss/segment_46.mp4, At time t=2.44-2.48 seconds, indices wanted: 93966-95955, but len(buffer)=93967\n",
      "index 93967 is out of bounds for axis 0 with size 93967\n",
      "  warnings.warn(\"Error in file %s, \"%(self.filename)+\n",
      "\n",
      "WARNING:py.warnings:C:\\Users\\91636\\anaconda3\\conda\\Lib\\site-packages\\moviepy\\audio\\io\\readers.py:197: UserWarning: Error in file output_videoss/segment_46.mp4, At time t=2.48-2.53 seconds, indices wanted: 93966-95954, but len(buffer)=93967\n",
      "index 93967 is out of bounds for axis 0 with size 93967\n",
      "  warnings.warn(\"Error in file %s, \"%(self.filename)+\n",
      "\n",
      "WARNING:py.warnings:C:\\Users\\91636\\anaconda3\\conda\\Lib\\site-packages\\moviepy\\audio\\io\\readers.py:197: UserWarning: Error in file output_videoss/segment_46.mp4, At time t=2.53-2.57 seconds, indices wanted: 93966-95955, but len(buffer)=93967\n",
      "index 93967 is out of bounds for axis 0 with size 93967\n",
      "  warnings.warn(\"Error in file %s, \"%(self.filename)+\n",
      "\n",
      "WARNING:py.warnings:C:\\Users\\91636\\anaconda3\\conda\\Lib\\site-packages\\moviepy\\audio\\io\\readers.py:197: UserWarning: Error in file output_videoss/segment_46.mp4, At time t=2.57-2.62 seconds, indices wanted: 93966-95954, but len(buffer)=93967\n",
      "index 93967 is out of bounds for axis 0 with size 93967\n",
      "  warnings.warn(\"Error in file %s, \"%(self.filename)+\n",
      "\n",
      "WARNING:py.warnings:C:\\Users\\91636\\anaconda3\\conda\\Lib\\site-packages\\moviepy\\audio\\io\\readers.py:197: UserWarning: Error in file output_videoss/segment_46.mp4, At time t=2.62-2.66 seconds, indices wanted: 93966-95954, but len(buffer)=93967\n",
      "index 93967 is out of bounds for axis 0 with size 93967\n",
      "  warnings.warn(\"Error in file %s, \"%(self.filename)+\n",
      "\n",
      "WARNING:py.warnings:C:\\Users\\91636\\anaconda3\\conda\\Lib\\site-packages\\moviepy\\audio\\io\\readers.py:197: UserWarning: Error in file output_videoss/segment_46.mp4, At time t=2.66-2.71 seconds, indices wanted: 93966-95955, but len(buffer)=93967\n",
      "index 93967 is out of bounds for axis 0 with size 93967\n",
      "  warnings.warn(\"Error in file %s, \"%(self.filename)+\n",
      "\n",
      "WARNING:py.warnings:C:\\Users\\91636\\anaconda3\\conda\\Lib\\site-packages\\moviepy\\audio\\io\\readers.py:197: UserWarning: Error in file output_videoss/segment_46.mp4, At time t=2.71-2.75 seconds, indices wanted: 93966-95954, but len(buffer)=93967\n",
      "index 93967 is out of bounds for axis 0 with size 93967\n",
      "  warnings.warn(\"Error in file %s, \"%(self.filename)+\n",
      "\n",
      "WARNING:py.warnings:C:\\Users\\91636\\anaconda3\\conda\\Lib\\site-packages\\moviepy\\audio\\io\\readers.py:197: UserWarning: Error in file output_videoss/segment_46.mp4, At time t=2.75-2.80 seconds, indices wanted: 93966-95955, but len(buffer)=93967\n",
      "index 93967 is out of bounds for axis 0 with size 93967\n",
      "  warnings.warn(\"Error in file %s, \"%(self.filename)+\n",
      "\n",
      "WARNING:py.warnings:C:\\Users\\91636\\anaconda3\\conda\\Lib\\site-packages\\moviepy\\audio\\io\\readers.py:197: UserWarning: Error in file output_videoss/segment_46.mp4, At time t=2.80-2.84 seconds, indices wanted: 93966-95954, but len(buffer)=93967\n",
      "index 93967 is out of bounds for axis 0 with size 93967\n",
      "  warnings.warn(\"Error in file %s, \"%(self.filename)+\n",
      "\n",
      "WARNING:py.warnings:C:\\Users\\91636\\anaconda3\\conda\\Lib\\site-packages\\moviepy\\audio\\io\\readers.py:197: UserWarning: Error in file output_videoss/segment_46.mp4, At time t=2.84-2.89 seconds, indices wanted: 93966-95955, but len(buffer)=93967\n",
      "index 93967 is out of bounds for axis 0 with size 93967\n",
      "  warnings.warn(\"Error in file %s, \"%(self.filename)+\n",
      "\n",
      "WARNING:py.warnings:C:\\Users\\91636\\anaconda3\\conda\\Lib\\site-packages\\moviepy\\audio\\io\\readers.py:197: UserWarning: Error in file output_videoss/segment_46.mp4, At time t=2.89-2.93 seconds, indices wanted: 93966-95954, but len(buffer)=93967\n",
      "index 93967 is out of bounds for axis 0 with size 93967\n",
      "  warnings.warn(\"Error in file %s, \"%(self.filename)+\n",
      "\n",
      "WARNING:py.warnings:C:\\Users\\91636\\anaconda3\\conda\\Lib\\site-packages\\moviepy\\audio\\io\\readers.py:197: UserWarning: Error in file output_videoss/segment_46.mp4, At time t=2.93-2.98 seconds, indices wanted: 93966-95955, but len(buffer)=93967\n",
      "index 93967 is out of bounds for axis 0 with size 93967\n",
      "  warnings.warn(\"Error in file %s, \"%(self.filename)+\n",
      "\n",
      "WARNING:py.warnings:C:\\Users\\91636\\anaconda3\\conda\\Lib\\site-packages\\moviepy\\audio\\io\\readers.py:197: UserWarning: Error in file output_videoss/segment_46.mp4, At time t=2.98-3.02 seconds, indices wanted: 93966-95954, but len(buffer)=93967\n",
      "index 93967 is out of bounds for axis 0 with size 93967\n",
      "  warnings.warn(\"Error in file %s, \"%(self.filename)+\n",
      "\n",
      "WARNING:py.warnings:C:\\Users\\91636\\anaconda3\\conda\\Lib\\site-packages\\moviepy\\audio\\io\\readers.py:197: UserWarning: Error in file output_videoss/segment_46.mp4, At time t=3.02-3.07 seconds, indices wanted: 93966-95955, but len(buffer)=93967\n",
      "index 93967 is out of bounds for axis 0 with size 93967\n",
      "  warnings.warn(\"Error in file %s, \"%(self.filename)+\n",
      "\n",
      "WARNING:py.warnings:C:\\Users\\91636\\anaconda3\\conda\\Lib\\site-packages\\moviepy\\audio\\io\\readers.py:197: UserWarning: Error in file output_videoss/segment_46.mp4, At time t=3.07-3.11 seconds, indices wanted: 93966-95954, but len(buffer)=93967\n",
      "index 93967 is out of bounds for axis 0 with size 93967\n",
      "  warnings.warn(\"Error in file %s, \"%(self.filename)+\n",
      "\n",
      "WARNING:py.warnings:C:\\Users\\91636\\anaconda3\\conda\\Lib\\site-packages\\moviepy\\audio\\io\\readers.py:197: UserWarning: Error in file output_videoss/segment_46.mp4, At time t=3.11-3.16 seconds, indices wanted: 93966-95955, but len(buffer)=93967\n",
      "index 93967 is out of bounds for axis 0 with size 93967\n",
      "  warnings.warn(\"Error in file %s, \"%(self.filename)+\n",
      "\n",
      "WARNING:py.warnings:C:\\Users\\91636\\anaconda3\\conda\\Lib\\site-packages\\moviepy\\audio\\io\\readers.py:197: UserWarning: Error in file output_videoss/segment_46.mp4, At time t=3.16-3.20 seconds, indices wanted: 93966-95954, but len(buffer)=93967\n",
      "index 93967 is out of bounds for axis 0 with size 93967\n",
      "  warnings.warn(\"Error in file %s, \"%(self.filename)+\n",
      "\n",
      "WARNING:py.warnings:C:\\Users\\91636\\anaconda3\\conda\\Lib\\site-packages\\moviepy\\audio\\io\\readers.py:197: UserWarning: Error in file output_videoss/segment_46.mp4, At time t=3.20-3.25 seconds, indices wanted: 93966-95955, but len(buffer)=93967\n",
      "index 93967 is out of bounds for axis 0 with size 93967\n",
      "  warnings.warn(\"Error in file %s, \"%(self.filename)+\n",
      "\n",
      "WARNING:py.warnings:C:\\Users\\91636\\anaconda3\\conda\\Lib\\site-packages\\moviepy\\audio\\io\\readers.py:197: UserWarning: Error in file output_videoss/segment_46.mp4, At time t=3.25-3.29 seconds, indices wanted: 93966-95954, but len(buffer)=93967\n",
      "index 93967 is out of bounds for axis 0 with size 93967\n",
      "  warnings.warn(\"Error in file %s, \"%(self.filename)+\n",
      "\n",
      "WARNING:py.warnings:C:\\Users\\91636\\anaconda3\\conda\\Lib\\site-packages\\moviepy\\audio\\io\\readers.py:197: UserWarning: Error in file output_videoss/segment_46.mp4, At time t=3.29-3.34 seconds, indices wanted: 93966-95955, but len(buffer)=93967\n",
      "index 93967 is out of bounds for axis 0 with size 93967\n",
      "  warnings.warn(\"Error in file %s, \"%(self.filename)+\n",
      "\n",
      "WARNING:py.warnings:C:\\Users\\91636\\anaconda3\\conda\\Lib\\site-packages\\moviepy\\audio\\io\\readers.py:197: UserWarning: Error in file output_videoss/segment_46.mp4, At time t=3.34-3.38 seconds, indices wanted: 93966-95954, but len(buffer)=93967\n",
      "index 93967 is out of bounds for axis 0 with size 93967\n",
      "  warnings.warn(\"Error in file %s, \"%(self.filename)+\n",
      "\n",
      "WARNING:py.warnings:C:\\Users\\91636\\anaconda3\\conda\\Lib\\site-packages\\moviepy\\audio\\io\\readers.py:197: UserWarning: Error in file output_videoss/segment_46.mp4, At time t=3.38-3.43 seconds, indices wanted: 93966-95955, but len(buffer)=93967\n",
      "index 93967 is out of bounds for axis 0 with size 93967\n",
      "  warnings.warn(\"Error in file %s, \"%(self.filename)+\n",
      "\n",
      "WARNING:py.warnings:C:\\Users\\91636\\anaconda3\\conda\\Lib\\site-packages\\moviepy\\audio\\io\\readers.py:197: UserWarning: Error in file output_videoss/segment_46.mp4, At time t=3.43-3.47 seconds, indices wanted: 93966-95954, but len(buffer)=93967\n",
      "index 93967 is out of bounds for axis 0 with size 93967\n",
      "  warnings.warn(\"Error in file %s, \"%(self.filename)+\n",
      "\n",
      "chunk:  59%|█████▊    | 78/133 [00:03<00:02, 25.27it/s, now=None]WARNING:py.warnings:C:\\Users\\91636\\anaconda3\\conda\\Lib\\site-packages\\moviepy\\audio\\io\\readers.py:197: UserWarning: Error in file output_videoss/segment_46.mp4, At time t=3.47-3.52 seconds, indices wanted: 93966-95954, but len(buffer)=93967\n",
      "index 93967 is out of bounds for axis 0 with size 93967\n",
      "  warnings.warn(\"Error in file %s, \"%(self.filename)+\n",
      "\n",
      "WARNING:py.warnings:C:\\Users\\91636\\anaconda3\\conda\\Lib\\site-packages\\moviepy\\audio\\io\\readers.py:197: UserWarning: Error in file output_videoss/segment_46.mp4, At time t=3.52-3.56 seconds, indices wanted: 93966-95955, but len(buffer)=93967\n",
      "index 93967 is out of bounds for axis 0 with size 93967\n",
      "  warnings.warn(\"Error in file %s, \"%(self.filename)+\n",
      "\n",
      "WARNING:py.warnings:C:\\Users\\91636\\anaconda3\\conda\\Lib\\site-packages\\moviepy\\audio\\io\\readers.py:197: UserWarning: Error in file output_videoss/segment_46.mp4, At time t=3.56-3.61 seconds, indices wanted: 93966-95954, but len(buffer)=93967\n",
      "index 93967 is out of bounds for axis 0 with size 93967\n",
      "  warnings.warn(\"Error in file %s, \"%(self.filename)+\n",
      "\n",
      "WARNING:py.warnings:C:\\Users\\91636\\anaconda3\\conda\\Lib\\site-packages\\moviepy\\audio\\io\\readers.py:197: UserWarning: Error in file output_videoss/segment_46.mp4, At time t=3.61-3.65 seconds, indices wanted: 93966-95955, but len(buffer)=93967\n",
      "index 93967 is out of bounds for axis 0 with size 93967\n",
      "  warnings.warn(\"Error in file %s, \"%(self.filename)+\n",
      "\n",
      "WARNING:py.warnings:C:\\Users\\91636\\anaconda3\\conda\\Lib\\site-packages\\moviepy\\audio\\io\\readers.py:197: UserWarning: Error in file output_videoss/segment_46.mp4, At time t=3.65-3.70 seconds, indices wanted: 93966-95954, but len(buffer)=93967\n",
      "index 93967 is out of bounds for axis 0 with size 93967\n",
      "  warnings.warn(\"Error in file %s, \"%(self.filename)+\n",
      "\n",
      "WARNING:py.warnings:C:\\Users\\91636\\anaconda3\\conda\\Lib\\site-packages\\moviepy\\audio\\io\\readers.py:197: UserWarning: Error in file output_videoss/segment_46.mp4, At time t=3.70-3.74 seconds, indices wanted: 93966-95955, but len(buffer)=93967\n",
      "index 93967 is out of bounds for axis 0 with size 93967\n",
      "  warnings.warn(\"Error in file %s, \"%(self.filename)+\n",
      "\n",
      "WARNING:py.warnings:C:\\Users\\91636\\anaconda3\\conda\\Lib\\site-packages\\moviepy\\audio\\io\\readers.py:197: UserWarning: Error in file output_videoss/segment_46.mp4, At time t=3.74-3.79 seconds, indices wanted: 93966-95954, but len(buffer)=93967\n",
      "index 93967 is out of bounds for axis 0 with size 93967\n",
      "  warnings.warn(\"Error in file %s, \"%(self.filename)+\n",
      "\n",
      "WARNING:py.warnings:C:\\Users\\91636\\anaconda3\\conda\\Lib\\site-packages\\moviepy\\audio\\io\\readers.py:197: UserWarning: Error in file output_videoss/segment_46.mp4, At time t=3.79-3.83 seconds, indices wanted: 93966-95955, but len(buffer)=93967\n",
      "index 93967 is out of bounds for axis 0 with size 93967\n",
      "  warnings.warn(\"Error in file %s, \"%(self.filename)+\n",
      "\n",
      "WARNING:py.warnings:C:\\Users\\91636\\anaconda3\\conda\\Lib\\site-packages\\moviepy\\audio\\io\\readers.py:197: UserWarning: Error in file output_videoss/segment_46.mp4, At time t=3.83-3.88 seconds, indices wanted: 93966-95954, but len(buffer)=93967\n",
      "index 93967 is out of bounds for axis 0 with size 93967\n",
      "  warnings.warn(\"Error in file %s, \"%(self.filename)+\n",
      "\n",
      "WARNING:py.warnings:C:\\Users\\91636\\anaconda3\\conda\\Lib\\site-packages\\moviepy\\audio\\io\\readers.py:197: UserWarning: Error in file output_videoss/segment_46.mp4, At time t=3.88-3.92 seconds, indices wanted: 93966-95955, but len(buffer)=93967\n",
      "index 93967 is out of bounds for axis 0 with size 93967\n",
      "  warnings.warn(\"Error in file %s, \"%(self.filename)+\n",
      "\n",
      "WARNING:py.warnings:C:\\Users\\91636\\anaconda3\\conda\\Lib\\site-packages\\moviepy\\audio\\io\\readers.py:197: UserWarning: Error in file output_videoss/segment_46.mp4, At time t=3.92-3.97 seconds, indices wanted: 93966-95954, but len(buffer)=93967\n",
      "index 93967 is out of bounds for axis 0 with size 93967\n",
      "  warnings.warn(\"Error in file %s, \"%(self.filename)+\n",
      "\n",
      "WARNING:py.warnings:C:\\Users\\91636\\anaconda3\\conda\\Lib\\site-packages\\moviepy\\audio\\io\\readers.py:197: UserWarning: Error in file output_videoss/segment_46.mp4, At time t=3.97-4.02 seconds, indices wanted: 93966-95955, but len(buffer)=93967\n",
      "index 93967 is out of bounds for axis 0 with size 93967\n",
      "  warnings.warn(\"Error in file %s, \"%(self.filename)+\n",
      "\n",
      "WARNING:py.warnings:C:\\Users\\91636\\anaconda3\\conda\\Lib\\site-packages\\moviepy\\audio\\io\\readers.py:197: UserWarning: Error in file output_videoss/segment_46.mp4, At time t=4.02-4.06 seconds, indices wanted: 93966-95954, but len(buffer)=93967\n",
      "index 93967 is out of bounds for axis 0 with size 93967\n",
      "  warnings.warn(\"Error in file %s, \"%(self.filename)+\n",
      "\n",
      "WARNING:py.warnings:C:\\Users\\91636\\anaconda3\\conda\\Lib\\site-packages\\moviepy\\audio\\io\\readers.py:197: UserWarning: Error in file output_videoss/segment_46.mp4, At time t=4.06-4.11 seconds, indices wanted: 93966-95955, but len(buffer)=93967\n",
      "index 93967 is out of bounds for axis 0 with size 93967\n",
      "  warnings.warn(\"Error in file %s, \"%(self.filename)+\n",
      "\n",
      "WARNING:py.warnings:C:\\Users\\91636\\anaconda3\\conda\\Lib\\site-packages\\moviepy\\audio\\io\\readers.py:197: UserWarning: Error in file output_videoss/segment_46.mp4, At time t=4.11-4.15 seconds, indices wanted: 93966-95954, but len(buffer)=93967\n",
      "index 93967 is out of bounds for axis 0 with size 93967\n",
      "  warnings.warn(\"Error in file %s, \"%(self.filename)+\n",
      "\n",
      "WARNING:py.warnings:C:\\Users\\91636\\anaconda3\\conda\\Lib\\site-packages\\moviepy\\audio\\io\\readers.py:197: UserWarning: Error in file output_videoss/segment_46.mp4, At time t=4.15-4.20 seconds, indices wanted: 93966-95955, but len(buffer)=93967\n",
      "index 93967 is out of bounds for axis 0 with size 93967\n",
      "  warnings.warn(\"Error in file %s, \"%(self.filename)+\n",
      "\n",
      "WARNING:py.warnings:C:\\Users\\91636\\anaconda3\\conda\\Lib\\site-packages\\moviepy\\audio\\io\\readers.py:197: UserWarning: Error in file output_videoss/segment_46.mp4, At time t=4.20-4.24 seconds, indices wanted: 93966-95954, but len(buffer)=93967\n",
      "index 93967 is out of bounds for axis 0 with size 93967\n",
      "  warnings.warn(\"Error in file %s, \"%(self.filename)+\n",
      "\n",
      "WARNING:py.warnings:C:\\Users\\91636\\anaconda3\\conda\\Lib\\site-packages\\moviepy\\audio\\io\\readers.py:197: UserWarning: Error in file output_videoss/segment_46.mp4, At time t=4.24-4.29 seconds, indices wanted: 93966-95955, but len(buffer)=93967\n",
      "index 93967 is out of bounds for axis 0 with size 93967\n",
      "  warnings.warn(\"Error in file %s, \"%(self.filename)+\n",
      "\n",
      "WARNING:py.warnings:C:\\Users\\91636\\anaconda3\\conda\\Lib\\site-packages\\moviepy\\audio\\io\\readers.py:197: UserWarning: Error in file output_videoss/segment_46.mp4, At time t=4.29-4.33 seconds, indices wanted: 93966-95954, but len(buffer)=93967\n",
      "index 93967 is out of bounds for axis 0 with size 93967\n",
      "  warnings.warn(\"Error in file %s, \"%(self.filename)+\n",
      "\n",
      "WARNING:py.warnings:C:\\Users\\91636\\anaconda3\\conda\\Lib\\site-packages\\moviepy\\audio\\io\\readers.py:197: UserWarning: Error in file output_videoss/segment_46.mp4, At time t=4.33-4.38 seconds, indices wanted: 93966-95954, but len(buffer)=93967\n",
      "index 93967 is out of bounds for axis 0 with size 93967\n",
      "  warnings.warn(\"Error in file %s, \"%(self.filename)+\n",
      "\n",
      "WARNING:py.warnings:C:\\Users\\91636\\anaconda3\\conda\\Lib\\site-packages\\moviepy\\audio\\io\\readers.py:197: UserWarning: Error in file output_videoss/segment_46.mp4, At time t=4.38-4.42 seconds, indices wanted: 93966-95955, but len(buffer)=93967\n",
      "index 93967 is out of bounds for axis 0 with size 93967\n",
      "  warnings.warn(\"Error in file %s, \"%(self.filename)+\n",
      "\n",
      "WARNING:py.warnings:C:\\Users\\91636\\anaconda3\\conda\\Lib\\site-packages\\moviepy\\audio\\io\\readers.py:197: UserWarning: Error in file output_videoss/segment_46.mp4, At time t=4.42-4.47 seconds, indices wanted: 93966-95954, but len(buffer)=93967\n",
      "index 93967 is out of bounds for axis 0 with size 93967\n",
      "  warnings.warn(\"Error in file %s, \"%(self.filename)+\n",
      "\n",
      "WARNING:py.warnings:C:\\Users\\91636\\anaconda3\\conda\\Lib\\site-packages\\moviepy\\audio\\io\\readers.py:197: UserWarning: Error in file output_videoss/segment_46.mp4, At time t=4.47-4.51 seconds, indices wanted: 93966-95955, but len(buffer)=93967\n",
      "index 93967 is out of bounds for axis 0 with size 93967\n",
      "  warnings.warn(\"Error in file %s, \"%(self.filename)+\n",
      "\n",
      "WARNING:py.warnings:C:\\Users\\91636\\anaconda3\\conda\\Lib\\site-packages\\moviepy\\audio\\io\\readers.py:197: UserWarning: Error in file output_videoss/segment_46.mp4, At time t=4.51-4.56 seconds, indices wanted: 93966-95954, but len(buffer)=93967\n",
      "index 93967 is out of bounds for axis 0 with size 93967\n",
      "  warnings.warn(\"Error in file %s, \"%(self.filename)+\n",
      "\n",
      "chunk:  77%|███████▋  | 102/133 [00:03<00:00, 39.43it/s, now=None]WARNING:py.warnings:C:\\Users\\91636\\anaconda3\\conda\\Lib\\site-packages\\moviepy\\audio\\io\\readers.py:197: UserWarning: Error in file output_videoss/segment_46.mp4, At time t=4.56-4.60 seconds, indices wanted: 93966-95955, but len(buffer)=93967\n",
      "index 93967 is out of bounds for axis 0 with size 93967\n",
      "  warnings.warn(\"Error in file %s, \"%(self.filename)+\n",
      "\n",
      "WARNING:py.warnings:C:\\Users\\91636\\anaconda3\\conda\\Lib\\site-packages\\moviepy\\audio\\io\\readers.py:197: UserWarning: Error in file output_videoss/segment_46.mp4, At time t=4.60-4.65 seconds, indices wanted: 93966-95954, but len(buffer)=93967\n",
      "index 93967 is out of bounds for axis 0 with size 93967\n",
      "  warnings.warn(\"Error in file %s, \"%(self.filename)+\n",
      "\n",
      "WARNING:py.warnings:C:\\Users\\91636\\anaconda3\\conda\\Lib\\site-packages\\moviepy\\audio\\io\\readers.py:197: UserWarning: Error in file output_videoss/segment_46.mp4, At time t=4.65-4.69 seconds, indices wanted: 93966-95955, but len(buffer)=93967\n",
      "index 93967 is out of bounds for axis 0 with size 93967\n",
      "  warnings.warn(\"Error in file %s, \"%(self.filename)+\n",
      "\n",
      "WARNING:py.warnings:C:\\Users\\91636\\anaconda3\\conda\\Lib\\site-packages\\moviepy\\audio\\io\\readers.py:197: UserWarning: Error in file output_videoss/segment_46.mp4, At time t=4.69-4.74 seconds, indices wanted: 93966-95954, but len(buffer)=93967\n",
      "index 93967 is out of bounds for axis 0 with size 93967\n",
      "  warnings.warn(\"Error in file %s, \"%(self.filename)+\n",
      "\n",
      "WARNING:py.warnings:C:\\Users\\91636\\anaconda3\\conda\\Lib\\site-packages\\moviepy\\audio\\io\\readers.py:197: UserWarning: Error in file output_videoss/segment_46.mp4, At time t=4.74-4.78 seconds, indices wanted: 93966-95955, but len(buffer)=93967\n",
      "index 93967 is out of bounds for axis 0 with size 93967\n",
      "  warnings.warn(\"Error in file %s, \"%(self.filename)+\n",
      "\n",
      "WARNING:py.warnings:C:\\Users\\91636\\anaconda3\\conda\\Lib\\site-packages\\moviepy\\audio\\io\\readers.py:197: UserWarning: Error in file output_videoss/segment_46.mp4, At time t=4.78-4.83 seconds, indices wanted: 93966-95954, but len(buffer)=93967\n",
      "index 93967 is out of bounds for axis 0 with size 93967\n",
      "  warnings.warn(\"Error in file %s, \"%(self.filename)+\n",
      "\n",
      "WARNING:py.warnings:C:\\Users\\91636\\anaconda3\\conda\\Lib\\site-packages\\moviepy\\audio\\io\\readers.py:197: UserWarning: Error in file output_videoss/segment_46.mp4, At time t=4.83-4.87 seconds, indices wanted: 93966-95955, but len(buffer)=93967\n",
      "index 93967 is out of bounds for axis 0 with size 93967\n",
      "  warnings.warn(\"Error in file %s, \"%(self.filename)+\n",
      "\n",
      "WARNING:py.warnings:C:\\Users\\91636\\anaconda3\\conda\\Lib\\site-packages\\moviepy\\audio\\io\\readers.py:197: UserWarning: Error in file output_videoss/segment_46.mp4, At time t=4.87-4.92 seconds, indices wanted: 93966-95954, but len(buffer)=93967\n",
      "index 93967 is out of bounds for axis 0 with size 93967\n",
      "  warnings.warn(\"Error in file %s, \"%(self.filename)+\n",
      "\n",
      "WARNING:py.warnings:C:\\Users\\91636\\anaconda3\\conda\\Lib\\site-packages\\moviepy\\audio\\io\\readers.py:197: UserWarning: Error in file output_videoss/segment_46.mp4, At time t=4.92-4.96 seconds, indices wanted: 93966-95955, but len(buffer)=93967\n",
      "index 93967 is out of bounds for axis 0 with size 93967\n",
      "  warnings.warn(\"Error in file %s, \"%(self.filename)+\n",
      "\n",
      "WARNING:py.warnings:C:\\Users\\91636\\anaconda3\\conda\\Lib\\site-packages\\moviepy\\audio\\io\\readers.py:197: UserWarning: Error in file output_videoss/segment_46.mp4, At time t=4.96-5.01 seconds, indices wanted: 93966-95954, but len(buffer)=93967\n",
      "index 93967 is out of bounds for axis 0 with size 93967\n",
      "  warnings.warn(\"Error in file %s, \"%(self.filename)+\n",
      "\n",
      "WARNING:py.warnings:C:\\Users\\91636\\anaconda3\\conda\\Lib\\site-packages\\moviepy\\audio\\io\\readers.py:197: UserWarning: Error in file output_videoss/segment_46.mp4, At time t=5.01-5.05 seconds, indices wanted: 93966-95955, but len(buffer)=93967\n",
      "index 93967 is out of bounds for axis 0 with size 93967\n",
      "  warnings.warn(\"Error in file %s, \"%(self.filename)+\n",
      "\n",
      "WARNING:py.warnings:C:\\Users\\91636\\anaconda3\\conda\\Lib\\site-packages\\moviepy\\audio\\io\\readers.py:197: UserWarning: Error in file output_videoss/segment_46.mp4, At time t=5.05-5.10 seconds, indices wanted: 93966-95954, but len(buffer)=93967\n",
      "index 93967 is out of bounds for axis 0 with size 93967\n",
      "  warnings.warn(\"Error in file %s, \"%(self.filename)+\n",
      "\n",
      "WARNING:py.warnings:C:\\Users\\91636\\anaconda3\\conda\\Lib\\site-packages\\moviepy\\audio\\io\\readers.py:197: UserWarning: Error in file output_videoss/segment_46.mp4, At time t=5.10-5.14 seconds, indices wanted: 93966-95955, but len(buffer)=93967\n",
      "index 93967 is out of bounds for axis 0 with size 93967\n",
      "  warnings.warn(\"Error in file %s, \"%(self.filename)+\n",
      "\n",
      "WARNING:py.warnings:C:\\Users\\91636\\anaconda3\\conda\\Lib\\site-packages\\moviepy\\audio\\io\\readers.py:197: UserWarning: Error in file output_videoss/segment_46.mp4, At time t=5.14-5.19 seconds, indices wanted: 93966-95954, but len(buffer)=93967\n",
      "index 93967 is out of bounds for axis 0 with size 93967\n",
      "  warnings.warn(\"Error in file %s, \"%(self.filename)+\n",
      "\n",
      "WARNING:py.warnings:C:\\Users\\91636\\anaconda3\\conda\\Lib\\site-packages\\moviepy\\audio\\io\\readers.py:197: UserWarning: Error in file output_videoss/segment_46.mp4, At time t=5.19-5.23 seconds, indices wanted: 93966-95954, but len(buffer)=93967\n",
      "index 93967 is out of bounds for axis 0 with size 93967\n",
      "  warnings.warn(\"Error in file %s, \"%(self.filename)+\n",
      "\n",
      "WARNING:py.warnings:C:\\Users\\91636\\anaconda3\\conda\\Lib\\site-packages\\moviepy\\audio\\io\\readers.py:197: UserWarning: Error in file output_videoss/segment_46.mp4, At time t=5.23-5.28 seconds, indices wanted: 93966-95955, but len(buffer)=93967\n",
      "index 93967 is out of bounds for axis 0 with size 93967\n",
      "  warnings.warn(\"Error in file %s, \"%(self.filename)+\n",
      "\n",
      "WARNING:py.warnings:C:\\Users\\91636\\anaconda3\\conda\\Lib\\site-packages\\moviepy\\audio\\io\\readers.py:197: UserWarning: Error in file output_videoss/segment_46.mp4, At time t=5.28-5.32 seconds, indices wanted: 93966-95954, but len(buffer)=93967\n",
      "index 93967 is out of bounds for axis 0 with size 93967\n",
      "  warnings.warn(\"Error in file %s, \"%(self.filename)+\n",
      "\n",
      "WARNING:py.warnings:C:\\Users\\91636\\anaconda3\\conda\\Lib\\site-packages\\moviepy\\audio\\io\\readers.py:197: UserWarning: Error in file output_videoss/segment_46.mp4, At time t=5.32-5.37 seconds, indices wanted: 93966-95955, but len(buffer)=93967\n",
      "index 93967 is out of bounds for axis 0 with size 93967\n",
      "  warnings.warn(\"Error in file %s, \"%(self.filename)+\n",
      "\n",
      "WARNING:py.warnings:C:\\Users\\91636\\anaconda3\\conda\\Lib\\site-packages\\moviepy\\audio\\io\\readers.py:197: UserWarning: Error in file output_videoss/segment_46.mp4, At time t=5.37-5.41 seconds, indices wanted: 93966-95954, but len(buffer)=93967\n",
      "index 93967 is out of bounds for axis 0 with size 93967\n",
      "  warnings.warn(\"Error in file %s, \"%(self.filename)+\n",
      "\n",
      "WARNING:py.warnings:C:\\Users\\91636\\anaconda3\\conda\\Lib\\site-packages\\moviepy\\audio\\io\\readers.py:197: UserWarning: Error in file output_videoss/segment_46.mp4, At time t=5.41-5.46 seconds, indices wanted: 93966-95955, but len(buffer)=93967\n",
      "index 93967 is out of bounds for axis 0 with size 93967\n",
      "  warnings.warn(\"Error in file %s, \"%(self.filename)+\n",
      "\n",
      "WARNING:py.warnings:C:\\Users\\91636\\anaconda3\\conda\\Lib\\site-packages\\moviepy\\audio\\io\\readers.py:197: UserWarning: Error in file output_videoss/segment_46.mp4, At time t=5.46-5.50 seconds, indices wanted: 93966-95954, but len(buffer)=93967\n",
      "index 93967 is out of bounds for axis 0 with size 93967\n",
      "  warnings.warn(\"Error in file %s, \"%(self.filename)+\n",
      "\n",
      "chunk:  92%|█████████▏| 123/133 [00:03<00:00, 54.12it/s, now=None]WARNING:py.warnings:C:\\Users\\91636\\anaconda3\\conda\\Lib\\site-packages\\moviepy\\audio\\io\\readers.py:197: UserWarning: Error in file output_videoss/segment_46.mp4, At time t=5.50-5.55 seconds, indices wanted: 93966-95955, but len(buffer)=93967\n",
      "index 93967 is out of bounds for axis 0 with size 93967\n",
      "  warnings.warn(\"Error in file %s, \"%(self.filename)+\n",
      "\n",
      "WARNING:py.warnings:C:\\Users\\91636\\anaconda3\\conda\\Lib\\site-packages\\moviepy\\audio\\io\\readers.py:197: UserWarning: Error in file output_videoss/segment_46.mp4, At time t=5.55-5.59 seconds, indices wanted: 93966-95954, but len(buffer)=93967\n",
      "index 93967 is out of bounds for axis 0 with size 93967\n",
      "  warnings.warn(\"Error in file %s, \"%(self.filename)+\n",
      "\n",
      "WARNING:py.warnings:C:\\Users\\91636\\anaconda3\\conda\\Lib\\site-packages\\moviepy\\audio\\io\\readers.py:197: UserWarning: Error in file output_videoss/segment_46.mp4, At time t=5.59-5.64 seconds, indices wanted: 93966-95955, but len(buffer)=93967\n",
      "index 93967 is out of bounds for axis 0 with size 93967\n",
      "  warnings.warn(\"Error in file %s, \"%(self.filename)+\n",
      "\n",
      "WARNING:py.warnings:C:\\Users\\91636\\anaconda3\\conda\\Lib\\site-packages\\moviepy\\audio\\io\\readers.py:197: UserWarning: Error in file output_videoss/segment_46.mp4, At time t=5.64-5.68 seconds, indices wanted: 93966-95954, but len(buffer)=93967\n",
      "index 93967 is out of bounds for axis 0 with size 93967\n",
      "  warnings.warn(\"Error in file %s, \"%(self.filename)+\n",
      "\n",
      "WARNING:py.warnings:C:\\Users\\91636\\anaconda3\\conda\\Lib\\site-packages\\moviepy\\audio\\io\\readers.py:197: UserWarning: Error in file output_videoss/segment_46.mp4, At time t=5.68-5.73 seconds, indices wanted: 93966-95955, but len(buffer)=93967\n",
      "index 93967 is out of bounds for axis 0 with size 93967\n",
      "  warnings.warn(\"Error in file %s, \"%(self.filename)+\n",
      "\n",
      "WARNING:py.warnings:C:\\Users\\91636\\anaconda3\\conda\\Lib\\site-packages\\moviepy\\audio\\io\\readers.py:197: UserWarning: Error in file output_videoss/segment_46.mp4, At time t=5.73-5.77 seconds, indices wanted: 93966-95954, but len(buffer)=93967\n",
      "index 93967 is out of bounds for axis 0 with size 93967\n",
      "  warnings.warn(\"Error in file %s, \"%(self.filename)+\n",
      "\n",
      "WARNING:py.warnings:C:\\Users\\91636\\anaconda3\\conda\\Lib\\site-packages\\moviepy\\audio\\io\\readers.py:197: UserWarning: Error in file output_videoss/segment_46.mp4, At time t=5.77-5.82 seconds, indices wanted: 93966-95955, but len(buffer)=93967\n",
      "index 93967 is out of bounds for axis 0 with size 93967\n",
      "  warnings.warn(\"Error in file %s, \"%(self.filename)+\n",
      "\n",
      "WARNING:py.warnings:C:\\Users\\91636\\anaconda3\\conda\\Lib\\site-packages\\moviepy\\audio\\io\\readers.py:197: UserWarning: Error in file output_videoss/segment_46.mp4, At time t=5.82-5.86 seconds, indices wanted: 93966-95954, but len(buffer)=93967\n",
      "index 93967 is out of bounds for axis 0 with size 93967\n",
      "  warnings.warn(\"Error in file %s, \"%(self.filename)+\n",
      "\n",
      "WARNING:py.warnings:C:\\Users\\91636\\anaconda3\\conda\\Lib\\site-packages\\moviepy\\audio\\io\\readers.py:197: UserWarning: Error in file output_videoss/segment_46.mp4, At time t=5.86-5.91 seconds, indices wanted: 93966-95955, but len(buffer)=93967\n",
      "index 93967 is out of bounds for axis 0 with size 93967\n",
      "  warnings.warn(\"Error in file %s, \"%(self.filename)+\n",
      "\n",
      "WARNING:py.warnings:C:\\Users\\91636\\anaconda3\\conda\\Lib\\site-packages\\moviepy\\audio\\io\\readers.py:197: UserWarning: Error in file output_videoss/segment_46.mp4, At time t=5.91-5.95 seconds, indices wanted: 93966-95954, but len(buffer)=93967\n",
      "index 93967 is out of bounds for axis 0 with size 93967\n",
      "  warnings.warn(\"Error in file %s, \"%(self.filename)+\n",
      "\n",
      "WARNING:py.warnings:C:\\Users\\91636\\anaconda3\\conda\\Lib\\site-packages\\moviepy\\audio\\io\\readers.py:197: UserWarning: Error in file output_videoss/segment_46.mp4, At time t=5.95-6.00 seconds, indices wanted: 93966-95955, but len(buffer)=93967\n",
      "index 93967 is out of bounds for axis 0 with size 93967\n",
      "  warnings.warn(\"Error in file %s, \"%(self.filename)+\n",
      "\n",
      "                                                                  \r"
     ]
    },
    {
     "name": "stdout",
     "output_type": "stream",
     "text": [
      "MoviePy - Done.\n",
      "MoviePy - Building file output_videoss/segment_46.gif with imageio.\n"
     ]
    },
    {
     "name": "stderr",
     "output_type": "stream",
     "text": [
      "INFO:__main__:Cutting video segment: start_time=170.885, end_time=173.832, output_path=output_videoss/segment_47.mp4\n",
      "INFO:__main__:Video segment cut.\n"
     ]
    },
    {
     "name": "stdout",
     "output_type": "stream",
     "text": [
      "Moviepy - Running:\n",
      ">>> \"+ \" \".join(cmd)\n",
      "Moviepy - Command successful\n",
      "MoviePy - Writing audio in output_videoss/segment_47_audio.wav\n"
     ]
    },
    {
     "name": "stderr",
     "output_type": "stream",
     "text": [
      "                                                        "
     ]
    },
    {
     "name": "stdout",
     "output_type": "stream",
     "text": [
      "MoviePy - Done.\n"
     ]
    },
    {
     "name": "stderr",
     "output_type": "stream",
     "text": [
      "\r"
     ]
    },
    {
     "name": "stdout",
     "output_type": "stream",
     "text": [
      "MoviePy - Building file output_videoss/segment_47.gif with imageio.\n"
     ]
    },
    {
     "name": "stderr",
     "output_type": "stream",
     "text": [
      "INFO:__main__:Cutting video segment: start_time=177.179, end_time=177.197, output_path=output_videoss/segment_48.mp4\n",
      "INFO:__main__:Video segment cut.\n"
     ]
    },
    {
     "name": "stdout",
     "output_type": "stream",
     "text": [
      "Moviepy - Running:\n",
      ">>> \"+ \" \".join(cmd)\n",
      "Moviepy - Command successful\n"
     ]
    },
    {
     "name": "stderr",
     "output_type": "stream",
     "text": [
      "WARNING:py.warnings:C:\\Users\\91636\\anaconda3\\conda\\Lib\\site-packages\\moviepy\\video\\io\\ffmpeg_reader.py:123: UserWarning: Warning: in file output_videoss/segment_48.mp4, 5391360 bytes wanted but 0 bytes read,at frame 1/37, at time 0.03/1.22 sec. Using the last valid frame instead.\n",
      "  warnings.warn(\"Warning: in file %s, \"%(self.filename)+\n",
      "\n",
      "ERROR:__main__:Error converting video to audio: MoviePy error: failed to read the first frame of video file output_videoss/segment_48.mp4. That might mean that the file is corrupted. That may also mean that you are using a deprecated version of FFMPEG. On Ubuntu/Debian for instance the version in the repos is deprecated. Please update to a recent version from the website.\n",
      "ERROR:__main__:Error transcribing audio: Failed to load audio: ffmpeg version N-115847-gab8f7030bc-20240617 Copyright (c) 2000-2024 the FFmpeg developers\n",
      "  built with gcc 13.2.0 (crosstool-NG 1.26.0.65_ecc5e41)\n",
      "  configuration: --prefix=/ffbuild/prefix --pkg-config-flags=--static --pkg-config=pkg-config --cross-prefix=x86_64-w64-mingw32- --arch=x86_64 --target-os=mingw32 --enable-gpl --enable-version3 --disable-debug --enable-shared --disable-static --disable-w32threads --enable-pthreads --enable-iconv --enable-libxml2 --enable-zlib --enable-libfreetype --enable-libfribidi --enable-gmp --enable-fontconfig --enable-libharfbuzz --enable-libvorbis --enable-opencl --disable-libpulse --enable-libvmaf --disable-libxcb --disable-xlib --enable-amf --enable-libaom --enable-libaribb24 --enable-avisynth --enable-chromaprint --enable-libdav1d --enable-libdavs2 --enable-libdvdread --enable-libdvdnav --disable-libfdk-aac --enable-ffnvcodec --enable-cuda-llvm --enable-frei0r --enable-libgme --enable-libkvazaar --enable-libaribcaption --enable-libass --enable-libbluray --enable-libjxl --enable-libmp3lame --enable-libopus --enable-librist --enable-libssh --enable-libtheora --enable-libvpx --enable-libwebp --enable-lv2 --enable-libvpl --enable-openal --enable-libopencore-amrnb --enable-libopencore-amrwb --enable-libopenh264 --enable-libopenjpeg --enable-libopenmpt --enable-librav1e --enable-librubberband --enable-schannel --enable-sdl2 --enable-libsoxr --enable-libsrt --enable-libsvtav1 --enable-libtwolame --enable-libuavs3d --disable-libdrm --enable-vaapi --enable-libvidstab --enable-vulkan --enable-libshaderc --enable-libplacebo --enable-libx264 --enable-libx265 --enable-libxavs2 --enable-libxvid --enable-libzimg --enable-libzvbi --extra-cflags=-DLIBTWOLAME_STATIC --extra-cxxflags= --extra-libs=-lgomp --extra-ldflags=-pthread --extra-ldexeflags= --cc=x86_64-w64-mingw32-gcc --cxx=x86_64-w64-mingw32-g++ --ar=x86_64-w64-mingw32-gcc-ar --ranlib=x86_64-w64-mingw32-gcc-ranlib --nm=x86_64-w64-mingw32-gcc-nm --extra-version=20240617\n",
      "  libavutil      59. 22.100 / 59. 22.100\n",
      "  libavcodec     61.  8.100 / 61.  8.100\n",
      "  libavformat    61.  3.104 / 61.  3.104\n",
      "  libavdevice    61.  2.100 / 61.  2.100\n",
      "  libavfilter    10.  2.102 / 10.  2.102\n",
      "  libswscale      8.  2.100 /  8.  2.100\n",
      "  libswresample   5.  2.100 /  5.  2.100\n",
      "  libpostproc    58.  2.100 / 58.  2.100\n",
      "[in#0 @ 0000024f5a9bf000] Error opening input: No such file or directory\n",
      "Error opening input file output_videoss/segment_48_audio.wav.\n",
      "Error opening input files: No such file or directory\n",
      "\n",
      "ERROR:__main__:Error converting video to GIF: 'video_fps'\n",
      "ERROR:__main__:Error removing intermediate files: [WinError 2] The system cannot find the file specified: 'output_videoss/segment_48_audio.wav'\n",
      "INFO:__main__:Cutting video segment: start_time=178.113, end_time=178.649, output_path=output_videoss/segment_49.mp4\n",
      "INFO:__main__:Video segment cut.\n"
     ]
    },
    {
     "name": "stdout",
     "output_type": "stream",
     "text": [
      "Moviepy - Running:\n",
      ">>> \"+ \" \".join(cmd)\n",
      "Moviepy - Command successful\n",
      "MoviePy - Writing audio in output_videoss/segment_49_audio.wav\n"
     ]
    },
    {
     "name": "stderr",
     "output_type": "stream",
     "text": [
      "chunk:   0%|          | 0/59 [00:00<?, ?it/s, now=None]WARNING:py.warnings:C:\\Users\\91636\\anaconda3\\conda\\Lib\\site-packages\\moviepy\\audio\\io\\readers.py:197: UserWarning: Error in file output_videoss/segment_49.mp4, At time t=0.00-0.05 seconds, indices wanted: -34910--32916, but len(buffer)=23965\n",
      "index -34910 is out of bounds for axis 0 with size 23965\n",
      "  warnings.warn(\"Error in file %s, \"%(self.filename)+\n",
      "\n",
      "ERROR:__main__:Error converting video to audio: index -34910 is out of bounds for axis 0 with size 23965\n",
      "                                                       \r"
     ]
    },
    {
     "name": "stdout",
     "output_type": "stream",
     "text": [
      "MoviePy - Building file output_videoss/segment_49.gif with imageio.\n"
     ]
    },
    {
     "name": "stderr",
     "output_type": "stream",
     "text": [
      "ERROR:__main__:Error removing intermediate files: [WinError 32] The process cannot access the file because it is being used by another process: 'output_videoss/segment_49.mp4'\n",
      "INFO:__main__:Generated GIF with captions: output_videoss/segment_0.gif\n",
      "INFO:__main__:Generated GIF with captions: output_videoss/segment_1.gif\n",
      "INFO:__main__:Generated GIF with captions: output_videoss/segment_2.gif\n",
      "INFO:__main__:Generated GIF with captions: output_videoss/segment_3.gif\n",
      "INFO:__main__:Generated GIF with captions: output_videoss/segment_4.gif\n",
      "INFO:__main__:Generated GIF with captions: output_videoss/segment_5.gif\n",
      "INFO:__main__:Generated GIF with captions: output_videoss/segment_6.gif\n",
      "INFO:__main__:Generated GIF with captions: output_videoss/segment_7.gif\n",
      "INFO:__main__:Generated GIF with captions: output_videoss/segment_8.gif\n",
      "INFO:__main__:Generated GIF with captions: output_videoss/segment_9.gif\n",
      "INFO:__main__:Generated GIF with captions: output_videoss/segment_10.gif\n",
      "INFO:__main__:Generated GIF with captions: output_videoss/segment_11.gif\n",
      "INFO:__main__:Generated GIF with captions: output_videoss/segment_12.gif\n",
      "INFO:__main__:Generated GIF with captions: output_videoss/segment_13.gif\n",
      "INFO:__main__:Generated GIF with captions: output_videoss/segment_14.gif\n",
      "INFO:__main__:Generated GIF with captions: output_videoss/segment_15.gif\n",
      "INFO:__main__:Generated GIF with captions: output_videoss/segment_16.gif\n",
      "INFO:__main__:Generated GIF with captions: output_videoss/segment_17.gif\n",
      "INFO:__main__:Generated GIF with captions: output_videoss/segment_18.gif\n",
      "INFO:__main__:Generated GIF with captions: output_videoss/segment_19.gif\n",
      "INFO:__main__:Generated GIF with captions: output_videoss/segment_20.gif\n",
      "INFO:__main__:Generated GIF with captions: output_videoss/segment_21.gif\n",
      "INFO:__main__:Generated GIF with captions: output_videoss/segment_22.gif\n",
      "INFO:__main__:Generated GIF with captions: output_videoss/segment_23.gif\n",
      "INFO:__main__:Generated GIF with captions: output_videoss/segment_24.gif\n",
      "INFO:__main__:Generated GIF with captions: output_videoss/segment_25.gif\n",
      "INFO:__main__:Generated GIF with captions: output_videoss/segment_26.gif\n",
      "INFO:__main__:Generated GIF with captions: output_videoss/segment_27.gif\n",
      "INFO:__main__:Generated GIF with captions: output_videoss/segment_28.gif\n",
      "INFO:__main__:Generated GIF with captions: output_videoss/segment_29.gif\n",
      "INFO:__main__:Generated GIF with captions: output_videoss/segment_30.gif\n",
      "INFO:__main__:Generated GIF with captions: output_videoss/segment_31.gif\n",
      "INFO:__main__:Generated GIF with captions: output_videoss/segment_32.gif\n",
      "INFO:__main__:Generated GIF with captions: output_videoss/segment_33.gif\n",
      "INFO:__main__:Generated GIF with captions: output_videoss/segment_34.gif\n",
      "INFO:__main__:Generated GIF with captions: output_videoss/segment_35.gif\n",
      "INFO:__main__:Generated GIF with captions: output_videoss/segment_36.gif\n",
      "INFO:__main__:Generated GIF with captions: output_videoss/segment_37.gif\n",
      "INFO:__main__:Generated GIF with captions: output_videoss/segment_38.gif\n",
      "INFO:__main__:Generated GIF with captions: output_videoss/segment_39.gif\n",
      "INFO:__main__:Generated GIF with captions: output_videoss/segment_40.gif\n",
      "INFO:__main__:Generated GIF with captions: output_videoss/segment_41.gif\n",
      "INFO:__main__:Generated GIF with captions: output_videoss/segment_42.gif\n",
      "INFO:__main__:Generated GIF with captions: output_videoss/segment_43.gif\n",
      "INFO:__main__:Generated GIF with captions: output_videoss/segment_44.gif\n",
      "INFO:__main__:Generated GIF with captions: output_videoss/segment_45.gif\n",
      "INFO:__main__:Generated GIF with captions: output_videoss/segment_46.gif\n",
      "INFO:__main__:Generated GIF with captions: output_videoss/segment_47.gif\n",
      "INFO:__main__:Generated GIF with captions: output_videoss/segment_48.gif\n",
      "INFO:__main__:Generated GIF with captions: output_videoss/segment_49.gif\n"
     ]
    }
   ],
   "source": [
    "import os\n",
    "from moviepy.editor import VideoFileClip\n",
    "from moviepy.video.io.ffmpeg_tools import ffmpeg_extract_subclip\n",
    "from pydub import AudioSegment, silence\n",
    "import whisper\n",
    "import cv2\n",
    "import logging\n",
    "\n",
    "# Setup logging\n",
    "logging.basicConfig(level=logging.INFO)\n",
    "logger = logging.getLogger(__name__)\n",
    "\n",
    "# Load the Whisper model\n",
    "logger.info(\"Loading Whisper model...\")\n",
    "model = whisper.load_model(\"base\")  # Load the default model\n",
    "logger.info(\"Model loaded.\")\n",
    "\n",
    "def detect_silence(audio_path, silence_thresh=-40, min_silence_len=500):\n",
    "    audio = AudioSegment.from_file(audio_path)\n",
    "    logger.info(\"Analyzing audio for silence...\")\n",
    "    silent_ranges = silence.detect_silence(\n",
    "        audio, \n",
    "        min_silence_len=min_silence_len,\n",
    "        silence_thresh=silence_thresh\n",
    "    )\n",
    "    silent_ranges = [(start / 1000, end / 1000) for start, end in silent_ranges]  # Convert to seconds\n",
    "    return silent_ranges\n",
    "\n",
    "def get_non_silent_segments(silent_segments, video_duration):\n",
    "    non_silent_segments = []\n",
    "    previous_end = 0\n",
    "    for start, end in silent_segments:\n",
    "        if start > previous_end:\n",
    "            non_silent_segments.append((previous_end, start))\n",
    "        previous_end = end\n",
    "    if previous_end < video_duration:\n",
    "        non_silent_segments.append((previous_end, video_duration))\n",
    "    return non_silent_segments\n",
    "\n",
    "def cut_video_segment(video_path, start_time, end_time, output_path):\n",
    "    logger.info(f\"Cutting video segment: start_time={start_time}, end_time={end_time}, output_path={output_path}\")\n",
    "    try:\n",
    "        ffmpeg_extract_subclip(video_path, start_time, end_time, targetname=output_path)\n",
    "        logger.info(\"Video segment cut.\")\n",
    "    except Exception as e:\n",
    "        logger.error(f\"Error cutting video segment: {e}\")\n",
    "\n",
    "def convert_video_to_audio(video_path, audio_path):\n",
    "    try:\n",
    "        video_clip = VideoFileClip(video_path)\n",
    "        video_clip.audio.write_audiofile(audio_path)\n",
    "        video_clip.close()\n",
    "    except Exception as e:\n",
    "        logger.error(f\"Error converting video to audio: {e}\")\n",
    "\n",
    "def transcribe_audio(audio_path):\n",
    "    try:\n",
    "        result = model.transcribe(audio_path)\n",
    "        return result['text']\n",
    "    except Exception as e:\n",
    "        logger.error(f\"Error transcribing audio: {e}\")\n",
    "        return \"\"\n",
    "\n",
    "def overlay_text_on_video(video_path, output_path, text):\n",
    "    try:\n",
    "        cap = cv2.VideoCapture(video_path)\n",
    "        fps = cap.get(cv2.CAP_PROP_FPS)\n",
    "        width = int(cap.get(cv2.CAP_PROP_FRAME_WIDTH))\n",
    "        height = int(cap.get(cv2.CAP_PROP_FRAME_HEIGHT))\n",
    "\n",
    "        out = cv2.VideoWriter(output_path, cv2.VideoWriter_fourcc(*'mp4v'), fps, (width, height))\n",
    "\n",
    "        while True:\n",
    "            ret, frame = cap.read()\n",
    "            if not ret:\n",
    "                break\n",
    "            \n",
    "            font_scale = 3\n",
    "            thickness = 10\n",
    "            color = (255, 255, 255)\n",
    "            text_size = cv2.getTextSize(text, cv2.FONT_HERSHEY_SIMPLEX, font_scale, thickness)[0]\n",
    "            text_x = int((width - text_size[0]) / 2)\n",
    "            text_y = height - 100\n",
    "            cv2.putText(frame, text, (text_x, text_y), cv2.FONT_HERSHEY_SIMPLEX, font_scale, color, thickness, cv2.LINE_AA)\n",
    "\n",
    "            out.write(frame)\n",
    "\n",
    "        cap.release()\n",
    "        out.release()\n",
    "    except Exception as e:\n",
    "        logger.error(f\"Error overlaying text on video: {e}\")\n",
    "\n",
    "def convert_video_to_gif(input_video_path, output_gif_path):\n",
    "    try:\n",
    "        clip = VideoFileClip(input_video_path)\n",
    "        clip.write_gif(output_gif_path)\n",
    "        clip.close()\n",
    "    except Exception as e:\n",
    "        logger.error(f\"Error converting video to GIF: {e}\")\n",
    "\n",
    "def process_video(video_path, output_dir, silence_thresh=-40, min_silence_len=500):\n",
    "    audio_path = \"temp_audio.wav\"\n",
    "    \n",
    "    logger.info(f\"Extracting audio from video: {video_path}\")\n",
    "    try:\n",
    "        video = VideoFileClip(video_path)\n",
    "        video.audio.write_audiofile(audio_path)\n",
    "        video.close()\n",
    "    except Exception as e:\n",
    "        logger.error(f\"Error extracting audio from video: {e}\")\n",
    "        return []\n",
    "    \n",
    "    try:\n",
    "        silent_segments = detect_silence(audio_path, silence_thresh, min_silence_len)\n",
    "        logger.info(f\"Silent segments detected: {silent_segments}\")\n",
    "    except Exception as e:\n",
    "        logger.error(f\"Error detecting silence: {e}\")\n",
    "        return []\n",
    "    \n",
    "    os.remove(audio_path)\n",
    "    \n",
    "    video_duration = VideoFileClip(video_path).duration  # Reload video to get duration\n",
    "    non_silent_segments = get_non_silent_segments(silent_segments, video_duration)\n",
    "    logger.info(f\"Non-silent segments: {non_silent_segments}\")\n",
    "    \n",
    "    if not os.path.exists(output_dir):\n",
    "        os.makedirs(output_dir)\n",
    "    \n",
    "    output_files = []\n",
    "    for i, (start_time, end_time) in enumerate(non_silent_segments):\n",
    "        video_segment_path = f\"{output_dir}/segment_{i}.mp4\"\n",
    "        cut_video_segment(video_path, start_time, end_time, video_segment_path)\n",
    "        \n",
    "        segment_audio_path = f\"{output_dir}/segment_{i}_audio.wav\"\n",
    "        convert_video_to_audio(video_segment_path, segment_audio_path)\n",
    "        transcription = transcribe_audio(segment_audio_path)\n",
    "        video_with_text_path = f\"{output_dir}/segment_{i}_with_text.mp4\"\n",
    "        overlay_text_on_video(video_segment_path, video_with_text_path, transcription)\n",
    "        \n",
    "        gif_path = f\"{output_dir}/segment_{i}.gif\"\n",
    "        convert_video_to_gif(video_with_text_path, gif_path)\n",
    "        \n",
    "        try:\n",
    "            os.remove(video_segment_path)\n",
    "            os.remove(segment_audio_path)\n",
    "            os.remove(video_with_text_path)\n",
    "        except Exception as e:\n",
    "            logger.error(f\"Error removing intermediate files: {e}\")\n",
    "        \n",
    "        output_files.append(gif_path)\n",
    "    \n",
    "    return output_files\n",
    "\n",
    "# Example usage\n",
    "video_path = \"C:/Users/91636/video.mp4\"  # Provide the correct path to your video file\n",
    "output_dir = \"output_videoss\"\n",
    "\n",
    "try:\n",
    "    output_files = process_video(video_path, output_dir)\n",
    "    for file in output_files:\n",
    "        logger.info(f\"Generated GIF with captions: {file}\")\n",
    "except Exception as e:\n",
    "    logger.error(f\"Error occurred: {e}\")\n"
   ]
  },
  {
   "cell_type": "code",
   "execution_count": null,
   "id": "80436ed7-bad9-4e52-896a-7cb97c406abc",
   "metadata": {},
   "outputs": [],
   "source": []
  }
 ],
 "metadata": {
  "kernelspec": {
   "display_name": "Python 3 (ipykernel)",
   "language": "python",
   "name": "python3"
  },
  "language_info": {
   "codemirror_mode": {
    "name": "ipython",
    "version": 3
   },
   "file_extension": ".py",
   "mimetype": "text/x-python",
   "name": "python",
   "nbconvert_exporter": "python",
   "pygments_lexer": "ipython3",
   "version": "3.11.5"
  }
 },
 "nbformat": 4,
 "nbformat_minor": 5
}
