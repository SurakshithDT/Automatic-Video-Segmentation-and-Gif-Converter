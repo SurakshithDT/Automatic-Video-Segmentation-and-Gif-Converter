{
 "cells": [
  {
   "cell_type": "code",
   "execution_count": 4,
   "id": "177f0a9a-df74-4acb-839b-944a3c8f65a0",
   "metadata": {},
   "outputs": [
    {
     "name": "stdout",
     "output_type": "stream",
     "text": [
      "Requirement already satisfied: flask in c:\\users\\91636\\anaconda3\\conda\\lib\\site-packages (3.0.3)\n",
      "Requirement already satisfied: werkzeug in c:\\users\\91636\\anaconda3\\conda\\lib\\site-packages (3.0.3)\n",
      "Requirement already satisfied: Jinja2>=3.1.2 in c:\\users\\91636\\anaconda3\\conda\\lib\\site-packages (from flask) (3.1.2)\n",
      "Requirement already satisfied: itsdangerous>=2.1.2 in c:\\users\\91636\\anaconda3\\conda\\lib\\site-packages (from flask) (2.2.0)\n",
      "Requirement already satisfied: click>=8.1.3 in c:\\users\\91636\\anaconda3\\conda\\lib\\site-packages (from flask) (8.1.7)\n",
      "Requirement already satisfied: blinker>=1.6.2 in c:\\users\\91636\\anaconda3\\conda\\lib\\site-packages (from flask) (1.6.2)\n",
      "Requirement already satisfied: MarkupSafe>=2.1.1 in c:\\users\\91636\\anaconda3\\conda\\lib\\site-packages (from werkzeug) (2.1.1)\n",
      "Requirement already satisfied: colorama in c:\\users\\91636\\anaconda3\\conda\\lib\\site-packages (from click>=8.1.3->flask) (0.4.6)\n"
     ]
    },
    {
     "name": "stderr",
     "output_type": "stream",
     "text": [
      "WARNING: Retrying (Retry(total=4, connect=None, read=None, redirect=None, status=None)) after connection broken by 'ReadTimeoutError(\"HTTPSConnectionPool(host='pypi.org', port=443): Read timed out. (read timeout=15)\")': /simple/flask/\n",
      "WARNING: Retrying (Retry(total=3, connect=None, read=None, redirect=None, status=None)) after connection broken by 'ReadTimeoutError(\"HTTPSConnectionPool(host='pypi.org', port=443): Read timed out. (read timeout=15)\")': /simple/flask/\n",
      "WARNING: Retrying (Retry(total=2, connect=None, read=None, redirect=None, status=None)) after connection broken by 'ReadTimeoutError(\"HTTPSConnectionPool(host='pypi.org', port=443): Read timed out. (read timeout=15)\")': /simple/flask/\n",
      "WARNING: Retrying (Retry(total=4, connect=None, read=None, redirect=None, status=None)) after connection broken by 'ReadTimeoutError(\"HTTPSConnectionPool(host='pypi.org', port=443): Read timed out. (read timeout=15)\")': /simple/werkzeug/\n",
      "WARNING: Retrying (Retry(total=3, connect=None, read=None, redirect=None, status=None)) after connection broken by 'ProtocolError('Connection aborted.', ConnectionResetError(10054, 'An existing connection was forcibly closed by the remote host', None, 10054, None))': /simple/werkzeug/\n",
      "WARNING: Retrying (Retry(total=2, connect=None, read=None, redirect=None, status=None)) after connection broken by 'NewConnectionError('<pip._vendor.urllib3.connection.HTTPSConnection object at 0x000001E8A064BDD0>: Failed to establish a new connection: [Errno 11001] getaddrinfo failed')': /simple/werkzeug/\n",
      "WARNING: Retrying (Retry(total=1, connect=None, read=None, redirect=None, status=None)) after connection broken by 'NewConnectionError('<pip._vendor.urllib3.connection.HTTPSConnection object at 0x000001E8A0650090>: Failed to establish a new connection: [Errno 11001] getaddrinfo failed')': /simple/werkzeug/\n",
      "WARNING: Retrying (Retry(total=0, connect=None, read=None, redirect=None, status=None)) after connection broken by 'NewConnectionError('<pip._vendor.urllib3.connection.HTTPSConnection object at 0x000001E8A0650E50>: Failed to establish a new connection: [Errno 11001] getaddrinfo failed')': /simple/werkzeug/\n"
     ]
    }
   ],
   "source": [
    "!pip install --upgrade flask werkzeug\n"
   ]
  },
  {
   "cell_type": "code",
   "execution_count": 5,
   "id": "484c4224-cc50-4377-adc4-6202bb3eb29b",
   "metadata": {},
   "outputs": [
    {
     "name": "stdout",
     "output_type": "stream",
     "text": [
      "Requirement already satisfied: flask in c:\\users\\91636\\anaconda3\\conda\\lib\\site-packages (3.0.3)\n",
      "Requirement already satisfied: moviepy in c:\\users\\91636\\anaconda3\\conda\\lib\\site-packages (1.0.3)\n",
      "Requirement already satisfied: pydub in c:\\users\\91636\\anaconda3\\conda\\lib\\site-packages (0.25.1)\n",
      "Requirement already satisfied: whisper in c:\\users\\91636\\anaconda3\\conda\\lib\\site-packages (1.1.10)\n",
      "Requirement already satisfied: opencv-python in c:\\users\\91636\\anaconda3\\conda\\lib\\site-packages (4.8.1.78)\n",
      "Requirement already satisfied: Werkzeug>=3.0.0 in c:\\users\\91636\\anaconda3\\conda\\lib\\site-packages (from flask) (3.0.3)\n",
      "Requirement already satisfied: Jinja2>=3.1.2 in c:\\users\\91636\\anaconda3\\conda\\lib\\site-packages (from flask) (3.1.2)\n",
      "Requirement already satisfied: itsdangerous>=2.1.2 in c:\\users\\91636\\anaconda3\\conda\\lib\\site-packages (from flask) (2.2.0)\n",
      "Requirement already satisfied: click>=8.1.3 in c:\\users\\91636\\anaconda3\\conda\\lib\\site-packages (from flask) (8.1.7)\n",
      "Requirement already satisfied: blinker>=1.6.2 in c:\\users\\91636\\anaconda3\\conda\\lib\\site-packages (from flask) (1.6.2)\n",
      "Requirement already satisfied: decorator<5.0,>=4.0.2 in c:\\users\\91636\\anaconda3\\conda\\lib\\site-packages (from moviepy) (4.4.2)\n",
      "Requirement already satisfied: tqdm<5.0,>=4.11.2 in c:\\users\\91636\\anaconda3\\conda\\lib\\site-packages (from moviepy) (4.65.0)\n",
      "Requirement already satisfied: requests<3.0,>=2.8.1 in c:\\users\\91636\\anaconda3\\conda\\lib\\site-packages (from moviepy) (2.31.0)\n",
      "Requirement already satisfied: proglog<=1.0.0 in c:\\users\\91636\\anaconda3\\conda\\lib\\site-packages (from moviepy) (0.1.10)\n",
      "Requirement already satisfied: numpy>=1.17.3 in c:\\users\\91636\\anaconda3\\conda\\lib\\site-packages (from moviepy) (1.26.2)\n",
      "Requirement already satisfied: imageio<3.0,>=2.5 in c:\\users\\91636\\anaconda3\\conda\\lib\\site-packages (from moviepy) (2.34.1)\n",
      "Requirement already satisfied: imageio-ffmpeg>=0.2.0 in c:\\users\\91636\\anaconda3\\conda\\lib\\site-packages (from moviepy) (0.5.1)\n",
      "Requirement already satisfied: six in c:\\users\\91636\\anaconda3\\conda\\lib\\site-packages (from whisper) (1.16.0)\n",
      "Requirement already satisfied: colorama in c:\\users\\91636\\anaconda3\\conda\\lib\\site-packages (from click>=8.1.3->flask) (0.4.6)\n",
      "Requirement already satisfied: pillow>=8.3.2 in c:\\users\\91636\\anaconda3\\conda\\lib\\site-packages (from imageio<3.0,>=2.5->moviepy) (10.0.1)\n",
      "Requirement already satisfied: setuptools in c:\\users\\91636\\anaconda3\\conda\\lib\\site-packages (from imageio-ffmpeg>=0.2.0->moviepy) (68.0.0)\n",
      "Requirement already satisfied: MarkupSafe>=2.0 in c:\\users\\91636\\anaconda3\\conda\\lib\\site-packages (from Jinja2>=3.1.2->flask) (2.1.1)\n",
      "Requirement already satisfied: charset-normalizer<4,>=2 in c:\\users\\91636\\anaconda3\\conda\\lib\\site-packages (from requests<3.0,>=2.8.1->moviepy) (2.0.4)\n",
      "Requirement already satisfied: idna<4,>=2.5 in c:\\users\\91636\\anaconda3\\conda\\lib\\site-packages (from requests<3.0,>=2.8.1->moviepy) (3.4)\n",
      "Requirement already satisfied: urllib3<3,>=1.21.1 in c:\\users\\91636\\anaconda3\\conda\\lib\\site-packages (from requests<3.0,>=2.8.1->moviepy) (1.26.18)\n",
      "Requirement already satisfied: certifi>=2017.4.17 in c:\\users\\91636\\anaconda3\\conda\\lib\\site-packages (from requests<3.0,>=2.8.1->moviepy) (2024.6.2)\n"
     ]
    }
   ],
   "source": [
    "!pip install flask moviepy pydub whisper opencv-python\n"
   ]
  },
  {
   "cell_type": "code",
   "execution_count": 6,
   "id": "9ac3fe07-2a22-498d-b2a6-b666a62a60fd",
   "metadata": {},
   "outputs": [
    {
     "name": "stdout",
     "output_type": "stream",
     "text": [
      "Requirement already satisfied: regex in c:\\users\\91636\\anaconda3\\conda\\lib\\site-packages (2024.5.15)Note: you may need to restart the kernel to use updated packages.\n",
      "\n"
     ]
    }
   ],
   "source": [
    "pip install regex\n"
   ]
  },
  {
   "cell_type": "code",
   "execution_count": 7,
   "id": "066ebb4c-3417-498b-9dc5-71734cdf3100",
   "metadata": {},
   "outputs": [
    {
     "name": "stdout",
     "output_type": "stream",
     "text": [
      "Requirement already satisfied: pytube in c:\\users\\91636\\anaconda3\\conda\\lib\\site-packages (15.0.0)Note: you may need to restart the kernel to use updated packages.\n",
      "\n"
     ]
    }
   ],
   "source": [
    "pip install pytube\n"
   ]
  },
  {
   "cell_type": "code",
   "execution_count": 9,
   "id": "1b74e7ab-7f31-4fa9-8c68-cf658b5b10c0",
   "metadata": {},
   "outputs": [],
   "source": [
    "import warnings\n",
    "warnings.filterwarnings(\"ignore\")"
   ]
  },
  {
   "cell_type": "code",
   "execution_count": 8,
   "id": "76f09cd4-b4e7-4d54-9434-ef2fc930c209",
   "metadata": {},
   "outputs": [
    {
     "name": "stdout",
     "output_type": "stream",
     "text": [
      "Requirement already satisfied: numba in c:\\users\\91636\\anaconda3\\conda\\lib\\site-packages (0.60.0)\n",
      "Requirement already satisfied: llvmlite<0.44,>=0.43.0dev0 in c:\\users\\91636\\anaconda3\\conda\\lib\\site-packages (from numba) (0.43.0)\n",
      "Requirement already satisfied: numpy<2.1,>=1.22 in c:\\users\\91636\\anaconda3\\conda\\lib\\site-packages (from numba) (1.26.2)\n",
      "Note: you may need to restart the kernel to use updated packages.\n"
     ]
    }
   ],
   "source": [
    "pip install numba"
   ]
  },
  {
   "cell_type": "code",
   "execution_count": 12,
   "id": "a6ef62d0-1852-4c67-853a-1c71d5ed7a7e",
   "metadata": {},
   "outputs": [
    {
     "name": "stderr",
     "output_type": "stream",
     "text": [
      "INFO:__main__:Loading Whisper model...\n",
      "INFO:__main__:Model loaded.\n"
     ]
    },
    {
     "name": "stdout",
     "output_type": "stream",
     "text": [
      " * Serving Flask app '__main__'\n",
      " * Debug mode: on\n"
     ]
    },
    {
     "name": "stderr",
     "output_type": "stream",
     "text": [
      "INFO:werkzeug:\u001b[31m\u001b[1mWARNING: This is a development server. Do not use it in a production deployment. Use a production WSGI server instead.\u001b[0m\n",
      " * Running on http://127.0.0.1:5000\n",
      "INFO:werkzeug:\u001b[33mPress CTRL+C to quit\u001b[0m\n",
      "INFO:werkzeug: * Restarting with stat\n",
      "INFO:werkzeug:127.0.0.1 - - [27/Jun/2024 21:31:38] \"GET / HTTP/1.1\" 200 -\n"
     ]
    },
    {
     "ename": "SystemExit",
     "evalue": "1",
     "output_type": "error",
     "traceback": [
      "An exception has occurred, use %tb to see the full traceback.\n",
      "\u001b[1;31mSystemExit\u001b[0m\u001b[1;31m:\u001b[0m 1\n"
     ]
    }
   ],
   "source": [
    "# # Set the environment variable to avoid OpenMP runtime error\n",
    "import os\n",
    "os.environ['KMP_DUPLICATE_LIB_OK'] = 'TRUE'\n",
    "\n",
    "from flask import Flask, render_template, request, redirect, url_for, send_from_directory\n",
    "import whisper\n",
    "from pydub import AudioSegment, silence\n",
    "from moviepy.editor import VideoFileClip\n",
    "import cv2\n",
    "\n",
    "app = Flask(__name__, template_folder='te')\n",
    "UPLOAD_FOLDER = 'uploaded_videos'\n",
    "PROCESSED_FOLDER = 'processed_gifs'\n",
    "app.config['UPLOAD_FOLDER'] = UPLOAD_FOLDER\n",
    "app.config['PROCESSED_FOLDER'] = PROCESSED_FOLDER\n",
    "\n",
    "if not os.path.exists(UPLOAD_FOLDER):\n",
    "    os.makedirs(UPLOAD_FOLDER)\n",
    "if not os.path.exists(PROCESSED_FOLDER):\n",
    "    os.makedirs(PROCESSED_FOLDER)\n",
    "\n",
    "# Load the Whisper model\n",
    "import os\n",
    "from moviepy.editor import VideoFileClip\n",
    "from moviepy.video.io.ffmpeg_tools import ffmpeg_extract_subclip\n",
    "from pydub import AudioSegment, silence\n",
    "import whisper\n",
    "import cv2\n",
    "import logging\n",
    "\n",
    "# Setup logging\n",
    "logging.basicConfig(level=logging.INFO)\n",
    "logger = logging.getLogger(__name__)\n",
    "\n",
    "# Load the Whisper model\n",
    "logger.info(\"Loading Whisper model...\")\n",
    "model = whisper.load_model(\"base\")  # Load the default model\n",
    "logger.info(\"Model loaded.\")\n",
    "\n",
    "def detect_silence(audio_path, silence_thresh=-40, min_silence_len=500):\n",
    "    audio = AudioSegment.from_file(audio_path)\n",
    "    logger.info(\"Analyzing audio for silence...\")\n",
    "    silent_ranges = silence.detect_silence(\n",
    "        audio, \n",
    "        min_silence_len=min_silence_len,\n",
    "        silence_thresh=silence_thresh\n",
    "    )\n",
    "    silent_ranges = [(start / 1000, end / 1000) for start, end in silent_ranges]  # Convert to seconds\n",
    "    return silent_ranges\n",
    "\n",
    "def get_non_silent_segments(silent_segments, video_duration):\n",
    "    non_silent_segments = []\n",
    "    previous_end = 0\n",
    "    for start, end in silent_segments:\n",
    "        if start > previous_end:\n",
    "            non_silent_segments.append((previous_end, start))\n",
    "        previous_end = end\n",
    "    if previous_end < video_duration:\n",
    "        non_silent_segments.append((previous_end, video_duration))\n",
    "    return non_silent_segments\n",
    "\n",
    "def cut_video_segment(video_path, start_time, end_time, output_path):\n",
    "    logger.info(f\"Cutting video segment: start_time={start_time}, end_time={end_time}, output_path={output_path}\")\n",
    "    try:\n",
    "        ffmpeg_extract_subclip(video_path, start_time, end_time, targetname=output_path)\n",
    "        logger.info(\"Video segment cut.\")\n",
    "    except Exception as e:\n",
    "        logger.error(f\"Error cutting video segment: {e}\")\n",
    "\n",
    "def convert_video_to_audio(video_path, audio_path):\n",
    "    try:\n",
    "        video_clip = VideoFileClip(video_path)\n",
    "        video_clip.audio.write_audiofile(audio_path)\n",
    "        video_clip.close()\n",
    "    except Exception as e:\n",
    "        logger.error(f\"Error converting video to audio: {e}\")\n",
    "\n",
    "def transcribe_audio(audio_path):\n",
    "    try:\n",
    "        result = model.transcribe(audio_path)\n",
    "        return result['text']\n",
    "    except Exception as e:\n",
    "        logger.error(f\"Error transcribing audio: {e}\")\n",
    "        return \"\"\n",
    "\n",
    "def overlay_text_on_video(video_path, output_path, text):\n",
    "    try:\n",
    "        cap = cv2.VideoCapture(video_path)\n",
    "        fps = cap.get(cv2.CAP_PROP_FPS)\n",
    "        width = int(cap.get(cv2.CAP_PROP_FRAME_WIDTH))\n",
    "        height = int(cap.get(cv2.CAP_PROP_FRAME_HEIGHT))\n",
    "\n",
    "        out = cv2.VideoWriter(output_path, cv2.VideoWriter_fourcc(*'mp4v'), fps, (width, height))\n",
    "\n",
    "        while True:\n",
    "            ret, frame = cap.read()\n",
    "            if not ret:\n",
    "                break\n",
    "            \n",
    "            font_scale = 3\n",
    "            thickness = 10\n",
    "            color = (255, 255, 255)\n",
    "            text_size = cv2.getTextSize(text, cv2.FONT_HERSHEY_SIMPLEX, font_scale, thickness)[0]\n",
    "            text_x = int((width - text_size[0]) / 2)\n",
    "            text_y = height - 100\n",
    "            cv2.putText(frame, text, (text_x, text_y), cv2.FONT_HERSHEY_SIMPLEX, font_scale, color, thickness, cv2.LINE_AA)\n",
    "\n",
    "            out.write(frame)\n",
    "\n",
    "        cap.release()\n",
    "        out.release()\n",
    "    except Exception as e:\n",
    "        logger.error(f\"Error overlaying text on video: {e}\")\n",
    "\n",
    "def convert_video_to_gif(input_video_path, output_gif_path):\n",
    "    try:\n",
    "        clip = VideoFileClip(input_video_path)\n",
    "        clip.write_gif(output_gif_path)\n",
    "        clip.close()\n",
    "    except Exception as e:\n",
    "        logger.error(f\"Error converting video to GIF: {e}\")\n",
    "\n",
    "def process_video(video_path, output_dir, silence_thresh=-40, min_silence_len=500):\n",
    "    audio_path = \"temp_audio.wav\"\n",
    "    \n",
    "    logger.info(f\"Extracting audio from video: {video_path}\")\n",
    "    try:\n",
    "        video = VideoFileClip(video_path)\n",
    "        video.audio.write_audiofile(audio_path)\n",
    "        video.close()\n",
    "    except Exception as e:\n",
    "        logger.error(f\"Error extracting audio from video: {e}\")\n",
    "        return []\n",
    "    \n",
    "    try:\n",
    "        silent_segments = detect_silence(audio_path, silence_thresh, min_silence_len)\n",
    "        logger.info(f\"Silent segments detected: {silent_segments}\")\n",
    "    except Exception as e:\n",
    "        logger.error(f\"Error detecting silence: {e}\")\n",
    "        return []\n",
    "    \n",
    "    os.remove(audio_path)\n",
    "    \n",
    "    video_duration = VideoFileClip(video_path).duration  # Reload video to get duration\n",
    "    non_silent_segments = get_non_silent_segments(silent_segments, video_duration)\n",
    "    logger.info(f\"Non-silent segments: {non_silent_segments}\")\n",
    "    \n",
    "    if not os.path.exists(output_dir):\n",
    "        os.makedirs(output_dir)\n",
    "    \n",
    "    output_files = []\n",
    "    for i, (start_time, end_time) in enumerate(non_silent_segments):\n",
    "        video_segment_path = f\"{output_dir}/segment_{i}.mp4\"\n",
    "        cut_video_segment(video_path, start_time, end_time, video_segment_path)\n",
    "        \n",
    "        segment_audio_path = f\"{output_dir}/segment_{i}_audio.wav\"\n",
    "        convert_video_to_audio(video_segment_path, segment_audio_path)\n",
    "        transcription = transcribe_audio(segment_audio_path)\n",
    "        video_with_text_path = f\"{output_dir}/segment_{i}_with_text.mp4\"\n",
    "        overlay_text_on_video(video_segment_path, video_with_text_path, transcription)\n",
    "        \n",
    "        gif_path = f\"{output_dir}/segment_{i}.gif\"\n",
    "        convert_video_to_gif(video_with_text_path, gif_path)\n",
    "        \n",
    "        try:\n",
    "            os.remove(video_segment_path)\n",
    "            os.remove(segment_audio_path)\n",
    "            os.remove(video_with_text_path)\n",
    "        except Exception as e:\n",
    "            logger.error(f\"Error removing intermediate files: {e}\")\n",
    "        \n",
    "        output_files.append(gif_path)\n",
    "    \n",
    "    return output_files\n",
    "\n",
    "@app.route('/')\n",
    "def index():\n",
    "    return render_template('index.html')\n",
    "\n",
    "@app.route('/upload', methods=['POST'])\n",
    "def upload_video():\n",
    "    if 'file' not in request.files:\n",
    "        return redirect(request.url)\n",
    "    file = request.files['file']\n",
    "    if file.filename == '':\n",
    "        return redirect(request.url)\n",
    "    if file:\n",
    "        file_path = os.path.join(app.config['UPLOAD_FOLDER'], file.filename)\n",
    "        file.save(file_path)\n",
    "        process_video(file_path, app.config['PROCESSED_FOLDER'])\n",
    "        return redirect(url_for('processed_files'))\n",
    "\n",
    "@app.route('/processed_files')\n",
    "def processed_files():\n",
    "    files = os.listdir(app.config['PROCESSED_FOLDER'])\n",
    "    return render_template('processed_files.html', files=files)\n",
    "\n",
    "@app.route('/processed_files/<filename>')\n",
    "def processed_file(filename):\n",
    "    return send_from_directory(app.config['PROCESSED_FOLDER'], filename)\n",
    "\n",
    "if __name__ == '__main__':\n",
    "    app.run(debug=True)\n"
   ]
  },
  {
   "cell_type": "code",
   "execution_count": null,
   "id": "cb536cf1-cf29-43a8-b2fe-b26c473831ca",
   "metadata": {},
   "outputs": [
    {
     "name": "stderr",
     "output_type": "stream",
     "text": [
      "INFO:__main__:Extracting audio from video: uploaded_videos\\test_video.mp4\n"
     ]
    },
    {
     "name": "stdout",
     "output_type": "stream",
     "text": [
      "MoviePy - Writing audio in temp_audio.wav\n"
     ]
    },
    {
     "name": "stderr",
     "output_type": "stream",
     "text": [
      "INFO:__main__:Analyzing audio for silence...                     \n"
     ]
    },
    {
     "name": "stdout",
     "output_type": "stream",
     "text": [
      "MoviePy - Done.\n"
     ]
    },
    {
     "name": "stderr",
     "output_type": "stream",
     "text": [
      "INFO:__main__:Silent segments detected: [(0.0, 0.723), (1.689, 2.35)]\n",
      "INFO:__main__:Non-silent segments: [(0.723, 1.689)]\n",
      "INFO:__main__:Cutting video segment: start_time=0.723, end_time=1.689, output_path=processed_gifs/segment_0.mp4\n"
     ]
    },
    {
     "name": "stdout",
     "output_type": "stream",
     "text": [
      "Moviepy - Running:\n",
      ">>> \"+ \" \".join(cmd)\n"
     ]
    },
    {
     "name": "stderr",
     "output_type": "stream",
     "text": [
      "INFO:__main__:Video segment cut.\n"
     ]
    },
    {
     "name": "stdout",
     "output_type": "stream",
     "text": [
      "Moviepy - Command successful\n",
      "MoviePy - Writing audio in processed_gifs/segment_0_audio.wav\n"
     ]
    },
    {
     "name": "stderr",
     "output_type": "stream",
     "text": [
      "                                                               "
     ]
    },
    {
     "name": "stdout",
     "output_type": "stream",
     "text": [
      "MoviePy - Done.\n"
     ]
    },
    {
     "name": "stderr",
     "output_type": "stream",
     "text": [
      "\r"
     ]
    },
    {
     "name": "stdout",
     "output_type": "stream",
     "text": [
      "MoviePy - Building file processed_gifs/segment_0.gif with imageio.\n"
     ]
    },
    {
     "name": "stderr",
     "output_type": "stream",
     "text": [
      "INFO:werkzeug:127.0.0.1 - - [27/Jun/2024 21:33:26] \"\u001b[32mPOST /upload HTTP/1.1\u001b[0m\" 302 -\n",
      "INFO:werkzeug:127.0.0.1 - - [27/Jun/2024 21:33:26] \"GET /processed_files HTTP/1.1\" 200 -\n",
      "INFO:werkzeug:127.0.0.1 - - [27/Jun/2024 21:33:29] \"GET /processed_files/segment_0.gif HTTP/1.1\" 200 -\n"
     ]
    }
   ],
   "source": [
    "from werkzeug.serving import run_simple\n",
    "\n",
    "def run_flask_app():\n",
    "    run_simple('localhost', 5000, app)\n",
    "\n",
    "import threading\n",
    "threading.Thread(target=run_flask_app).start()\n"
   ]
  },
  {
   "cell_type": "code",
   "execution_count": null,
   "id": "9cb17585-9dcb-4a5b-99d1-97690252c7d6",
   "metadata": {},
   "outputs": [],
   "source": []
  },
  {
   "cell_type": "code",
   "execution_count": null,
   "id": "68dfd17e-4b5f-475f-bd00-88fb761c66b2",
   "metadata": {},
   "outputs": [],
   "source": []
  }
 ],
 "metadata": {
  "kernelspec": {
   "display_name": "Python 3 (ipykernel)",
   "language": "python",
   "name": "python3"
  },
  "language_info": {
   "codemirror_mode": {
    "name": "ipython",
    "version": 3
   },
   "file_extension": ".py",
   "mimetype": "text/x-python",
   "name": "python",
   "nbconvert_exporter": "python",
   "pygments_lexer": "ipython3",
   "version": "3.11.5"
  }
 },
 "nbformat": 4,
 "nbformat_minor": 5
}
